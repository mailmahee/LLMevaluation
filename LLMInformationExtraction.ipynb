{
 "cells": [
  {
   "cell_type": "markdown",
   "id": "be8da33c-eeb6-4d72-a0fc-89f9fb6a19fc",
   "metadata": {
    "tags": []
   },
   "source": [
    "<div class=\"alert alert-block alert-info\">\n",
    "\n",
    "# Model Evaluation Framework\n",
    "    \n",
    "This notebook attempts to provide a systematic approach for large language model evaluation, starting from a given business problem.\n"
   ]
  },
  {
   "cell_type": "markdown",
   "id": "d24283ee-03c6-45bf-a593-325a309e7ed5",
   "metadata": {},
   "source": [
    "Evaluating LLMs is a complex task. While there are benchmarks (e.g. https://huggingface.co/spaces/HuggingFaceH4/open_llm_leaderboard or https://crfm.stanford.edu/helm/latest/)\n",
    " available that provide a general view of how a particular LLM would perform in some common NLP tasks, most of evaluation frameworks/approaches are still evolving and none of them cover all aspects. It is important to understand which benchmark is the most relevant to a given use case, and to be mindful of the social aspects as well, and ultimately to evaluate LLMs against the data of your specific use case.\n",
    "    \n",
    "# Business problem\n",
    "Let's assume a financial analyst wants to use financial statements (balance sheets, income statements, operational reports, annual reports) to better understand the financial strength of a company to help assess risk and guide future investment decisions.\n",
    "\n",
    "To do this efficiently they need to extract information from these documents which consist largely of unstructured text.\n",
    "This notebook focuses on Amazon's annual report, but the this approach can easily be adopted to other documents and an entire corpus of documents."
   ]
  },
  {
   "cell_type": "markdown",
   "id": "ad47020c-9266-4740-99c2-0d330b90d460",
   "metadata": {},
   "source": [
    "# Solution architecture\n",
    "<img src=\"https://d3q8adh3y5sxpk.cloudfront.net/meetingrecordings/modelevaluation/architecture.png\" alt=\"LLM selection process\" width=\"900\" height=\"550\">\n",
    "There are various options for you to choose from in this process:\n",
    "\n",
    "- 1) Embeddings: Currently we are using amazon.titan-embed-text-v1, but will switch to amazon.titan-e1t-medium once generally available. \n",
    "- 2) Text Splitter: We used TokenTextSplitter from langchain. Other supported options within langchain are CharacterTextSplitter, RecursiveCharacterTextSplitter, or RecursiveCharacterTextSplitter. Which Splitter works best will vary based on your use case and source data types. In addition there are other libraries like unstructured or eparse available that can further improve retrieval relevance.\n",
    "- 3) Vector Store: We used OpenSearch Serverless as our vector database to store embeddings. And while there are many vector databases available, you typically don't need a dedicated vector database, rather you can leverage a database that already hosts your data and supports vetor search such as PG Vector with RDS or OpenSearch. Data gravity is definitely a strong decision factor.  \n",
    "- 4) Retrievers: OpenSearch VectoreStoreRetriver using KNN for similarity search. In general to retrieve text, there are two search types: “similarity” or “mmr”. search_type=\"similarity\" uses similarity search and the retriever object where it selects text chunk vectors that are most similar to the question vector. search_type=\"mmr\" uses the maximum marginal relevance search where it optimizes for similarity to query AND diversity among selected documents.\n",
    "- 5) Chain Type: The default chain_type=\"stuff\" uses ALL of the text from the documents in the prompt. This might work fine for information extraction within one document, but will not work for information extraction from very large documents or a large corpus of documents. This is where the \"map_reduce\" chain type comes in. map_reduce separates texts into batches and feeds each batch with the question to the LLM separately, and comes up with the final answer based on the answers from each batch. In contrast the \"refine\" chain type separates texts into batches, feeds the first batch to LLM, and feeds the answer and the second batch to LLM. It refines the answer by going through all the batches. And lastly, \"map-rerank\"  separates texts into batches, feeds each batch to LLM, returns a score of how fully it answers the question, and comes up with the final answer based on the high-scored answers from each batch.\n",
    "- 6) Prompt Template: In addition to the model size, model type (instruct, chat, light, instant, hf), precision (fp32, fp16), and quantization itself and the options referenced above, there are other variables that impact the response of an LLM, such as:<br>\n",
    "Model parameters: Maximum tokens, temperature, top-p, top-k, and frequency penalty<br>\n",
    "User prompt: Changing even a single word or punctuation may result in vastly different responses<br>\n",
    "Prompt template: Determines tone, tenor, pace, mood, voice, syntax, diction, format, and length of response and helps enforce the use of the supplied contextual reference\n"
   ]
  },
  {
   "cell_type": "markdown",
   "id": "755e3868-2d5b-4c5f-8f45-9a5e68f0a78b",
   "metadata": {},
   "source": [
    "# Evaluation\n",
    "\n",
    "There are numerous evaluation methods and metrics available, and which one you want to consider will depend on the use case. For example for text summarization, ROUGE or a Judge approach are quite common. Given that the focus of this notebook is an information extraction use case, we will focus on the below evaluation methods and metrics.\n",
    "\n",
    "1) Visualize results for human review\n",
    "2) Calculate Jaccard Similarity scores of LLM responses compared to Ground Truth \n",
    "3) Calculate Cosine Similarity scores of LLM responses compared to Ground Truth\n",
    "4) Perform a qualitative assessment of the responses using Claude-as-a-Judge"
   ]
  },
  {
   "cell_type": "code",
   "execution_count": null,
   "id": "ea6dd86c-115c-49b9-b112-548edf312d33",
   "metadata": {
    "tags": []
   },
   "outputs": [],
   "source": [
    "# install dependencies\n",
    "%pip uninstall awscli boto3 botocore langchain  -y\n",
    "\n",
    "%pip install --no-build-isolation --force-reinstall \\\n",
    "    \"boto3>=1.28.57\" \\\n",
    "    \"awscli>=1.29.57\" \\\n",
    "    \"botocore>=1.31.57\"\n",
    "\n",
    "%pip install --quiet langchain==0.0.309 --force-reinstall\n",
    "%pip install plotly tiktoken nltk python-dotenv xmltodict requests-aws4auth pypdf opensearch-py"
   ]
  },
  {
   "cell_type": "code",
   "execution_count": 98,
   "id": "ba52a1c8-3b25-4bfa-bbff-5bbbd5de31c6",
   "metadata": {
    "tags": []
   },
   "outputs": [
    {
     "data": {
      "text/html": [
       "<script>Jupyter.notebook.kernel.restart()</script>"
      ]
     },
     "metadata": {},
     "output_type": "display_data"
    }
   ],
   "source": [
    "# restart kernel to ensure proper version of libraries is loaded\n",
    "from IPython.display import display_html\n",
    "def restartkernel() :\n",
    "    display_html(\"<script>Jupyter.notebook.kernel.restart()</script>\",raw=True)\n",
    "restartkernel()"
   ]
  },
  {
   "cell_type": "code",
   "execution_count": null,
   "id": "6b6646c5-8ccf-4e0b-8ea8-0501c379d551",
   "metadata": {
    "tags": []
   },
   "outputs": [],
   "source": [
    "!pip list | grep -E \"awscli|boto3|botocore|langchain\""
   ]
  },
  {
   "cell_type": "code",
   "execution_count": null,
   "id": "8e938c8c-5e0b-483c-9efd-84c7c9d4e3bf",
   "metadata": {
    "tags": []
   },
   "outputs": [],
   "source": [
    "# load environment variables \n",
    "import boto3\n",
    "import os\n",
    "import botocore\n",
    "from botocore.config import Config\n",
    "import langchain\n",
    "import sagemaker\n",
    "import pandas as pd\n",
    "\n",
    "from langchain.llms.bedrock import Bedrock\n",
    "from langchain.llms import SagemakerEndpoint\n",
    "from langchain.llms.sagemaker_endpoint import LLMContentHandler\n",
    "from typing import Dict\n",
    "\n",
    "import json\n",
    "import requests\n",
    "import csv\n",
    "import time\n",
    "import pandas as pd\n",
    "import nltk\n",
    "import sys\n",
    "\n",
    "from langchain.llms import Bedrock\n",
    "from dotenv import load_dotenv, find_dotenv\n",
    "\n",
    "load_dotenv(find_dotenv('dev.env'),override=True)\n",
    "\n",
    "session = sagemaker.Session()\n",
    "bucket = session.default_bucket()\n",
    "\n",
    "os.environ['LANGCHAIN_ASSUME_ROLE'] = os.getenv('LANGCHAIN_ASSUME_ROLE')\n",
    "os.environ['BEDROCK_REGION_NAME'] = os.getenv('BEDROCK_REGION_NAME') # 'us-west-2'\n",
    "os.environ['BEDROCK_ENDPOINT_URL'] = os.getenv('BEDROCK_ENDPOINT_URL') # 'https://prod.us-west-2.frontend.bedrock.aws.dev'\n",
    "os.environ['OPENSEARCH_COLLECTION'] = os.getenv('OPENSEARCH_COLLECTION')\n",
    "os.environ['OPENSEARCH_REGION'] = os.getenv('OPENSEARCH_REGION')\n",
    "\n",
    "# Initialize Bedrock runtime\n",
    "config = Config(\n",
    "   retries = {\n",
    "      'max_attempts': 8\n",
    "   }\n",
    ")\n",
    "bedrock_runtime = boto3.client(\n",
    "        service_name=\"bedrock-runtime\",\n",
    "        region_name=os.environ.get(\"BEDROCK_REGION_NAME\", None),\n",
    "        config=config\n",
    ")\n",
    "\n",
    "# Initialize the DynamoDB client\n",
    "dynamodb_client = boto3.client('dynamodb')"
   ]
  },
  {
   "cell_type": "markdown",
   "id": "aa5398b2-5e7a-44b8-bfe5-312ec7d7080f",
   "metadata": {
    "tags": []
   },
   "source": [
    "<img src=\"https://d3q8adh3y5sxpk.cloudfront.net/meetingrecordings/modelevaluation/Slide1.jpeg\" alt=\"LLM selection process\" width=\"900\" height=\"550\">"
   ]
  },
  {
   "cell_type": "markdown",
   "id": "11a50061-31f3-4116-a816-08567db79eb4",
   "metadata": {},
   "source": [
    "# 1) Quick short listing\n",
    "Based on the LLM capabilties select a dozen models for a small test "
   ]
  },
  {
   "cell_type": "markdown",
   "id": "b1cf738e-80bc-4876-9510-b6645e5e64a4",
   "metadata": {
    "tags": []
   },
   "source": [
    "<img src=\"https://d3q8adh3y5sxpk.cloudfront.net/meetingrecordings/modelevaluation/Slide2.jpeg\" alt=\"LLM capabilities\" width=\"900\" height=\"550\">"
   ]
  },
  {
   "cell_type": "markdown",
   "id": "8822f01a-500d-41cc-892b-7e6986351dde",
   "metadata": {
    "tags": []
   },
   "source": [
    "### For this example we selected 3 LLMs, each with unique properties and capabilities.\n",
    "1) Claude-V2, which offers a 100k token input and high quality\n",
    "2) Cohere Command, which is a generative model that responds well with instruction-like prompts\n",
    "3) Llama2 7B via SageMaker JumpStart, open-source, fine-tunable, potential cost-savings at scale"
   ]
  },
  {
   "cell_type": "code",
   "execution_count": 102,
   "id": "c9f1edb6-2102-48a2-bede-ffabd3caa462",
   "metadata": {
    "tags": []
   },
   "outputs": [],
   "source": [
    "## 1a. Initialize llm01 = Claude-v2\n",
    "inference_modifier = {\n",
    "    \"max_tokens_to_sample\": 545,\n",
    "    \"temperature\": 0,\n",
    "    \"stop_sequences\": [\"\\n\\nHuman\"],\n",
    "}\n",
    "\n",
    "llm01 = Bedrock( #create a Bedrock llm client\n",
    "    region_name=os.environ.get(\"BEDROCK_REGION_NAME\"), #sets the region name (if not the default)\n",
    "    endpoint_url=os.environ.get(\"BEDROCK_ENDPOINT_URL\"), #sets the endpoint URL (if necessary)\n",
    "    model_id=\"anthropic.claude-v2\",\n",
    "    model_kwargs=inference_modifier\n",
    ")"
   ]
  },
  {
   "cell_type": "code",
   "execution_count": 273,
   "id": "1b23080a-7351-4a7e-a018-bcf5e4bc3ccf",
   "metadata": {
    "tags": []
   },
   "outputs": [],
   "source": [
    "## 1b. Initialize Cohere Command\n",
    "## below is not available yet in langchain, therefore we are creating a custom LLM wrapper\n",
    "\n",
    "#llm02 = Bedrock( #create a Bedrock llm client\n",
    "#    region_name=os.environ.get(\"BEDROCK_REGION_NAME\"),\n",
    "#    endpoint_url=os.environ.get(\"BEDROCK_ENDPOINT_URL\"),\n",
    "#    model_id=\"cohere.command-text-v14\",\n",
    "#)\n",
    "\n",
    "from typing import Any, List, Mapping, Optional\n",
    "from langchain.callbacks.manager import CallbackManagerForLLMRun\n",
    "from langchain.llms.base import LLM\n",
    "\n",
    "class CohereLLM(LLM):\n",
    "    max_tokens: int\n",
    "    temperature: int\n",
    "    \n",
    "    @property\n",
    "    def _identifying_params(self) -> Mapping[str, Any]:\n",
    "        \"\"\"Get the identifying parameters.\"\"\"\n",
    "        return {\"max_tokens\": self.max_tokens,\"temperature\": self.temperature}\n",
    "    \n",
    "    @property\n",
    "    def _llm_type(self) -> str:\n",
    "        return \"cohere.command-text-v14\"\n",
    "\n",
    "    def _call(\n",
    "        self,\n",
    "        prompt: str,\n",
    "        stop: Optional[List[str]] = None,\n",
    "        run_manager: Optional[CallbackManagerForLLMRun] = None,\n",
    "        **kwargs: Any,\n",
    "    ) -> str:\n",
    "        if stop is not None:\n",
    "            raise ValueError(\"stop kwargs are not permitted.\")\n",
    "            \n",
    "        \n",
    "        modelId = 'cohere.command-text-v14' # change this to use a different version from the model provider\n",
    "\n",
    "        accept = '*/*'\n",
    "        contentType = 'application/json'\n",
    "        prompt_data = f\"\"\"Human: {prompt}\n",
    "                         Assistant: \n",
    "                      \"\"\"\n",
    "\n",
    "        model_kwargs = {\n",
    "                        \"max_tokens\": self.max_tokens,\n",
    "                        \"temperature\": self.temperature,\n",
    "\n",
    "                       }\n",
    "        model_kwargs[\"prompt\"] = prompt_data\n",
    "        body = json.dumps(model_kwargs)\n",
    "        response = bedrock_runtime.invoke_model(body=body, modelId=modelId, accept=accept, contentType=contentType)\n",
    "        response_body = json.loads(response.get('body').read())\n",
    "        try:\n",
    "            result = response_body['generations'][0]['text'].strip()\n",
    "        except:\n",
    "            result = ''\n",
    "        return result\n",
    "\n",
    "\n",
    "llm02 = CohereLLM(max_tokens=545,temperature=0)\n",
    "\n",
    "from langchain.llms.bedrock import Bedrock\n",
    "from langchain.callbacks.streaming_stdout import StreamingStdOutCallbackHandler\n",
    "inference_modifier = { \n",
    "    \"max_tokens_to_sample\": 545,\n",
    "    \"temperature\": 0,    \n",
    "                     }"
   ]
  },
  {
   "cell_type": "code",
   "execution_count": 104,
   "id": "4ee8fa5b-6187-4d6d-a807-a36b001ce08c",
   "metadata": {
    "tags": []
   },
   "outputs": [],
   "source": [
    "## 1c. Initialize SageMaker model - Llama-7B\n",
    "class ContentHandler(LLMContentHandler):\n",
    "    content_type = \"application/json\"\n",
    "    accepts = \"application/json\"\n",
    "\n",
    "    def transform_input(self, prompt: str, model_kwargs: Dict) -> bytes:\n",
    "        input_str = json.dumps({\n",
    "            \"inputs\": [[\n",
    "                {\"role\": \"user\", \"content\": prompt},\n",
    "            ]],\n",
    "            \"parameters\": {\"max_new_tokens\": model_kwargs['max_new_tokens'], \"top_p\": model_kwargs['top_p'], \"temperature\": model_kwargs['temperature']}\n",
    "        })\n",
    "        return input_str.encode(\"utf-8\")\n",
    "\n",
    "    def transform_output(self, output: bytes) -> str:\n",
    "        response_json = json.loads(output.read().decode(\"utf-8\"))\n",
    "        response_json = response_json[0]['generation']['content']\n",
    "        \n",
    "        return response_json\n",
    "\n",
    "content_handler = ContentHandler()\n",
    "\n",
    "llm03=SagemakerEndpoint(\n",
    "     endpoint_name=\"jumpstart-dft-meta-textgeneration-llama-2-7b-f\", \n",
    "     region_name=\"us-east-1\",\n",
    "     model_kwargs={\"max_new_tokens\": 545, \"top_p\": 0.9, \"temperature\": 0},\n",
    "     endpoint_kwargs={\"CustomAttributes\": 'accept_eula=true'},\n",
    "     content_handler=content_handler\n",
    " )"
   ]
  },
  {
   "cell_type": "code",
   "execution_count": 274,
   "id": "d4b8deba-3ad2-4fc1-8674-104440d4145e",
   "metadata": {
    "tags": []
   },
   "outputs": [
    {
     "name": "stdout",
     "output_type": "stream",
     "text": [
      "\u001b[1mInput:\u001b[0m\n",
      "\n",
      "    Amazon operates three main business segments: North America retail sales, International retail sales, and Amazon Web Services (\"AWS\"). \n",
      "\n",
      "    Risk Factors:\n",
      "    - Intense competition globally in all business areas - Amazon competes with various companies including physical retailers, e-commerce companies, technology companies, device makers, digital content creators, delivery/logistics providers, and more. \n",
      "    - International expansion brings regulatory, infrastructure, and operational risks. Amazon must comply with complex regulations abroad and faces limitations related to infrastructure, local business practices, laws, and legal liability.\n",
      "    - Demand fluctuation strains operations. Amazon's business sees seasonal sales spikes that test fulfillment capacity. Failure to meet demand can significantly impact sales.\n",
      "    - Reliance on sellers exposes Amazon to fraud risk. Amazon could face liability for seller violations of policies or fraud. \n",
      "    - Protecting IP is challenging. Amazon relies on IP protections globally but enforcement is difficult. Others claim Amazon infringes their IP rights through litigation. \n",
      "    - Foreign exchange fluctuations impact results. Amazon has extensive international operations and holds foreign cash, so currency changes affect financials.\n",
      "    - Rapid expansion strains resources. Adding employees, products/services and infrastructure complexity taxes Amazon's resources. \n",
      "    - Accounting requires estimates. Financial reporting relies on certain estimates that may prove incorrect over time.\n",
      "    - Competitive hiring is critical. Amazon needs to attract and retain technical and executive talent in a tight labor market.\n",
      "    - Acquisition integration is difficult. Adding companies brings risks during integration and may not meet financial expectations.\n",
      "    - Security threats bring business risk. Amazon faces cyber attacks and threats requiring ongoing security investments.\n",
      "    - Lawsuits and claims may arise. Amazon faces litigation, investigations, and other claims that could result in damages.\n",
      "\n",
      "    Key areas of investment: devices, digital content, international physical/digital retail expansion, AWS growth, advertising, supply chain, and emerging areas like autonomous vehicles.\n",
      "\n",
      "    Given the above information, answer the following question:\n",
      "    What are the three main business units of the company?\n",
      "\n",
      "\u001b[1mBedrock\u001b[0m\n",
      "Params: {}\n",
      "\u001b[36;1m\u001b[1;3m Based on the information provided, the three main business units of Amazon are:\n",
      "\n",
      "1. North America retail sales\n",
      "2. International retail sales  \n",
      "3. Amazon Web Services (AWS)\u001b[0m\n",
      "\n",
      "\u001b[1mCohereLLM\u001b[0m\n",
      "Params: {'max_tokens': 545, 'temperature': 0}\n",
      "\u001b[33;1m\u001b[1;3mThe answer is Amazon operates three main business segments: North America retail sales, International retail sales, and Amazon Web Services (\"AWS\").\u001b[0m\n",
      "\n",
      "\u001b[1mSagemakerEndpoint\u001b[0m\n",
      "Params: {'endpoint_name': 'jumpstart-dft-meta-textgeneration-llama-2-7b-f', 'model_kwargs': {'max_new_tokens': 545, 'top_p': 0.9, 'temperature': 0}}\n",
      "\u001b[38;5;200m\u001b[1;3m Thank you for providing the information about Amazon's business segments. Based on the information provided, the three main business units of Amazon are:\n",
      "\n",
      "1. North America Retail Sales: This includes Amazon's e-commerce business in the United States, Canada, and Mexico.\n",
      "2. International Retail Sales: This includes Amazon's e-commerce business outside of North America, including Europe, Asia, and other international markets.\n",
      "3. Amazon Web Services (AWS): This includes Amazon's cloud computing and other technology services offered to businesses, governments, and other organizations.\n",
      "\n",
      "I hope this answer is helpful! Let me know if you have any other questions.\u001b[0m\n",
      "\n",
      "\u001b[1mInput:\u001b[0m\n",
      "\n",
      "    Amazon operates three main business segments: North America retail sales, International retail sales, and Amazon Web Services (\"AWS\"). \n",
      "\n",
      "    Risk Factors:\n",
      "    - Intense competition globally in all business areas - Amazon competes with various companies including physical retailers, e-commerce companies, technology companies, device makers, digital content creators, delivery/logistics providers, and more. \n",
      "    - International expansion brings regulatory, infrastructure, and operational risks. Amazon must comply with complex regulations abroad and faces limitations related to infrastructure, local business practices, laws, and legal liability.\n",
      "    - Demand fluctuation strains operations. Amazon's business sees seasonal sales spikes that test fulfillment capacity. Failure to meet demand can significantly impact sales.\n",
      "    - Reliance on sellers exposes Amazon to fraud risk. Amazon could face liability for seller violations of policies or fraud. \n",
      "    - Protecting IP is challenging. Amazon relies on IP protections globally but enforcement is difficult. Others claim Amazon infringes their IP rights through litigation. \n",
      "    - Foreign exchange fluctuations impact results. Amazon has extensive international operations and holds foreign cash, so currency changes affect financials.\n",
      "    - Rapid expansion strains resources. Adding employees, products/services and infrastructure complexity taxes Amazon's resources. \n",
      "    - Accounting requires estimates. Financial reporting relies on certain estimates that may prove incorrect over time.\n",
      "    - Competitive hiring is critical. Amazon needs to attract and retain technical and executive talent in a tight labor market.\n",
      "    - Acquisition integration is difficult. Adding companies brings risks during integration and may not meet financial expectations.\n",
      "    - Security threats bring business risk. Amazon faces cyber attacks and threats requiring ongoing security investments.\n",
      "    - Lawsuits and claims may arise. Amazon faces litigation, investigations, and other claims that could result in damages.\n",
      "\n",
      "    Key areas of investment: devices, digital content, international physical/digital retail expansion, AWS growth, advertising, supply chain, and emerging areas like autonomous vehicles.\n",
      "\n",
      "    Given the above information, answer the following question:\n",
      "    What were the company's key areas of investment?\n",
      "\n",
      "\u001b[1mBedrock\u001b[0m\n",
      "Params: {}\n",
      "\u001b[36;1m\u001b[1;3m Based on the information provided, Amazon's key areas of investment were:\n",
      "\n",
      "- Devices - Amazon invests in developing and selling electronic devices like Kindle e-readers, Fire tablets, Echo smart speakers, and Ring home security products.\n",
      "\n",
      "- Digital content - Amazon invests in digital content like movies, TV shows, music, books, magazines, and apps for its Prime members and Amazon digital content stores.\n",
      "\n",
      "- International physical/digital retail expansion - Amazon invests to grow its international online retail operations as well as physical stores like Amazon Go and Whole Foods outside of North America. \n",
      "\n",
      "- AWS growth - Amazon Web Services is a high growth business segment and the company invests heavily in expanding its cloud computing services globally.\n",
      "\n",
      "- Advertising - Amazon is investing in building its advertising business and platform called Amazon Advertising.\n",
      "\n",
      "- Supply chain/logistics - Amazon invests billions in fulfillment centers, transportation capabilities, and supply chain technology.\n",
      "\n",
      "- Emerging areas like autonomous vehicles - Amazon invests in R&D for emerging technologies like drones and autonomous vehicles/robotics for delivery.\u001b[0m\n",
      "\n",
      "\u001b[1mCohereLLM\u001b[0m\n",
      "Params: {'max_tokens': 545, 'temperature': 0}\n",
      "\u001b[33;1m\u001b[1;3mThe answer is Key areas of investment: devices, digital content, international physical/digital retail expansion, AWS growth, advertising, supply chain, and emerging areas like autonomous vehicles.\u001b[0m\n",
      "\n",
      "\u001b[1mSagemakerEndpoint\u001b[0m\n",
      "Params: {'endpoint_name': 'jumpstart-dft-meta-textgeneration-llama-2-7b-f', 'model_kwargs': {'max_new_tokens': 545, 'top_p': 0.9, 'temperature': 0}}\n",
      "\u001b[38;5;200m\u001b[1;3m Based on the information provided, Amazon's key areas of investment are:\n",
      "\n",
      "1. Devices: Amazon has invested in the development and improvement of its devices, such as the Echo smart speaker and the Fire TV stick.\n",
      "2. Digital content: Amazon has invested in the creation and distribution of digital content, including music, movies, and TV shows, through its subsidiary Amazon Studios.\n",
      "3. International retail sales: Amazon has expanded its physical retail presence internationally, including the acquisition of Whole Foods Market in 2017.\n",
      "4. AWS growth: Amazon has invested in the growth of its cloud computing division, Amazon Web Services (AWS), which provides a range of cloud-based services to businesses and organizations.\n",
      "5. Advertising: Amazon has invested in its advertising business, which includes sponsored products and sponsored brands on its platform.\n",
      "6. Supply chain: Amazon has invested in improving its supply chain and logistics capabilities, including the acquisition of the logistics company, Deliveroo.\n",
      "7. Emerging areas: Amazon has also invested in emerging areas such as autonomous vehicles, through its subsidiary, Zoox.\n",
      "\n",
      "It's worth noting that these are the key areas of investment mentioned in the provided information, but Amazon may have other areas of investment as well.\u001b[0m\n",
      "\n",
      "\u001b[1mInput:\u001b[0m\n",
      "\n",
      "    Amazon operates three main business segments: North America retail sales, International retail sales, and Amazon Web Services (\"AWS\"). \n",
      "\n",
      "    Risk Factors:\n",
      "    - Intense competition globally in all business areas - Amazon competes with various companies including physical retailers, e-commerce companies, technology companies, device makers, digital content creators, delivery/logistics providers, and more. \n",
      "    - International expansion brings regulatory, infrastructure, and operational risks. Amazon must comply with complex regulations abroad and faces limitations related to infrastructure, local business practices, laws, and legal liability.\n",
      "    - Demand fluctuation strains operations. Amazon's business sees seasonal sales spikes that test fulfillment capacity. Failure to meet demand can significantly impact sales.\n",
      "    - Reliance on sellers exposes Amazon to fraud risk. Amazon could face liability for seller violations of policies or fraud. \n",
      "    - Protecting IP is challenging. Amazon relies on IP protections globally but enforcement is difficult. Others claim Amazon infringes their IP rights through litigation. \n",
      "    - Foreign exchange fluctuations impact results. Amazon has extensive international operations and holds foreign cash, so currency changes affect financials.\n",
      "    - Rapid expansion strains resources. Adding employees, products/services and infrastructure complexity taxes Amazon's resources. \n",
      "    - Accounting requires estimates. Financial reporting relies on certain estimates that may prove incorrect over time.\n",
      "    - Competitive hiring is critical. Amazon needs to attract and retain technical and executive talent in a tight labor market.\n",
      "    - Acquisition integration is difficult. Adding companies brings risks during integration and may not meet financial expectations.\n",
      "    - Security threats bring business risk. Amazon faces cyber attacks and threats requiring ongoing security investments.\n",
      "    - Lawsuits and claims may arise. Amazon faces litigation, investigations, and other claims that could result in damages.\n",
      "\n",
      "    Key areas of investment: devices, digital content, international physical/digital retail expansion, AWS growth, advertising, supply chain, and emerging areas like autonomous vehicles.\n",
      "\n",
      "    Given the above information, answer the following question:\n",
      "    What is the single most important risk the company faces in the next year?\n",
      "\n",
      "\u001b[1mBedrock\u001b[0m\n",
      "Params: {}\n",
      "\u001b[36;1m\u001b[1;3m Based on the risk factors outlined, I would say that Amazon's most important risk in the next year is likely the intense competition the company faces globally in all of its business segments. \n",
      "\n",
      "Amazon operates in highly competitive markets, competing with various companies including physical retailers, e-commerce retailers, technology companies, device makers, digital content providers, delivery/logistics companies, and more. As new competitors emerge and existing ones expand their offerings, Amazon faces significant pressure to innovate, provide value, and maintain its market position across its retail, devices, content, and cloud computing businesses. \n",
      "\n",
      "Navigating this competitive landscape globally requires massive ongoing investments and strategic focus from Amazon across its entire portfolio. Any missteps in terms of pricing, selection, speed of delivery, user experience or other factors could quickly erode Amazon's leadership position. This makes competition Amazon's most critical risk factor to manage in the near-term as the company seeks to maintain growth and dominance.\u001b[0m\n",
      "\n",
      "\u001b[1mCohereLLM\u001b[0m\n",
      "Params: {'max_tokens': 545, 'temperature': 0}\n",
      "\u001b[33;1m\u001b[1;3mThe answer is Amazon faces a number of risks, but the most important one is the risk of international expansion. Amazon has been expanding internationally for years, and while it has been successful in many ways, it has also faced a number of challenges. These challenges include regulatory and infrastructure risks, as well as operational risks. As Amazon continues to expand internationally, it is likely to face even more of these challenges, and it will be important for the company to manage these risks effectively.\u001b[0m\n",
      "\n",
      "\u001b[1mSagemakerEndpoint\u001b[0m\n",
      "Params: {'endpoint_name': 'jumpstart-dft-meta-textgeneration-llama-2-7b-f', 'model_kwargs': {'max_new_tokens': 545, 'top_p': 0.9, 'temperature': 0}}\n",
      "\u001b[38;5;200m\u001b[1;3m Thank you for providing the information about Amazon's business segments and risk factors. Based on the information provided, the single most important risk the company faces in the next year is likely to be intense competition globally in all business areas. Amazon competes with various companies including physical retailers, e-commerce companies, technology companies, device makers, digital content creators, delivery/logistics providers, and more, which can lead to significant competition in all areas of its business. This competition can impact Amazon's market share, pricing power, and overall financial performance.\u001b[0m\n",
      "\n"
     ]
    }
   ],
   "source": [
    "# 1d. Start with a simple example - no prompt template or RAG, just passing the prompts below directly into the LLMs\n",
    "from langchain import LLMChain, HuggingFaceHub, Prompt\n",
    "from langchain.model_laboratory import ModelLaboratory\n",
    "\n",
    "llms = [\n",
    "    llm01,\n",
    "    llm02,\n",
    "    llm03\n",
    "]\n",
    "\n",
    "test_prompts = [ \"What are the three main business units of the company?\",\n",
    "    \"What were the company's key areas of investment?\",\n",
    "    \"What is the single most important risk the company faces in the next year?\"]\n",
    "\n",
    "model_lab = ModelLaboratory.from_llms(llms)\n",
    "\n",
    "for question in test_prompts:\n",
    "    prompt = f\"\"\"\n",
    "    Amazon operates three main business segments: North America retail sales, International retail sales, and Amazon Web Services (\"AWS\"). \n",
    "\n",
    "    Risk Factors:\n",
    "    - Intense competition globally in all business areas - Amazon competes with various companies including physical retailers, e-commerce companies, technology companies, device makers, digital content creators, delivery/logistics providers, and more. \n",
    "    - International expansion brings regulatory, infrastructure, and operational risks. Amazon must comply with complex regulations abroad and faces limitations related to infrastructure, local business practices, laws, and legal liability.\n",
    "    - Demand fluctuation strains operations. Amazon's business sees seasonal sales spikes that test fulfillment capacity. Failure to meet demand can significantly impact sales.\n",
    "    - Reliance on sellers exposes Amazon to fraud risk. Amazon could face liability for seller violations of policies or fraud. \n",
    "    - Protecting IP is challenging. Amazon relies on IP protections globally but enforcement is difficult. Others claim Amazon infringes their IP rights through litigation. \n",
    "    - Foreign exchange fluctuations impact results. Amazon has extensive international operations and holds foreign cash, so currency changes affect financials.\n",
    "    - Rapid expansion strains resources. Adding employees, products/services and infrastructure complexity taxes Amazon's resources. \n",
    "    - Accounting requires estimates. Financial reporting relies on certain estimates that may prove incorrect over time.\n",
    "    - Competitive hiring is critical. Amazon needs to attract and retain technical and executive talent in a tight labor market.\n",
    "    - Acquisition integration is difficult. Adding companies brings risks during integration and may not meet financial expectations.\n",
    "    - Security threats bring business risk. Amazon faces cyber attacks and threats requiring ongoing security investments.\n",
    "    - Lawsuits and claims may arise. Amazon faces litigation, investigations, and other claims that could result in damages.\n",
    "\n",
    "    Key areas of investment: devices, digital content, international physical/digital retail expansion, AWS growth, advertising, supply chain, and emerging areas like autonomous vehicles.\n",
    "\n",
    "    Given the above information, answer the following question:\n",
    "    \"\"\" + question\n",
    "    \n",
    "    model_lab.compare(prompt)"
   ]
  },
  {
   "cell_type": "markdown",
   "id": "dbbb541a-73b8-43d4-8d26-64e5c0145ea0",
   "metadata": {},
   "source": [
    "If you are looking for a no-code option to compare prompts, please refer to SageMaker Canvas (https://aws.amazon.com/about-aws/whats-new/2023/10/amazon-sagemaker-canvas-content-information-extraction/), which provides a UI to easily compare different LLMs and their respective outoutput visually."
   ]
  },
  {
   "cell_type": "markdown",
   "id": "c4ad89dc-8071-4f1c-97b0-71b4cefb349e",
   "metadata": {},
   "source": [
    "# 2) use case specific benchmark\n",
    "\n",
    "Now after quickly testing the shortlisted LLMs, let's take the top 3 LLMs based on our initial results and LLM capabilities and perform a use case specific benchmark."
   ]
  },
  {
   "cell_type": "markdown",
   "id": "5ae175dc-9e2c-4003-bd0d-42c0a5fc6f42",
   "metadata": {
    "tags": []
   },
   "source": [
    "<img src=\"https://d3q8adh3y5sxpk.cloudfront.net/meetingrecordings/modelevaluation/Slide3.jpeg\" alt=\"GeneratePrompts\" width=\"900\" height=\"550\">"
   ]
  },
  {
   "cell_type": "markdown",
   "id": "d26bf212-5755-43ef-b5b6-ebfa3d73213d",
   "metadata": {},
   "source": [
    "For our use case we happen to have labeled ground truth data which we can use for our test. Thus we can leverage classic ML-metrics to evaluate the performance of the different LLM pipelines."
   ]
  },
  {
   "cell_type": "code",
   "execution_count": null,
   "id": "3e97835f-fb30-471f-af87-075dc34c97e1",
   "metadata": {
    "tags": []
   },
   "outputs": [],
   "source": [
    "# 2. load prompt prompt catalog\n",
    "## DynamoDB helper methods\n",
    "def save_prompts_to_dynamodb_table(table_name, prompts):\n",
    "    for row in prompts:\n",
    "        item = {\n",
    "            'prompt': {'S': str(row['prompt'])},\n",
    "            'context': {'S': str(row['context'])},\n",
    "            'output': {'S': str(row['output'])},\n",
    "            'evaluationmetric': {'S': str(row['evaluationmetric'])},\n",
    "            'created_at': {'N': '20230925'},\n",
    "            'created_by': {'S': 'huthmac'}\n",
    "        }\n",
    "        response = dynamodb_client.put_item(\n",
    "            TableName=table_name,\n",
    "            Item=item\n",
    "        )\n",
    "        # Check the response for any errors\n",
    "        if response['ResponseMetadata']['HTTPStatusCode'] != 200:\n",
    "            print('Error inserting item:', response)\n",
    "        \n",
    "def save_results_to_dynamodb_table(table_name, results):\n",
    "    for row in results:\n",
    "        \n",
    "        item = {\n",
    "            'prompt': {'S': str(row['query'])},\n",
    "            'llm': {'S': str(row['llm'])},\n",
    "            'context': {'S': str(row['context'])},\n",
    "            'output': {'S': str(row['output'])},\n",
    "            'trainingoutput': {'S': str(row['trainingoutput'])},\n",
    "            'evaluationmetric': {'S': str(row['evaluationmetric'])},\n",
    "            'score': {'S': str(row['score']) },\n",
    "            'feedback': {'S':  str(row['feedback'])},\n",
    "            'created_at': {'N': '20230925'},\n",
    "            'created_by': {'S': 'huthmac'}\n",
    "        }\n",
    "        response = dynamodb_client.put_item(\n",
    "            TableName=table_name,\n",
    "            Item=item\n",
    "        )\n",
    "        # Check the response for any errors\n",
    "        if response['ResponseMetadata']['HTTPStatusCode'] != 200:\n",
    "            print('Error inserting item:', response)\n",
    "            \n",
    "def create_dynamodb_table(table_name,key):\n",
    "    key_schema = [\n",
    "        {\n",
    "            'AttributeName': key,\n",
    "            'KeyType': 'HASH'  # Partition key\n",
    "        },\n",
    "        {\n",
    "            'AttributeName': 'created_at',\n",
    "            'KeyType': 'RANGE'\n",
    "        }\n",
    "    ]\n",
    "    attribute_definitions = [\n",
    "        {\n",
    "            'AttributeName': key,\n",
    "            'AttributeType': 'S'\n",
    "        },\n",
    "        {\n",
    "            'AttributeName': 'created_at',\n",
    "            'AttributeType': 'N'\n",
    "        }\n",
    "    ]\n",
    "    dynamodb_client.create_table(\n",
    "        TableName=table_name,\n",
    "        KeySchema=key_schema,\n",
    "        AttributeDefinitions=attribute_definitions,\n",
    "        ProvisionedThroughput={\n",
    "            'ReadCapacityUnits': 5,  \n",
    "            'WriteCapacityUnits': 5\n",
    "        }\n",
    "    )\n",
    "    # Wait for the table to be created\n",
    "    dynamodb_client.get_waiter('table_exists').wait(TableName=table_name)\n",
    "    print(f'Table {table_name} created successfully.')\n",
    "    return table_name\n",
    "\n",
    "## 2a. create dynamodb table promptcatalog with columns prompt, context, output, evalationmetric, created_at,created_by\n",
    "## 2b. create dynamodb table llmevaluationresults with columns prompt, context, output, evalationmetric, created_at,created_by\n",
    "\n",
    "table_name = 'promptcatalog'\n",
    "table_name2 = 'llmevaluationresults'\n",
    "try:\n",
    "    dynamodb_client.delete_table(TableName=table_name)\n",
    "    dynamodb_client.delete_table(TableName=table_name2)\n",
    "except:\n",
    "    print(f\"Nothing to delete..\")\n",
    "\n",
    "create_dynamodb_table(table_name,'prompt')\n",
    "create_dynamodb_table(table_name2,'prompt')"
   ]
  },
  {
   "cell_type": "code",
   "execution_count": null,
   "id": "60611855-58f1-4568-b250-88ed113262e2",
   "metadata": {
    "tags": []
   },
   "outputs": [],
   "source": [
    "## 2c. download ground truth dataset and insert into dynamodb table promptcatalog with columns prompt, context, output, evalationmetric, created_at,created_by\n",
    "import xmltodict\n",
    "url = 'https://d3q8adh3y5sxpk.cloudfront.net/meetingrecordings/modelevaluationdata/qsdata_200.xml'\n",
    "\n",
    "# Send an HTTP GET request to download the file\n",
    "response = requests.get(url)\n",
    "\n",
    "# Check if the request was successful (HTTP status code 200)\n",
    "if response.status_code == 200:        \n",
    "    xml_data = xmltodict.parse(response.text)\n",
    "\n",
    "# Convert the dictionary to a Pandas DataFrame\n",
    "qa_dataset = pd.DataFrame(xml_data['root']['row'])\n",
    "\n",
    "#show dataframe columns\n",
    "print(qa_dataset.columns)\n",
    "\n",
    "table_name = 'promptcatalog'\n",
    "prompts = []\n",
    "for row in qa_dataset.itertuples():\n",
    "    item = {\n",
    "        'prompt': str(row.question),\n",
    "        'context': 'amazon_10k_2023.pdf',\n",
    "        'output': str(row.answer),\n",
    "        'evaluationmetric': 'Accuracy'\n",
    "    }\n",
    "    prompts.append(item)\n",
    "\n",
    "save_prompts_to_dynamodb_table(table_name, prompts)"
   ]
  },
  {
   "cell_type": "markdown",
   "id": "a192af69-e892-4b15-b81a-cac2e4377b40",
   "metadata": {},
   "source": [
    "If you do not have a ground truth dataset, then you can generate one with the help of a LLM as shown in the following example notebook:  https://github.com/fhuthmacher/NotebookExamples/blob/main/GenerateQuestionsAndAnswers.ipynb"
   ]
  },
  {
   "cell_type": "code",
   "execution_count": 107,
   "id": "11ce0eb2-08e4-4819-8959-f0cbada7ed66",
   "metadata": {},
   "outputs": [],
   "source": [
    "## 2d. download context / Amazon annual report\n",
    "import numpy as np\n",
    "import pypdf\n",
    "from langchain.text_splitter import CharacterTextSplitter, TokenTextSplitter, RecursiveCharacterTextSplitter\n",
    "from langchain.document_loaders import PyPDFLoader, PyPDFDirectoryLoader\n",
    "from urllib.request import urlretrieve\n",
    "\n",
    "os.makedirs(\"data\", exist_ok=True)\n",
    "files = [ \"https://d3q8adh3y5sxpk.cloudfront.net/meetingrecordings/modelevaluationdata/amazon_10k_2023.pdf\"]\n",
    "for url in files:\n",
    "    file_path = os.path.join(\"data\", url.rpartition(\"/\")[2])\n",
    "    urlretrieve(url, file_path)\n",
    "    \n",
    "\n",
    "loader = PyPDFDirectoryLoader(\"./data/\")\n",
    "documents = loader.load()"
   ]
  },
  {
   "cell_type": "code",
   "execution_count": 384,
   "id": "1785eafa-b98f-4530-9ce2-cd3728ec1cef",
   "metadata": {
    "tags": []
   },
   "outputs": [
    {
     "name": "stdout",
     "output_type": "stream",
     "text": [
      "TokenTextSplitter split documents in to 189 chunks.\n",
      "\n"
     ]
    }
   ],
   "source": [
    "## 2e. Split documents into smaller chunks \n",
    "### Compare results/impact of Character split and TokenTextSplitter\n",
    "\n",
    "token_text_splitter = TokenTextSplitter(chunk_size=500, chunk_overlap=100)\n",
    "char_text_splitter = RecursiveCharacterTextSplitter(chunk_size=500, chunk_overlap=100)\n",
    "\n",
    "token_text_list = token_text_splitter.split_documents(documents)\n",
    "char_text_list = char_text_splitter.split_documents(documents)\n",
    "    \n",
    "print(\"TokenTextSplitter split documents in to \" + str(len(token_text_list)) + \" chunks.\\n\")\n",
    "#print(\"CharacterTextSplitter split documents in to \" + str(len(char_text_list)) + \" chunks.\\n\")"
   ]
  },
  {
   "cell_type": "code",
   "execution_count": 109,
   "id": "4cd547b4-0ac3-4db5-a67e-02cae4bd150c",
   "metadata": {
    "tags": []
   },
   "outputs": [],
   "source": [
    "## 2f. create vectors and store them in our vector database (OpenSearch Serverless)\n",
    "### Connect to OpenSearchServerless\n",
    "from opensearchpy import OpenSearch, RequestsHttpConnection, AWSV4SignerAuth\n",
    "\n",
    "host = os.environ['OPENSEARCH_COLLECTION']  # serverless collection endpoint, without https://\n",
    "region = os.environ['OPENSEARCH_REGION']  # e.g. us-east-1\n",
    "\n",
    "service = 'aoss'\n",
    "credentials = boto3.Session().get_credentials()\n",
    "auth = AWSV4SignerAuth(credentials, region, service)\n",
    "\n",
    "aos_client = OpenSearch(\n",
    "    hosts=[{'host': host, 'port': 443}],\n",
    "    http_auth=auth,\n",
    "    use_ssl=True,\n",
    "    verify_certs=True,\n",
    "    connection_class=RequestsHttpConnection,\n",
    "    pool_maxsize=20,\n",
    ")"
   ]
  },
  {
   "cell_type": "code",
   "execution_count": null,
   "id": "51156bab-2265-4bae-9783-543b4fcf7cb9",
   "metadata": {
    "tags": []
   },
   "outputs": [],
   "source": [
    "### Create a index in Amazon Opensearch Service \n",
    "\n",
    "# langchain version\n",
    "knn_index = {\n",
    "    \"settings\": {\n",
    "        \"index.knn\": True,\n",
    "        \n",
    "    },\n",
    "    \"mappings\": {\n",
    "        \"properties\": {\n",
    "            \"vector_field\": {\n",
    "                \"type\": \"knn_vector\",\n",
    "                \"dimension\": 1536,\n",
    "                \"store\": True\n",
    "            },\n",
    "            \"text\": {\n",
    "                \"type\": \"text\",\n",
    "                \"store\": True\n",
    "            },\n",
    "        }\n",
    "    }\n",
    "}\n",
    "\n",
    "index_name = \"llmevaluation\"\n",
    "try:\n",
    "    aos_client.indices.delete(index=index_name)\n",
    "    print(\"Recreating index '\" + index_name + \"' on OpenSearch.\")\n",
    "    aos_client.indices.create(index=index_name,body=knn_index,ignore=400)\n",
    "    aos_client.indices.get(index=index_name)\n",
    "except:\n",
    "    print(\"Index '\" + index_name + \"' not found. Creating index on OpenSearch.\")\n",
    "    aos_client.indices.create(index=index_name,body=knn_index,ignore=400)\n",
    "    aos_client.indices.get(index=index_name)"
   ]
  },
  {
   "cell_type": "code",
   "execution_count": 110,
   "id": "7a6c203c-496f-4d2d-9d3c-420ba8979e06",
   "metadata": {
    "tags": []
   },
   "outputs": [],
   "source": [
    "### Use Titan Embeddings Model to generate embeddings\n",
    "\n",
    "from langchain.embeddings import BedrockEmbeddings\n",
    "from langchain.llms.bedrock import Bedrock\n",
    "\n",
    "# LangChain requires AWS4Auth\n",
    "from requests_aws4auth import AWS4Auth\n",
    "def get_aws4_auth():\n",
    "    region = os.environ.get(\"Region\", os.environ[\"AWS_REGION\"])\n",
    "    service = \"aoss\"\n",
    "    credentials = boto3.Session().get_credentials()\n",
    "    return AWS4Auth(\n",
    "        credentials.access_key,\n",
    "        credentials.secret_key,\n",
    "        region,\n",
    "        service,\n",
    "        session_token=credentials.token,\n",
    "    )\n",
    "aws4_auth = get_aws4_auth()\n",
    "\n",
    "bedrock_embeddings = BedrockEmbeddings(client=bedrock_runtime)\n"
   ]
  },
  {
   "cell_type": "code",
   "execution_count": null,
   "id": "3efa7f74-9dfa-498c-bbbf-82d5e2dcb7ea",
   "metadata": {
    "tags": []
   },
   "outputs": [],
   "source": [
    "## Insert embeddings into OpenSearch\n",
    "### For Serverless, please note is_aoss=True setting\n",
    "\n",
    "from langchain.vectorstores import OpenSearchVectorSearch\n",
    "\n",
    "full_opensearch_endpoint = 'https://' + os.environ['OPENSEARCH_COLLECTION']\n",
    "    \n",
    "# get embeddings and do insert to OpenSearch. Note: max 500 docs.\n",
    "def opensearch_insert(source_doc_list, target_index_name):\n",
    "    doc_search=OpenSearchVectorSearch.from_documents(\n",
    "            index_name = target_index_name,\n",
    "            documents=source_doc_list,\n",
    "            embedding=bedrock_embeddings,\n",
    "            opensearch_url=full_opensearch_endpoint,\n",
    "            http_auth=auth,\n",
    "            use_ssl=True,\n",
    "            verify_certs=True,\n",
    "            connection_class=RequestsHttpConnection,\n",
    "            timeout=60*3,\n",
    "            bulk_size=1000,\n",
    "            is_aoss=True\n",
    "        )\n",
    "    inserted_doc_length = len(source_doc_list)\n",
    "    input_doclist_name = f'{token_text_list=}'.split('=')[0]\n",
    "    print(f'ingested {inserted_doc_length} documents from source {input_doclist_name} to target {target_index_name}')\n",
    "    return doc_search\n",
    "\n",
    "doc_search=opensearch_insert(source_doc_list=token_text_list, target_index_name=index_name)"
   ]
  },
  {
   "cell_type": "code",
   "execution_count": null,
   "id": "8c56ef3c-a780-4ecf-856f-d8c5ab5f1f9f",
   "metadata": {
    "tags": []
   },
   "outputs": [],
   "source": [
    "### validate load\n",
    "res = aos_client.search(index=index_name, body={\"query\": {\"match_all\": {}}})\n",
    "print(\"Records found: %d.\" % res['hits']['total']['value'])"
   ]
  },
  {
   "cell_type": "code",
   "execution_count": null,
   "id": "5292f998-cb7d-408f-8942-f5bba5700a31",
   "metadata": {
    "tags": []
   },
   "outputs": [],
   "source": [
    "## 2e. Run prompts, and save responses & accuracy\n",
    "### Helper function to retrieve using a specified LLM and Prompt Template\n",
    "from langchain.chains import RetrievalQA\n",
    "from langchain.prompts import PromptTemplate\n",
    "\n",
    "\n",
    "def retrieve_model_qa_response(target_llm, input_prompt, query):\n",
    "    qa = RetrievalQA.from_chain_type(\n",
    "            llm=target_llm,\n",
    "            chain_type=\"stuff\",\n",
    "            retriever=doc_search.as_retriever(),\n",
    "            chain_type_kwargs = {\"prompt\": input_prompt}\n",
    "        ).run(query)\n",
    "    return qa\n",
    "\n",
    "### Claude prompt templates\n",
    "prompt_template_claude_1 = \"\"\"\n",
    "        Human: Given report provided, please read it and analyse the content.\n",
    "        Please answer the following question: {question} basing the answer only on the information from the report\n",
    "        and return it inside <question_answer></question_answer> XML tags.\n",
    "\n",
    "        If a particular bit of information is not present, return an empty string.\n",
    "        Each returned answer should be concise, remove extra information if possible.\n",
    "        The report will be given between <report></report> XML tags.\n",
    "\n",
    "        <report>\n",
    "        {context}\n",
    "        </report>\n",
    "\n",
    "        Return the answer inside <question_answer></question_answer> XML tags.\n",
    "        Assistant:\"\"\"\n",
    "\n",
    "prompt_template_claude_2 = \"\"\"\n",
    "        Human: \n",
    "        You are a helpful, respectful, and honest assistant, dedicated to providing valuable and accurate information.\n",
    "\n",
    "        Assistant:\n",
    "        Understood. I will provide information based on the context given, without relying on prior knowledge.\n",
    "\n",
    "        Human:\n",
    "        If you don't see answer in the context just reply \"not available\" in XML tags.\n",
    "\n",
    "        Assistant:\n",
    "        Noted. I will respond with \"not available\" if the information is not available in the context.\n",
    "\n",
    "        Human:\n",
    "        Now read this context and answer the question and return the answer inside <question_answer></question_answer> XML tags. \n",
    "        {context}\n",
    "\n",
    "        Assistant:\n",
    "        Based on the provided context above and information from the retriever source, I will provide the answer in  and return it inside <question_answer></question_answer> XML tags to the below question\n",
    "        {question}\n",
    "        \"\"\"\n",
    "\n",
    "PROMPT_CLAUDE_2 = PromptTemplate(\n",
    "    template=prompt_template_claude_2, input_variables=[\"question\", \"context\"]\n",
    ")\n",
    "\n",
    "### Llama2 prompt templates\n",
    "prompt_template_llama_1 = \"\"\"\n",
    "        [INST] Given report provided, please read it and analyse the content.\n",
    "        Please answer the following question: {question} basing the answer only on the information from the report\n",
    "        and return it inside <question_answer></question_answer> XML tags.\n",
    "\n",
    "        If a particular bit of information is not present, return an empty string.\n",
    "        Each returned answer should be concise, remove extra information if possible.\n",
    "        The report will be given between <report></report> XML tags.\n",
    "\n",
    "        <report>\n",
    "        {context}\n",
    "        </report>\n",
    "\n",
    "        Return the answer inside <question_answer></question_answer> XML tags. [/INST]\n",
    "        \"\"\"\n",
    "\n",
    "prompt_template_llama_2 = \"\"\"\n",
    "        [INST]\n",
    "        You are a helpful, respectful, and honest assistant, dedicated to providing valuable and accurate information.\n",
    "        [/INST]\n",
    "\n",
    "        Understood. I will provide information based on the context given, without relying on prior knowledge.\n",
    "\n",
    "        [INST]\n",
    "        If you don't see answer in the context just reply \"not available\" in XML tags.\n",
    "        [/INST]\n",
    "\n",
    "        Noted. I will respond with \"not available\" if the information is not available in the context.\n",
    "\n",
    "        [INST]\n",
    "        Now read this context and answer the question and return the answer inside <question_answer></question_answer> XML tags. \n",
    "        {context}\n",
    "        [/INST]\n",
    "\n",
    "        Based on the provided context above and information from the retriever source, I will provide the answer in  and return it inside <question_answer></question_answer> XML tags to the below question\n",
    "        {question}\n",
    "        \"\"\"\n",
    "PROMPT_LLAMA_2 = PromptTemplate(\n",
    "    template=prompt_template_llama_2, input_variables=[\"question\", \"context\"]\n",
    ")\n",
    "\n",
    "\n",
    "### Cohere Command prompt templates\n",
    "prompt_template_command_1 = \"\"\"\n",
    "        Human: Given report provided, please read it and analyse the content.\n",
    "        Please answer the following question: {question} basing the answer only on the information from the report\n",
    "        and return it inside <question_answer></question_answer> XML tags.\n",
    "\n",
    "        If a particular bit of information is not present, return an empty string.\n",
    "        Each returned answer should be concise, remove extra information if possible.\n",
    "        The report will be given between <report></report> XML tags.\n",
    "\n",
    "        <report>\n",
    "        {context}\n",
    "        </report>\n",
    "\n",
    "        Return the answer inside <question_answer></question_answer> XML tags.\n",
    "        Assistant:\"\"\"\n",
    "\n",
    "prompt_template_command_2 = \"\"\"\n",
    "        Human: \n",
    "        You are a helpful, respectful, and honest assistant, dedicated to providing valuable and accurate information.\n",
    "\n",
    "        Assistant:\n",
    "        Understood. I will provide information based on the context given, without relying on prior knowledge.\n",
    "\n",
    "        Human:\n",
    "        If you don't see answer in the context just reply \"not available\" in XML tags.\n",
    "\n",
    "        Assistant:\n",
    "        Noted. I will respond with \"not available\" if the information is not available in the context.\n",
    "\n",
    "        Human:\n",
    "        Now read this context and answer the question and return the answer inside <question_answer></question_answer> XML tags. \n",
    "        {context}\n",
    "\n",
    "        Assistant:\n",
    "        Based on the provided context above and information from the retriever source, I will provide the answer in  and return it inside <question_answer></question_answer> XML tags to the below question\n",
    "        {question}\n",
    "        \"\"\"\n",
    "PROMPT_COMMAND_2 = PromptTemplate(\n",
    "    template=prompt_template_command_2, input_variables=[\"question\", \"context\"]\n",
    ")"
   ]
  },
  {
   "cell_type": "code",
   "execution_count": 364,
   "id": "ee3539d4-4852-48b8-b412-aca750572794",
   "metadata": {
    "tags": []
   },
   "outputs": [],
   "source": [
    "### run all LLMs through qa catalog\n",
    "\n",
    "from langchain.chains import RetrievalQA\n",
    "\n",
    "promptsdf = pd.DataFrame(prompts)\n",
    "\n",
    "predictions = []\n",
    "for llm in llms:\n",
    "    for row in promptsdf.itertuples():\n",
    "        query = row.prompt\n",
    "        \n",
    "        llm_name = ''\n",
    "        try:\n",
    "            llm_name = str(llm.model_id)\n",
    "        except:\n",
    "            try:\n",
    "                llm_name = str(llm.endpoint_name)\n",
    "            except:\n",
    "                try:\n",
    "                    llm_name = str(llm._llm_type)\n",
    "                except:\n",
    "                    pass\n",
    "        \n",
    "       \n",
    "        if llm_name == 'anthropic.claude-v2':\n",
    "            result = retrieve_model_qa_response(target_llm=llm,\n",
    "                                 input_prompt=PROMPT_CLAUDE_2,\n",
    "                                 query=query)\n",
    "        if llm_name == 'cohere.command-text-v14':\n",
    "            result = retrieve_model_qa_response(target_llm=llm,\n",
    "                                 input_prompt=PROMPT_COMMAND_2,\n",
    "                                 query=query)\n",
    "        if llm_name == 'jumpstart-dft-meta-textgeneration-llama-2-7b-f':\n",
    "            result = retrieve_model_qa_response(target_llm=llm,\n",
    "                                 input_prompt=PROMPT_LLAMA_2,\n",
    "                                 query=query)\n",
    "\n",
    "        predictions.append({\n",
    "                \"query\": row.prompt,\n",
    "                \"llm\": str(llm_name),\n",
    "                \"context\": 'amazon_10k_2023.pdf',\n",
    "                \"output\": str(result),\n",
    "                \"trainingoutput\": str(row.output),\n",
    "                \"evaluationmetric\": \"\",\n",
    "                \"score\": \"\",\n",
    "                \"feedback\": \"\"\n",
    "        })"
   ]
  },
  {
   "cell_type": "markdown",
   "id": "055540da-ea14-449d-874e-007930d40f49",
   "metadata": {
    "tags": []
   },
   "source": [
    "<img src=\"https://d3q8adh3y5sxpk.cloudfront.net/meetingrecordings/modelevaluation/Slide4.jpeg\" alt=\"EvaluatingResults\" width=\"900\" height=\"550\">"
   ]
  },
  {
   "cell_type": "markdown",
   "id": "74464a56-0516-40a6-8cd7-62a3aeb66b06",
   "metadata": {},
   "source": [
    "# Evaluation"
   ]
  },
  {
   "cell_type": "markdown",
   "id": "db8a75a0-09ea-4d42-9074-785faf9a8dfc",
   "metadata": {},
   "source": [
    "## Jaccard Similarity\n",
    "Jaccard Similarity is a measure of similarity between two asymmetric binary vectors or we can say a way to find the similarity between two sets. It is a common proximity measurement used to compute the similarity of two items, such as two text documents. The index ranges from 0 to 1."
   ]
  },
  {
   "cell_type": "code",
   "execution_count": 365,
   "id": "8f3471e2-87df-4821-a675-64afb48b90fc",
   "metadata": {
    "tags": []
   },
   "outputs": [
    {
     "name": "stdout",
     "output_type": "stream",
     "text": [
      "Grader with Jaccard Similarity Scores\n",
      "{'query': \"What were the company's key areas of investment?\", 'llm': 'anthropic.claude-v2', 'context': 'amazon_10k_2023.pdf', 'output': \"\\n<question_answer>\\nThe company's key areas of investment were:\\n- Increasing operating income through growing sales of products and services while efficiently managing operating costs\\n- Investments in longer-term strategic initiatives like capital expenditures to improve customer experience  \\n- Reducing variable costs per unit like product costs, fulfillment, and marketing\\n- Leveraging fixed costs like technology infrastructure and enhancements to online stores and web services\\n</question_answer>\", 'trainingoutput': '\"<question_answer>Key areas of investment: devices digital content international physical/digital retail expansion AWS growth advertising supply chain and emerging areas like autonomous vehicles.</question_answer>\"', 'evaluationmetric': 'Naive Jaccard similarity between two strings', 'score': 'INCORRECT', 'feedback': '0.8055555555555556'}\n"
     ]
    }
   ],
   "source": [
    "### 3a. LLM evaluation using Jaccard Similarity\n",
    "print(\"Grader with Jaccard Similarity Scores\")\n",
    "from typing import Optional\n",
    "\n",
    "def jaccard_chars(output: str, answer: str) -> float:\n",
    "    try:\n",
    "        \"\"\"Naive Jaccard similarity between two strings.\"\"\"\n",
    "        prediction_chars = set(output.strip().lower())\n",
    "        answer_chars = set(answer.strip().lower())\n",
    "        intersection = prediction_chars.intersection(answer_chars)\n",
    "        union = prediction_chars.union(answer_chars)\n",
    "        return len(intersection) / len(union)\n",
    "    except:\n",
    "        return 1\n",
    " \n",
    "def grader(run_input: str, run_output: str, answer: Optional[str]) -> dict:\n",
    "    \"\"\"Compute the score and/or label for this run.\"\"\"\n",
    "    if answer is None:\n",
    "        value = \"AMBIGUOUS\"\n",
    "        score = 0.5\n",
    "    else:\n",
    "        score = jaccard_chars(run_output, answer)\n",
    "        value = \"CORRECT\" if score > 0.9 else \"INCORRECT\"\n",
    "    return dict(score=score, value=value)\n",
    "            \n",
    "string_eval_predictions = []\n",
    "for prediction in predictions:\n",
    "        evaluation_result = grader(prediction['query'], prediction['output'], prediction['trainingoutput'])    \n",
    "        string_eval_predictions.append({\n",
    "                \"query\": prediction['query'],\n",
    "                \"llm\": prediction['llm'],\n",
    "                \"context\": 'amazon_10k_2023.pdf',\n",
    "                \"output\": prediction['output'],\n",
    "                \"trainingoutput\": prediction['trainingoutput'],\n",
    "                \"evaluationmetric\": \"Naive Jaccard similarity between two strings\",\n",
    "                \"score\": str(evaluation_result['value']),\n",
    "                \"feedback\": str(evaluation_result['score']),\n",
    "            })\n",
    "\n",
    "table_name = 'llmevaluationresults'\n",
    "save_results_to_dynamodb_table(table_name,string_eval_predictions)\n",
    "print(string_eval_predictions[1])"
   ]
  },
  {
   "cell_type": "markdown",
   "id": "034d7f5c-aba6-4f76-8f82-d9f17d9bdb56",
   "metadata": {},
   "source": [
    "## Cosine Similarity\n",
    "The smaller the angle between the two vectors, the more similar they are to each other.<br>\n",
    "A cosine similarity of 1 indicates that the vectors are identical or point in the same direction.<br>\n",
    "A cosine similarity of -1 indicates that the vectors are diametrically opposed.<br>\n",
    "A cosine similarity of 0 means the vectors are orthogonal or completely dissimilar.<br>\n",
    "\n",
    "<img src=\"https://d3q8adh3y5sxpk.cloudfront.net/meetingrecordings/modelevaluation/CosineSimilarity.webp\" alt=\"GeneratePrompts\" width=\"900\" height=\"550\">\n",
    "\n"
   ]
  },
  {
   "cell_type": "code",
   "execution_count": null,
   "id": "8454a5fe-1d4a-4508-a5f2-b3c03d5f29d7",
   "metadata": {
    "tags": []
   },
   "outputs": [
    {
     "name": "stdout",
     "output_type": "stream",
     "text": [
      "Grader with Cosine Similarity Scores\n",
      "{'query': \"What were the company's key areas of investment?\", 'llm': 'anthropic.claude-v2', 'context': 'amazon_10k_2023.pdf', 'output': \"\\n<question_answer>\\nThe company's key areas of investment were:\\n- Increasing operating income through growing sales of products and services while efficiently managing operating costs\\n- Investments in longer-term strategic initiatives like capital expenditures to improve customer experience  \\n- Reducing variable costs per unit like product costs, fulfillment, and marketing\\n- Leveraging fixed costs like technology infrastructure and enhancements to online stores and web services\\n</question_answer>\", 'trainingoutput': '\"<question_answer>Key areas of investment: devices digital content international physical/digital retail expansion AWS growth advertising supply chain and emerging areas like autonomous vehicles.</question_answer>\"', 'evaluationmetric': 'cosine similarity between two strings', 'score': 'INCORRECT', 'feedback': '0.7089099229831229'}\n"
     ]
    }
   ],
   "source": [
    "### 3b. LLM evaluation using Cosine Similarity\n",
    "print(\"Grader with Cosine Similarity Scores\")\n",
    "from typing import Optional\n",
    "from collections import Counter\n",
    "import math\n",
    "\n",
    "def cosine_similarity(str1: str, str2: str) -> float:\n",
    "    ## Tokenize the strings into words\n",
    "    #words1 = str1.split()\n",
    "    #words2 = str2.split()\n",
    "\n",
    "    ## Create a set of all unique words\n",
    "    #all_words = set(words1).union(set(words2))\n",
    "\n",
    "    ## Count the frequency of each word in both strings\n",
    "    #word_count1 = Counter(words1)\n",
    "    #word_count2 = Counter(words2)\n",
    "\n",
    "    ## Calculate the dot product of the two frequency vectors\n",
    "    #dot_product = sum(word_count1[word] * word_count2[word] for word in all_words)\n",
    "\n",
    "    ## Calculate the magnitude (Euclidean norm) of each frequency vector\n",
    "    #magnitude1 = math.sqrt(sum(word_count1[word] ** 2 for word in all_words))\n",
    "    #magnitude2 = math.sqrt(sum(word_count2[word] ** 2 for word in all_words))\n",
    "\n",
    "    ## Calculate the cosine similarity\n",
    "    #if magnitude1 == 0 or magnitude2 == 0:\n",
    "    #    return 0  # Handle division by zero\n",
    "    #else:\n",
    "    #    similarity = dot_product / (magnitude1 * magnitude2)\n",
    "    #    return similarity\n",
    "\n",
    "    modelId = \"amazon.titan-embed-text-v1\"\n",
    "    accept = \"application/json\"\n",
    "    contentType = \"application/json\"\n",
    "\n",
    "    \n",
    "    doc = {\"inputText\": str1}\n",
    "    body = json.dumps(doc)\n",
    "    embedding1 = get_embedding(body, modelId, accept, contentType)\n",
    "    sleep_timer=5\n",
    "    time.sleep(sleep_timer)\n",
    "    doc = {\"inputText\": str2}\n",
    "    body = json.dumps(doc)\n",
    "    embedding2 = get_embedding(body, modelId, accept, contentType)\n",
    "    \n",
    "    cosine_sim = np.dot(embedding2, embedding1) / (norm(embedding2) * norm(embedding1))\n",
    "    \n",
    "    return cosine_sim\n",
    "\n",
    "    \n",
    "def grader(run_input: str, run_output: str, answer: Optional[str]) -> dict:\n",
    "    \"\"\"Compute the score and/or label for this run.\"\"\"\n",
    "    if answer is None:\n",
    "        value = \"AMBIGUOUS\"\n",
    "        score = 0.5\n",
    "    else:\n",
    "        score = cosine_similarity(run_output, answer)\n",
    "        value = \"CORRECT\" if score > 0.9 else \"INCORRECT\"\n",
    "    return dict(score=score, value=value)\n",
    "            \n",
    "cosine_string_eval_predictions = []\n",
    "for prediction in predictions:\n",
    "        evaluation_result = grader(prediction['query'], prediction['output'], prediction['trainingoutput'])    \n",
    "        cosine_string_eval_predictions.append({\n",
    "                \"query\": prediction['query'],\n",
    "                \"llm\": prediction['llm'],\n",
    "                \"context\": 'amazon_10k_2023.pdf',\n",
    "                \"output\": prediction['output'],\n",
    "                \"trainingoutput\": prediction['trainingoutput'],\n",
    "                \"evaluationmetric\": \"cosine similarity between two strings\",\n",
    "                \"score\": str(evaluation_result['value']),\n",
    "                \"feedback\": str(evaluation_result['score']),\n",
    "            })\n",
    "\n",
    "table_name = 'llmevaluationresults'\n",
    "save_results_to_dynamodb_table(table_name,cosine_string_eval_predictions)\n",
    "\n",
    "print(cosine_string_eval_predictions[1])"
   ]
  },
  {
   "cell_type": "code",
   "execution_count": 366,
   "id": "4339e554-819b-4171-bd7d-0453186b87d2",
   "metadata": {
    "tags": []
   },
   "outputs": [],
   "source": [
    "\n",
    "def get_embedding(body, modelId, accept, contentType):\n",
    "    response = bedrock_runtime.invoke_model(body=body, modelId=modelId, accept=accept, contentType=contentType)\n",
    "    response_body = json.loads(response.get('body').read())\n",
    "    embedding = response_body.get('embedding')\n",
    "    return embedding\n",
    "\n",
    "sleep_timer = 5\n",
    "\n",
    "def get_array_of_embeddings(phrases):\n",
    "    \"\"\"\n",
    "    Get an array of embeddings from a list of summaries.\n",
    "\n",
    "    Args:\n",
    "        phrases (list): List of summary texts.\n",
    "\n",
    "    Returns:\n",
    "        list: List of embeddings obtained from the models.\n",
    "    \"\"\"\n",
    "    modelId = \"amazon.titan-embed-text-v1\"\n",
    "    accept = \"application/json\"\n",
    "    contentType = \"application/json\"\n",
    "\n",
    "    array_embeddings = []\n",
    "    for phrase in phrases:\n",
    "        doc = {\"inputText\": phrase}\n",
    "        body = json.dumps(doc)\n",
    "        embedding = get_embedding(body, modelId, accept, contentType)\n",
    "        array_embeddings.append(embedding)\n",
    "        time.sleep(sleep_timer)\n",
    "\n",
    "    return array_embeddings\n",
    "\n",
    "\n",
    "cosine_string_eval_predictions_df = pd.DataFrame(cosine_string_eval_predictions)\n",
    "claude_output = cosine_string_eval_predictions_df[cosine_string_eval_predictions_df['llm'] == 'anthropic.claude-v2']['output']\n",
    "cohere_output = cosine_string_eval_predictions_df[cosine_string_eval_predictions_df['llm'] == 'cohere.command-text-v14']['output']\n",
    "lama_output = cosine_string_eval_predictions_df[cosine_string_eval_predictions_df['llm'] == 'jumpstart-dft-meta-textgeneration-llama-2-7b-f']['output']\n",
    "gt_output = cosine_string_eval_predictions_df[cosine_string_eval_predictions_df['llm'] == 'anthropic.claude-v2']['trainingoutput']\n",
    "\n",
    "lama_embeddings = get_array_of_embeddings(lama_output)\n",
    "cohere_embeddings = get_array_of_embeddings(cohere_output)\n",
    "claude_embeddings = get_array_of_embeddings(claude_output)\n",
    "gt_embeddings = get_array_of_embeddings(gt_output)"
   ]
  },
  {
   "cell_type": "code",
   "execution_count": 367,
   "id": "a7a33a56-eed9-4cce-94c5-68e24e486ba3",
   "metadata": {
    "tags": []
   },
   "outputs": [
    {
     "name": "stdout",
     "output_type": "stream",
     "text": [
      "Calculating Cosine Similarities for information extraction task ...\n",
      "Cosine Similarity Score for Llama Answers are: [0.68281821 0.72269649 0.93198588 0.58990934 0.8978202  0.19853065\n",
      " 0.2074887  0.36240937 0.66045076 0.75618894 0.58621983 0.12904224\n",
      " 0.78082907 0.77124821 0.94248092 0.88357624 0.83092977 0.88893535\n",
      " 0.76426978 0.48864429 0.75906705 0.59272231 0.63064392 0.8648563\n",
      " 0.66142403 0.40757043 0.75326256 0.577362   0.87857446 0.40930784\n",
      " 0.31850485 0.68430298 0.71500228 0.63371665 0.8572243  0.85522229\n",
      " 0.90762241 0.39556152 0.93575586 0.84525441 0.55004735 0.75291977\n",
      " 0.7287736  0.330928   0.78740208 0.47320228 0.84637318 0.25216712\n",
      " 0.48936379 0.56742107 0.15331856 0.75067591 0.75550859 0.95196581\n",
      " 0.45823404 0.79628275 0.97122247 0.69531688 0.77617925 0.52018213\n",
      " 0.773788   0.90638243 0.90371539 0.66030028 0.56036079 0.77138694\n",
      " 0.80182416 0.96592891 0.76758897 0.79782802 0.85486738 0.55124834]\n",
      "Cosine Similarity Score for Cohere Answers are: [0.63179997 0.73683803 0.69654473 0.9590399  0.65514775 0.94184327\n",
      " 0.25963656 0.85069619 0.95447851 0.75697058 0.68153049 0.11608921\n",
      " 0.78484409 0.71492638 0.61565842 0.6493023  0.0301959  0.8647761\n",
      " 0.77382186 0.5496413  0.74067159 0.52547867 0.63094432 0.82606579\n",
      " 0.66415167 0.83488839 0.61090546 0.56695359 0.58520301 0.46599293\n",
      " 0.61726948 0.6418892  0.6692832  0.59397605 0.83202216 0.49819521\n",
      " 0.31189916 0.66526111 0.77485592 0.85021067 0.47333311 0.75130235\n",
      " 0.87849851 0.55567439 0.58214612 0.79769403 0.94580043 0.29807683\n",
      " 0.73525024 0.51937112 0.39771325 0.78905599 0.40576866 0.30398824\n",
      " 0.427214   0.8640853  0.42228554 0.71443727 0.47728256 0.48930739\n",
      " 0.62835084 0.37464577 0.9462918  0.81852302 0.59107371 0.74264322\n",
      " 0.73432835 0.87987986 0.7125567  0.41620178 0.83956451 0.60436582]\n",
      "Cosine Similarity Score for Claude Answers are: [0.66111956 0.70890992 0.91546221 0.91496469 0.92451284 0.90737087\n",
      " 0.70049975 0.5145656  0.58768787 0.74652109 0.5765732  0.11834015\n",
      " 0.80009628 0.86282836 0.96735313 0.91263286 0.82330902 0.93018932\n",
      " 0.71465728 0.62031957 0.67620778 0.60740417 0.65855866 0.8389616\n",
      " 0.71132549 0.79199879 0.84618195 0.55872161 0.8445266  0.3468803\n",
      " 0.49230231 0.57153984 0.50091587 0.66594519 0.86801226 0.73268502\n",
      " 0.92712642 0.84833723 0.81223754 0.79740042 0.62201839 0.77293928\n",
      " 0.93701088 0.52098111 0.71896758 0.42185713 0.80653016 0.63425425\n",
      " 0.71672961 0.47664559 0.41567048 0.73720257 0.83209852 0.51116914\n",
      " 0.75800185 0.89390364 0.55516105 0.74063797 0.72850092 0.5896009\n",
      " 0.79118197 0.89422768 0.91271941 0.93375181 0.56153132 0.81169711\n",
      " 0.81917669 0.89862143 0.74629888 0.59635222 0.84191741 0.61517357]\n"
     ]
    },
    {
     "data": {
      "image/png": "[encoded data removed]",
      "text/plain": [
       "<Figure size 640x480 with 3 Axes>"
      ]
     },
     "metadata": {},
     "output_type": "display_data"
    }
   ],
   "source": [
    "print(\"Calculating Cosine Similarities for information extraction task ...\")\n",
    "from IPython.display import display, HTML\n",
    "import numpy as np\n",
    "from numpy.linalg import norm\n",
    "max_count = 72\n",
    "num_to_eval = 72\n",
    "\n",
    "\n",
    "lama_gt_cosine_sim = np.empty(num_to_eval)\n",
    "cohere_gt_cosine_sim = np.empty(num_to_eval)\n",
    "claude_gt_cosine_sim = np.empty(num_to_eval)\n",
    "\n",
    "for index in range(num_to_eval):\n",
    "    lama_gt_cosine_sim[index] = np.dot(\n",
    "        gt_embeddings[index], lama_embeddings[index]\n",
    "    ) / (norm(gt_embeddings[index]) * norm(lama_embeddings[index]))\n",
    "\n",
    "    cohere_gt_cosine_sim[index] = np.dot(\n",
    "        gt_embeddings[index], cohere_embeddings[index]\n",
    "    ) / (norm(gt_embeddings[index]) * norm(cohere_embeddings[index]))\n",
    "\n",
    "    claude_gt_cosine_sim[index] = np.dot(\n",
    "        gt_embeddings[index], claude_embeddings[index]\n",
    "    ) / (norm(gt_embeddings[index]) * norm(claude_embeddings[index]))\n",
    "\n",
    "\n",
    "print(\n",
    "    f\"Cosine Similarity Score for Llama Answers are: {lama_gt_cosine_sim}\"\n",
    ")\n",
    "print(\n",
    "    f\"Cosine Similarity Score for Cohere Answers are: {cohere_gt_cosine_sim}\"\n",
    ")\n",
    "print(\n",
    "    f\"Cosine Similarity Score for Claude Answers are: {claude_gt_cosine_sim}\"\n",
    ")\n",
    "\n",
    "ig, axs = plt.subplots(1, 3)\n",
    "# plt.subplots_adjust(wspace=0.1)\n",
    "\n",
    "plt.subplot(1, 3, 1)\n",
    "plt.hist(claude_gt_cosine_sim, color=\"green\")\n",
    "plt.legend([\"claude cosine similarities\"])\n",
    "plt.xlabel(\"cosine similarity\")\n",
    "plt.ylabel(\"Frequency\")\n",
    "\n",
    "plt.subplot(1, 3, 2)\n",
    "plt.hist(cohere_gt_cosine_sim, color=\"blue\")\n",
    "plt.legend([\"cohere cosine similarities\"])\n",
    "plt.xlabel(\"cosine similarity\")\n",
    "plt.ylabel(\"Frequency\")\n",
    "\n",
    "\n",
    "plt.subplot(1, 3, 3)\n",
    "plt.hist(lama_gt_cosine_sim, color=\"orange\")\n",
    "plt.legend([\"llama cosine similarities\"])\n",
    "plt.xlabel(\"cosine similarity\")\n",
    "plt.ylabel(\"Frequency\")\n",
    "plt.show()"
   ]
  },
  {
   "cell_type": "code",
   "execution_count": 383,
   "id": "e86aac34-fe51-4d8c-9175-931ad7f7a1d0",
   "metadata": {
    "tags": []
   },
   "outputs": [
    {
     "name": "stdout",
     "output_type": "stream",
     "text": [
      "Creating Cosine Similarity heatmap ...\n"
     ]
    },
    {
     "data": {
      "application/vnd.plotly.v1+json": {
       "config": {
        "plotlyServerURL": "https://plot.ly"
       },
       "data": [
        {
         "colorscale": [
          [
           0,
           "rgb(207, 89, 126)"
          ],
          [
           0.16666666666666666,
           "rgb(232, 132, 113)"
          ],
          [
           0.3333333333333333,
           "rgb(238, 180, 121)"
          ],
          [
           0.5,
           "rgb(233, 226, 156)"
          ],
          [
           0.6666666666666666,
           "rgb(156, 203, 134)"
          ],
          [
           0.8333333333333334,
           "rgb(57, 177, 133)"
          ],
          [
           1,
           "rgb(0, 147, 146)"
          ]
         ],
         "type": "heatmap",
         "z": [
          [
           0.6828182132612284,
           0.7226964906600395,
           0.9319858769329251,
           0.5899093362989124,
           0.897820196281481,
           0.19853064722328825,
           0.2074887039763977,
           0.3624093722965342,
           0.6604507645399132
          ],
          [
           0.7561889400319676,
           0.5862198321545531,
           0.12904224395765077,
           0.7808290729094225,
           0.7712482142366004,
           0.9424809231237189,
           0.8835762426081595,
           0.8309297744853411,
           0.8889353484947891
          ],
          [
           0.7642697829982469,
           0.4886442896643918,
           0.7590670486207756,
           0.5927223110539194,
           0.6306439165956726,
           0.8648563040283765,
           0.661424025568627,
           0.40757043349188804,
           0.7532625601586165
          ],
          [
           0.5773619954207418,
           0.8785744578917077,
           0.40930783973749824,
           0.31850484771507087,
           0.6843029759865491,
           0.71500228067958,
           0.6337166472337584,
           0.8572242966407766,
           0.8552222939489541
          ],
          [
           0.9076224055733662,
           0.395561516765123,
           0.9357558612279576,
           0.8452544124745066,
           0.5500473475270357,
           0.7529197660225365,
           0.7287736019659372,
           0.33092799674125883,
           0.7874020801280748
          ],
          [
           0.4732022820829803,
           0.8463731750860272,
           0.25216711802038305,
           0.48936379148856035,
           0.5674210657270198,
           0.15331856479067701,
           0.7506759127970407,
           0.75550858609894,
           0.9519658115160242
          ],
          [
           0.4582340438898067,
           0.796282749870282,
           0.9712224732956959,
           0.6953168829732695,
           0.776179253012068,
           0.5201821300506565,
           0.7737880023029771,
           0.9063824330571844,
           0.9037153941691279
          ],
          [
           0.6603002822796098,
           0.5603607942280988,
           0.7713869440924971,
           0.801824156275909,
           0.9659289123852678,
           0.7675889652842419,
           0.7978280159891357,
           0.8548673783346085,
           0.5512483446655865
          ]
         ],
         "zmax": 1,
         "zmin": 0
        }
       ],
       "layout": {
        "autosize": true,
        "template": {
         "data": {
          "bar": [
           {
            "error_x": {
             "color": "#2a3f5f"
            },
            "error_y": {
             "color": "#2a3f5f"
            },
            "marker": {
             "line": {
              "color": "#E5ECF6",
              "width": 0.5
             },
             "pattern": {
              "fillmode": "overlay",
              "size": 10,
              "solidity": 0.2
             }
            },
            "type": "bar"
           }
          ],
          "barpolar": [
           {
            "marker": {
             "line": {
              "color": "#E5ECF6",
              "width": 0.5
             },
             "pattern": {
              "fillmode": "overlay",
              "size": 10,
              "solidity": 0.2
             }
            },
            "type": "barpolar"
           }
          ],
          "carpet": [
           {
            "aaxis": {
             "endlinecolor": "#2a3f5f",
             "gridcolor": "white",
             "linecolor": "white",
             "minorgridcolor": "white",
             "startlinecolor": "#2a3f5f"
            },
            "baxis": {
             "endlinecolor": "#2a3f5f",
             "gridcolor": "white",
             "linecolor": "white",
             "minorgridcolor": "white",
             "startlinecolor": "#2a3f5f"
            },
            "type": "carpet"
           }
          ],
          "choropleth": [
           {
            "colorbar": {
             "outlinewidth": 0,
             "ticks": ""
            },
            "type": "choropleth"
           }
          ],
          "contour": [
           {
            "colorbar": {
             "outlinewidth": 0,
             "ticks": ""
            },
            "colorscale": [
             [
              0,
              "#0d0887"
             ],
             [
              0.1111111111111111,
              "#46039f"
             ],
             [
              0.2222222222222222,
              "#7201a8"
             ],
             [
              0.3333333333333333,
              "#9c179e"
             ],
             [
              0.4444444444444444,
              "#bd3786"
             ],
             [
              0.5555555555555556,
              "#d8576b"
             ],
             [
              0.6666666666666666,
              "#ed7953"
             ],
             [
              0.7777777777777778,
              "#fb9f3a"
             ],
             [
              0.8888888888888888,
              "#fdca26"
             ],
             [
              1,
              "#f0f921"
             ]
            ],
            "type": "contour"
           }
          ],
          "contourcarpet": [
           {
            "colorbar": {
             "outlinewidth": 0,
             "ticks": ""
            },
            "type": "contourcarpet"
           }
          ],
          "heatmap": [
           {
            "colorbar": {
             "outlinewidth": 0,
             "ticks": ""
            },
            "colorscale": [
             [
              0,
              "#0d0887"
             ],
             [
              0.1111111111111111,
              "#46039f"
             ],
             [
              0.2222222222222222,
              "#7201a8"
             ],
             [
              0.3333333333333333,
              "#9c179e"
             ],
             [
              0.4444444444444444,
              "#bd3786"
             ],
             [
              0.5555555555555556,
              "#d8576b"
             ],
             [
              0.6666666666666666,
              "#ed7953"
             ],
             [
              0.7777777777777778,
              "#fb9f3a"
             ],
             [
              0.8888888888888888,
              "#fdca26"
             ],
             [
              1,
              "#f0f921"
             ]
            ],
            "type": "heatmap"
           }
          ],
          "heatmapgl": [
           {
            "colorbar": {
             "outlinewidth": 0,
             "ticks": ""
            },
            "colorscale": [
             [
              0,
              "#0d0887"
             ],
             [
              0.1111111111111111,
              "#46039f"
             ],
             [
              0.2222222222222222,
              "#7201a8"
             ],
             [
              0.3333333333333333,
              "#9c179e"
             ],
             [
              0.4444444444444444,
              "#bd3786"
             ],
             [
              0.5555555555555556,
              "#d8576b"
             ],
             [
              0.6666666666666666,
              "#ed7953"
             ],
             [
              0.7777777777777778,
              "#fb9f3a"
             ],
             [
              0.8888888888888888,
              "#fdca26"
             ],
             [
              1,
              "#f0f921"
             ]
            ],
            "type": "heatmapgl"
           }
          ],
          "histogram": [
           {
            "marker": {
             "pattern": {
              "fillmode": "overlay",
              "size": 10,
              "solidity": 0.2
             }
            },
            "type": "histogram"
           }
          ],
          "histogram2d": [
           {
            "colorbar": {
             "outlinewidth": 0,
             "ticks": ""
            },
            "colorscale": [
             [
              0,
              "#0d0887"
             ],
             [
              0.1111111111111111,
              "#46039f"
             ],
             [
              0.2222222222222222,
              "#7201a8"
             ],
             [
              0.3333333333333333,
              "#9c179e"
             ],
             [
              0.4444444444444444,
              "#bd3786"
             ],
             [
              0.5555555555555556,
              "#d8576b"
             ],
             [
              0.6666666666666666,
              "#ed7953"
             ],
             [
              0.7777777777777778,
              "#fb9f3a"
             ],
             [
              0.8888888888888888,
              "#fdca26"
             ],
             [
              1,
              "#f0f921"
             ]
            ],
            "type": "histogram2d"
           }
          ],
          "histogram2dcontour": [
           {
            "colorbar": {
             "outlinewidth": 0,
             "ticks": ""
            },
            "colorscale": [
             [
              0,
              "#0d0887"
             ],
             [
              0.1111111111111111,
              "#46039f"
             ],
             [
              0.2222222222222222,
              "#7201a8"
             ],
             [
              0.3333333333333333,
              "#9c179e"
             ],
             [
              0.4444444444444444,
              "#bd3786"
             ],
             [
              0.5555555555555556,
              "#d8576b"
             ],
             [
              0.6666666666666666,
              "#ed7953"
             ],
             [
              0.7777777777777778,
              "#fb9f3a"
             ],
             [
              0.8888888888888888,
              "#fdca26"
             ],
             [
              1,
              "#f0f921"
             ]
            ],
            "type": "histogram2dcontour"
           }
          ],
          "mesh3d": [
           {
            "colorbar": {
             "outlinewidth": 0,
             "ticks": ""
            },
            "type": "mesh3d"
           }
          ],
          "parcoords": [
           {
            "line": {
             "colorbar": {
              "outlinewidth": 0,
              "ticks": ""
             }
            },
            "type": "parcoords"
           }
          ],
          "pie": [
           {
            "automargin": true,
            "type": "pie"
           }
          ],
          "scatter": [
           {
            "fillpattern": {
             "fillmode": "overlay",
             "size": 10,
             "solidity": 0.2
            },
            "type": "scatter"
           }
          ],
          "scatter3d": [
           {
            "line": {
             "colorbar": {
              "outlinewidth": 0,
              "ticks": ""
             }
            },
            "marker": {
             "colorbar": {
              "outlinewidth": 0,
              "ticks": ""
             }
            },
            "type": "scatter3d"
           }
          ],
          "scattercarpet": [
           {
            "marker": {
             "colorbar": {
              "outlinewidth": 0,
              "ticks": ""
             }
            },
            "type": "scattercarpet"
           }
          ],
          "scattergeo": [
           {
            "marker": {
             "colorbar": {
              "outlinewidth": 0,
              "ticks": ""
             }
            },
            "type": "scattergeo"
           }
          ],
          "scattergl": [
           {
            "marker": {
             "colorbar": {
              "outlinewidth": 0,
              "ticks": ""
             }
            },
            "type": "scattergl"
           }
          ],
          "scattermapbox": [
           {
            "marker": {
             "colorbar": {
              "outlinewidth": 0,
              "ticks": ""
             }
            },
            "type": "scattermapbox"
           }
          ],
          "scatterpolar": [
           {
            "marker": {
             "colorbar": {
              "outlinewidth": 0,
              "ticks": ""
             }
            },
            "type": "scatterpolar"
           }
          ],
          "scatterpolargl": [
           {
            "marker": {
             "colorbar": {
              "outlinewidth": 0,
              "ticks": ""
             }
            },
            "type": "scatterpolargl"
           }
          ],
          "scatterternary": [
           {
            "marker": {
             "colorbar": {
              "outlinewidth": 0,
              "ticks": ""
             }
            },
            "type": "scatterternary"
           }
          ],
          "surface": [
           {
            "colorbar": {
             "outlinewidth": 0,
             "ticks": ""
            },
            "colorscale": [
             [
              0,
              "#0d0887"
             ],
             [
              0.1111111111111111,
              "#46039f"
             ],
             [
              0.2222222222222222,
              "#7201a8"
             ],
             [
              0.3333333333333333,
              "#9c179e"
             ],
             [
              0.4444444444444444,
              "#bd3786"
             ],
             [
              0.5555555555555556,
              "#d8576b"
             ],
             [
              0.6666666666666666,
              "#ed7953"
             ],
             [
              0.7777777777777778,
              "#fb9f3a"
             ],
             [
              0.8888888888888888,
              "#fdca26"
             ],
             [
              1,
              "#f0f921"
             ]
            ],
            "type": "surface"
           }
          ],
          "table": [
           {
            "cells": {
             "fill": {
              "color": "#EBF0F8"
             },
             "line": {
              "color": "white"
             }
            },
            "header": {
             "fill": {
              "color": "#C8D4E3"
             },
             "line": {
              "color": "white"
             }
            },
            "type": "table"
           }
          ]
         },
         "layout": {
          "annotationdefaults": {
           "arrowcolor": "#2a3f5f",
           "arrowhead": 0,
           "arrowwidth": 1
          },
          "autotypenumbers": "strict",
          "coloraxis": {
           "colorbar": {
            "outlinewidth": 0,
            "ticks": ""
           }
          },
          "colorscale": {
           "diverging": [
            [
             0,
             "#8e0152"
            ],
            [
             0.1,
             "#c51b7d"
            ],
            [
             0.2,
             "#de77ae"
            ],
            [
             0.3,
             "#f1b6da"
            ],
            [
             0.4,
             "#fde0ef"
            ],
            [
             0.5,
             "#f7f7f7"
            ],
            [
             0.6,
             "#e6f5d0"
            ],
            [
             0.7,
             "#b8e186"
            ],
            [
             0.8,
             "#7fbc41"
            ],
            [
             0.9,
             "#4d9221"
            ],
            [
             1,
             "#276419"
            ]
           ],
           "sequential": [
            [
             0,
             "#0d0887"
            ],
            [
             0.1111111111111111,
             "#46039f"
            ],
            [
             0.2222222222222222,
             "#7201a8"
            ],
            [
             0.3333333333333333,
             "#9c179e"
            ],
            [
             0.4444444444444444,
             "#bd3786"
            ],
            [
             0.5555555555555556,
             "#d8576b"
            ],
            [
             0.6666666666666666,
             "#ed7953"
            ],
            [
             0.7777777777777778,
             "#fb9f3a"
            ],
            [
             0.8888888888888888,
             "#fdca26"
            ],
            [
             1,
             "#f0f921"
            ]
           ],
           "sequentialminus": [
            [
             0,
             "#0d0887"
            ],
            [
             0.1111111111111111,
             "#46039f"
            ],
            [
             0.2222222222222222,
             "#7201a8"
            ],
            [
             0.3333333333333333,
             "#9c179e"
            ],
            [
             0.4444444444444444,
             "#bd3786"
            ],
            [
             0.5555555555555556,
             "#d8576b"
            ],
            [
             0.6666666666666666,
             "#ed7953"
            ],
            [
             0.7777777777777778,
             "#fb9f3a"
            ],
            [
             0.8888888888888888,
             "#fdca26"
            ],
            [
             1,
             "#f0f921"
            ]
           ]
          },
          "colorway": [
           "#636efa",
           "#EF553B",
           "#00cc96",
           "#ab63fa",
           "#FFA15A",
           "#19d3f3",
           "#FF6692",
           "#B6E880",
           "#FF97FF",
           "#FECB52"
          ],
          "font": {
           "color": "#2a3f5f"
          },
          "geo": {
           "bgcolor": "white",
           "lakecolor": "white",
           "landcolor": "#E5ECF6",
           "showlakes": true,
           "showland": true,
           "subunitcolor": "white"
          },
          "hoverlabel": {
           "align": "left"
          },
          "hovermode": "closest",
          "mapbox": {
           "style": "light"
          },
          "paper_bgcolor": "white",
          "plot_bgcolor": "#E5ECF6",
          "polar": {
           "angularaxis": {
            "gridcolor": "white",
            "linecolor": "white",
            "ticks": ""
           },
           "bgcolor": "#E5ECF6",
           "radialaxis": {
            "gridcolor": "white",
            "linecolor": "white",
            "ticks": ""
           }
          },
          "scene": {
           "xaxis": {
            "backgroundcolor": "#E5ECF6",
            "gridcolor": "white",
            "gridwidth": 2,
            "linecolor": "white",
            "showbackground": true,
            "ticks": "",
            "zerolinecolor": "white"
           },
           "yaxis": {
            "backgroundcolor": "#E5ECF6",
            "gridcolor": "white",
            "gridwidth": 2,
            "linecolor": "white",
            "showbackground": true,
            "ticks": "",
            "zerolinecolor": "white"
           },
           "zaxis": {
            "backgroundcolor": "#E5ECF6",
            "gridcolor": "white",
            "gridwidth": 2,
            "linecolor": "white",
            "showbackground": true,
            "ticks": "",
            "zerolinecolor": "white"
           }
          },
          "shapedefaults": {
           "line": {
            "color": "#2a3f5f"
           }
          },
          "ternary": {
           "aaxis": {
            "gridcolor": "white",
            "linecolor": "white",
            "ticks": ""
           },
           "baxis": {
            "gridcolor": "white",
            "linecolor": "white",
            "ticks": ""
           },
           "bgcolor": "#E5ECF6",
           "caxis": {
            "gridcolor": "white",
            "linecolor": "white",
            "ticks": ""
           }
          },
          "title": {
           "x": 0.05
          },
          "xaxis": {
           "automargin": true,
           "gridcolor": "white",
           "linecolor": "white",
           "ticks": "",
           "title": {
            "standoff": 15
           },
           "zerolinecolor": "white",
           "zerolinewidth": 2
          },
          "yaxis": {
           "automargin": true,
           "gridcolor": "white",
           "linecolor": "white",
           "ticks": "",
           "title": {
            "standoff": 15
           },
           "zerolinecolor": "white",
           "zerolinewidth": 2
          }
         }
        },
        "title": {
         "text": "Interactive Heatmap of Cosine Similarities for Answers Produced by LLama27B vs Ground Truth"
        },
        "xaxis": {
         "autorange": true,
         "range": [
          -0.5,
          8.5
         ],
         "title": {
          "text": "X-axis"
         }
        },
        "yaxis": {
         "autorange": true,
         "range": [
          -0.5,
          7.5
         ],
         "title": {
          "text": "Y-axis"
         }
        }
       }
      },
      "image/png": "[encoded data removed]",
      "text/html": [
       "<div>                            <div id=\"0045e7ab-a865-47d1-959c-a1e7bffadad5\" class=\"plotly-graph-div\" style=\"height:525px; width:100%;\"></div>            <script type=\"text/javascript\">                require([\"plotly\"], function(Plotly) {                    window.PLOTLYENV=window.PLOTLYENV || {};                                    if (document.getElementById(\"0045e7ab-a865-47d1-959c-a1e7bffadad5\")) {                    Plotly.newPlot(                        \"0045e7ab-a865-47d1-959c-a1e7bffadad5\",                        [{\"colorscale\":[[0.0,\"rgb(207, 89, 126)\"],[0.16666666666666666,\"rgb(232, 132, 113)\"],[0.3333333333333333,\"rgb(238, 180, 121)\"],[0.5,\"rgb(233, 226, 156)\"],[0.6666666666666666,\"rgb(156, 203, 134)\"],[0.8333333333333334,\"rgb(57, 177, 133)\"],[1.0,\"rgb(0, 147, 146)\"]],\"z\":[[0.6828182132612284,0.7226964906600395,0.9319858769329251,0.5899093362989124,0.897820196281481,0.19853064722328825,0.2074887039763977,0.3624093722965342,0.6604507645399132],[0.7561889400319676,0.5862198321545531,0.12904224395765077,0.7808290729094225,0.7712482142366004,0.9424809231237189,0.8835762426081595,0.8309297744853411,0.8889353484947891],[0.7642697829982469,0.4886442896643918,0.7590670486207756,0.5927223110539194,0.6306439165956726,0.8648563040283765,0.661424025568627,0.40757043349188804,0.7532625601586165],[0.5773619954207418,0.8785744578917077,0.40930783973749824,0.31850484771507087,0.6843029759865491,0.71500228067958,0.6337166472337584,0.8572242966407766,0.8552222939489541],[0.9076224055733662,0.395561516765123,0.9357558612279576,0.8452544124745066,0.5500473475270357,0.7529197660225365,0.7287736019659372,0.33092799674125883,0.7874020801280748],[0.4732022820829803,0.8463731750860272,0.25216711802038305,0.48936379148856035,0.5674210657270198,0.15331856479067701,0.7506759127970407,0.75550858609894,0.9519658115160242],[0.4582340438898067,0.796282749870282,0.9712224732956959,0.6953168829732695,0.776179253012068,0.5201821300506565,0.7737880023029771,0.9063824330571844,0.9037153941691279],[0.6603002822796098,0.5603607942280988,0.7713869440924971,0.801824156275909,0.9659289123852678,0.7675889652842419,0.7978280159891357,0.8548673783346085,0.5512483446655865]],\"zmax\":1,\"zmin\":0,\"type\":\"heatmap\"}],                        {\"template\":{\"data\":{\"histogram2dcontour\":[{\"type\":\"histogram2dcontour\",\"colorbar\":{\"outlinewidth\":0,\"ticks\":\"\"},\"colorscale\":[[0.0,\"#0d0887\"],[0.1111111111111111,\"#46039f\"],[0.2222222222222222,\"#7201a8\"],[0.3333333333333333,\"#9c179e\"],[0.4444444444444444,\"#bd3786\"],[0.5555555555555556,\"#d8576b\"],[0.6666666666666666,\"#ed7953\"],[0.7777777777777778,\"#fb9f3a\"],[0.8888888888888888,\"#fdca26\"],[1.0,\"#f0f921\"]]}],\"choropleth\":[{\"type\":\"choropleth\",\"colorbar\":{\"outlinewidth\":0,\"ticks\":\"\"}}],\"histogram2d\":[{\"type\":\"histogram2d\",\"colorbar\":{\"outlinewidth\":0,\"ticks\":\"\"},\"colorscale\":[[0.0,\"#0d0887\"],[0.1111111111111111,\"#46039f\"],[0.2222222222222222,\"#7201a8\"],[0.3333333333333333,\"#9c179e\"],[0.4444444444444444,\"#bd3786\"],[0.5555555555555556,\"#d8576b\"],[0.6666666666666666,\"#ed7953\"],[0.7777777777777778,\"#fb9f3a\"],[0.8888888888888888,\"#fdca26\"],[1.0,\"#f0f921\"]]}],\"heatmap\":[{\"type\":\"heatmap\",\"colorbar\":{\"outlinewidth\":0,\"ticks\":\"\"},\"colorscale\":[[0.0,\"#0d0887\"],[0.1111111111111111,\"#46039f\"],[0.2222222222222222,\"#7201a8\"],[0.3333333333333333,\"#9c179e\"],[0.4444444444444444,\"#bd3786\"],[0.5555555555555556,\"#d8576b\"],[0.6666666666666666,\"#ed7953\"],[0.7777777777777778,\"#fb9f3a\"],[0.8888888888888888,\"#fdca26\"],[1.0,\"#f0f921\"]]}],\"heatmapgl\":[{\"type\":\"heatmapgl\",\"colorbar\":{\"outlinewidth\":0,\"ticks\":\"\"},\"colorscale\":[[0.0,\"#0d0887\"],[0.1111111111111111,\"#46039f\"],[0.2222222222222222,\"#7201a8\"],[0.3333333333333333,\"#9c179e\"],[0.4444444444444444,\"#bd3786\"],[0.5555555555555556,\"#d8576b\"],[0.6666666666666666,\"#ed7953\"],[0.7777777777777778,\"#fb9f3a\"],[0.8888888888888888,\"#fdca26\"],[1.0,\"#f0f921\"]]}],\"contourcarpet\":[{\"type\":\"contourcarpet\",\"colorbar\":{\"outlinewidth\":0,\"ticks\":\"\"}}],\"contour\":[{\"type\":\"contour\",\"colorbar\":{\"outlinewidth\":0,\"ticks\":\"\"},\"colorscale\":[[0.0,\"#0d0887\"],[0.1111111111111111,\"#46039f\"],[0.2222222222222222,\"#7201a8\"],[0.3333333333333333,\"#9c179e\"],[0.4444444444444444,\"#bd3786\"],[0.5555555555555556,\"#d8576b\"],[0.6666666666666666,\"#ed7953\"],[0.7777777777777778,\"#fb9f3a\"],[0.8888888888888888,\"#fdca26\"],[1.0,\"#f0f921\"]]}],\"surface\":[{\"type\":\"surface\",\"colorbar\":{\"outlinewidth\":0,\"ticks\":\"\"},\"colorscale\":[[0.0,\"#0d0887\"],[0.1111111111111111,\"#46039f\"],[0.2222222222222222,\"#7201a8\"],[0.3333333333333333,\"#9c179e\"],[0.4444444444444444,\"#bd3786\"],[0.5555555555555556,\"#d8576b\"],[0.6666666666666666,\"#ed7953\"],[0.7777777777777778,\"#fb9f3a\"],[0.8888888888888888,\"#fdca26\"],[1.0,\"#f0f921\"]]}],\"mesh3d\":[{\"type\":\"mesh3d\",\"colorbar\":{\"outlinewidth\":0,\"ticks\":\"\"}}],\"scatter\":[{\"fillpattern\":{\"fillmode\":\"overlay\",\"size\":10,\"solidity\":0.2},\"type\":\"scatter\"}],\"parcoords\":[{\"type\":\"parcoords\",\"line\":{\"colorbar\":{\"outlinewidth\":0,\"ticks\":\"\"}}}],\"scatterpolargl\":[{\"type\":\"scatterpolargl\",\"marker\":{\"colorbar\":{\"outlinewidth\":0,\"ticks\":\"\"}}}],\"bar\":[{\"error_x\":{\"color\":\"#2a3f5f\"},\"error_y\":{\"color\":\"#2a3f5f\"},\"marker\":{\"line\":{\"color\":\"#E5ECF6\",\"width\":0.5},\"pattern\":{\"fillmode\":\"overlay\",\"size\":10,\"solidity\":0.2}},\"type\":\"bar\"}],\"scattergeo\":[{\"type\":\"scattergeo\",\"marker\":{\"colorbar\":{\"outlinewidth\":0,\"ticks\":\"\"}}}],\"scatterpolar\":[{\"type\":\"scatterpolar\",\"marker\":{\"colorbar\":{\"outlinewidth\":0,\"ticks\":\"\"}}}],\"histogram\":[{\"marker\":{\"pattern\":{\"fillmode\":\"overlay\",\"size\":10,\"solidity\":0.2}},\"type\":\"histogram\"}],\"scattergl\":[{\"type\":\"scattergl\",\"marker\":{\"colorbar\":{\"outlinewidth\":0,\"ticks\":\"\"}}}],\"scatter3d\":[{\"type\":\"scatter3d\",\"line\":{\"colorbar\":{\"outlinewidth\":0,\"ticks\":\"\"}},\"marker\":{\"colorbar\":{\"outlinewidth\":0,\"ticks\":\"\"}}}],\"scattermapbox\":[{\"type\":\"scattermapbox\",\"marker\":{\"colorbar\":{\"outlinewidth\":0,\"ticks\":\"\"}}}],\"scatterternary\":[{\"type\":\"scatterternary\",\"marker\":{\"colorbar\":{\"outlinewidth\":0,\"ticks\":\"\"}}}],\"scattercarpet\":[{\"type\":\"scattercarpet\",\"marker\":{\"colorbar\":{\"outlinewidth\":0,\"ticks\":\"\"}}}],\"carpet\":[{\"aaxis\":{\"endlinecolor\":\"#2a3f5f\",\"gridcolor\":\"white\",\"linecolor\":\"white\",\"minorgridcolor\":\"white\",\"startlinecolor\":\"#2a3f5f\"},\"baxis\":{\"endlinecolor\":\"#2a3f5f\",\"gridcolor\":\"white\",\"linecolor\":\"white\",\"minorgridcolor\":\"white\",\"startlinecolor\":\"#2a3f5f\"},\"type\":\"carpet\"}],\"table\":[{\"cells\":{\"fill\":{\"color\":\"#EBF0F8\"},\"line\":{\"color\":\"white\"}},\"header\":{\"fill\":{\"color\":\"#C8D4E3\"},\"line\":{\"color\":\"white\"}},\"type\":\"table\"}],\"barpolar\":[{\"marker\":{\"line\":{\"color\":\"#E5ECF6\",\"width\":0.5},\"pattern\":{\"fillmode\":\"overlay\",\"size\":10,\"solidity\":0.2}},\"type\":\"barpolar\"}],\"pie\":[{\"automargin\":true,\"type\":\"pie\"}]},\"layout\":{\"autotypenumbers\":\"strict\",\"colorway\":[\"#636efa\",\"#EF553B\",\"#00cc96\",\"#ab63fa\",\"#FFA15A\",\"#19d3f3\",\"#FF6692\",\"#B6E880\",\"#FF97FF\",\"#FECB52\"],\"font\":{\"color\":\"#2a3f5f\"},\"hovermode\":\"closest\",\"hoverlabel\":{\"align\":\"left\"},\"paper_bgcolor\":\"white\",\"plot_bgcolor\":\"#E5ECF6\",\"polar\":{\"bgcolor\":\"#E5ECF6\",\"angularaxis\":{\"gridcolor\":\"white\",\"linecolor\":\"white\",\"ticks\":\"\"},\"radialaxis\":{\"gridcolor\":\"white\",\"linecolor\":\"white\",\"ticks\":\"\"}},\"ternary\":{\"bgcolor\":\"#E5ECF6\",\"aaxis\":{\"gridcolor\":\"white\",\"linecolor\":\"white\",\"ticks\":\"\"},\"baxis\":{\"gridcolor\":\"white\",\"linecolor\":\"white\",\"ticks\":\"\"},\"caxis\":{\"gridcolor\":\"white\",\"linecolor\":\"white\",\"ticks\":\"\"}},\"coloraxis\":{\"colorbar\":{\"outlinewidth\":0,\"ticks\":\"\"}},\"colorscale\":{\"sequential\":[[0.0,\"#0d0887\"],[0.1111111111111111,\"#46039f\"],[0.2222222222222222,\"#7201a8\"],[0.3333333333333333,\"#9c179e\"],[0.4444444444444444,\"#bd3786\"],[0.5555555555555556,\"#d8576b\"],[0.6666666666666666,\"#ed7953\"],[0.7777777777777778,\"#fb9f3a\"],[0.8888888888888888,\"#fdca26\"],[1.0,\"#f0f921\"]],\"sequentialminus\":[[0.0,\"#0d0887\"],[0.1111111111111111,\"#46039f\"],[0.2222222222222222,\"#7201a8\"],[0.3333333333333333,\"#9c179e\"],[0.4444444444444444,\"#bd3786\"],[0.5555555555555556,\"#d8576b\"],[0.6666666666666666,\"#ed7953\"],[0.7777777777777778,\"#fb9f3a\"],[0.8888888888888888,\"#fdca26\"],[1.0,\"#f0f921\"]],\"diverging\":[[0,\"#8e0152\"],[0.1,\"#c51b7d\"],[0.2,\"#de77ae\"],[0.3,\"#f1b6da\"],[0.4,\"#fde0ef\"],[0.5,\"#f7f7f7\"],[0.6,\"#e6f5d0\"],[0.7,\"#b8e186\"],[0.8,\"#7fbc41\"],[0.9,\"#4d9221\"],[1,\"#276419\"]]},\"xaxis\":{\"gridcolor\":\"white\",\"linecolor\":\"white\",\"ticks\":\"\",\"title\":{\"standoff\":15},\"zerolinecolor\":\"white\",\"automargin\":true,\"zerolinewidth\":2},\"yaxis\":{\"gridcolor\":\"white\",\"linecolor\":\"white\",\"ticks\":\"\",\"title\":{\"standoff\":15},\"zerolinecolor\":\"white\",\"automargin\":true,\"zerolinewidth\":2},\"scene\":{\"xaxis\":{\"backgroundcolor\":\"#E5ECF6\",\"gridcolor\":\"white\",\"linecolor\":\"white\",\"showbackground\":true,\"ticks\":\"\",\"zerolinecolor\":\"white\",\"gridwidth\":2},\"yaxis\":{\"backgroundcolor\":\"#E5ECF6\",\"gridcolor\":\"white\",\"linecolor\":\"white\",\"showbackground\":true,\"ticks\":\"\",\"zerolinecolor\":\"white\",\"gridwidth\":2},\"zaxis\":{\"backgroundcolor\":\"#E5ECF6\",\"gridcolor\":\"white\",\"linecolor\":\"white\",\"showbackground\":true,\"ticks\":\"\",\"zerolinecolor\":\"white\",\"gridwidth\":2}},\"shapedefaults\":{\"line\":{\"color\":\"#2a3f5f\"}},\"annotationdefaults\":{\"arrowcolor\":\"#2a3f5f\",\"arrowhead\":0,\"arrowwidth\":1},\"geo\":{\"bgcolor\":\"white\",\"landcolor\":\"#E5ECF6\",\"subunitcolor\":\"white\",\"showland\":true,\"showlakes\":true,\"lakecolor\":\"white\"},\"title\":{\"x\":0.05},\"mapbox\":{\"style\":\"light\"}}},\"title\":{\"text\":\"Interactive Heatmap of Cosine Similarities for Answers Produced by LLama27B vs Ground Truth\"},\"xaxis\":{\"title\":{\"text\":\"X-axis\"}},\"yaxis\":{\"title\":{\"text\":\"Y-axis\"}}},                        {\"responsive\": true}                    ).then(function(){\n",
       "                            \n",
       "var gd = document.getElementById('0045e7ab-a865-47d1-959c-a1e7bffadad5');\n",
       "var x = new MutationObserver(function (mutations, observer) {{\n",
       "        var display = window.getComputedStyle(gd).display;\n",
       "        if (!display || display === 'none') {{\n",
       "            console.log([gd, 'removed!']);\n",
       "            Plotly.purge(gd);\n",
       "            observer.disconnect();\n",
       "        }}\n",
       "}});\n",
       "\n",
       "// Listen for the removal of the full notebook cells\n",
       "var notebookContainer = gd.closest('#notebook-container');\n",
       "if (notebookContainer) {{\n",
       "    x.observe(notebookContainer, {childList: true});\n",
       "}}\n",
       "\n",
       "// Listen for the clearing of the current output cell\n",
       "var outputEl = gd.closest('.output');\n",
       "if (outputEl) {{\n",
       "    x.observe(outputEl, {childList: true});\n",
       "}}\n",
       "\n",
       "                        })                };                });            </script>        </div>"
      ]
     },
     "metadata": {},
     "output_type": "display_data"
    },
    {
     "data": {
      "application/vnd.plotly.v1+json": {
       "config": {
        "plotlyServerURL": "https://plot.ly"
       },
       "data": [
        {
         "colorscale": [
          [
           0,
           "rgb(207, 89, 126)"
          ],
          [
           0.16666666666666666,
           "rgb(232, 132, 113)"
          ],
          [
           0.3333333333333333,
           "rgb(238, 180, 121)"
          ],
          [
           0.5,
           "rgb(233, 226, 156)"
          ],
          [
           0.6666666666666666,
           "rgb(156, 203, 134)"
          ],
          [
           0.8333333333333334,
           "rgb(57, 177, 133)"
          ],
          [
           1,
           "rgb(0, 147, 146)"
          ]
         ],
         "type": "heatmap",
         "z": [
          [
           0.6317999655578469,
           0.7368380250445415,
           0.6965447289817799,
           0.9590398985414834,
           0.6551477502038131,
           0.9418432723268017,
           0.2596365565912513,
           0.850696191185038,
           0.9544785134260212
          ],
          [
           0.756970583266761,
           0.6815304943983497,
           0.1160892075610025,
           0.7848440932744415,
           0.7149263801764973,
           0.6156584245775475,
           0.6493022996079718,
           0.030195903197268642,
           0.864776096962328
          ],
          [
           0.7738218564457041,
           0.5496412964252888,
           0.7406715920174594,
           0.5254786728474458,
           0.6309443211629927,
           0.8260657924151859,
           0.6641516716176585,
           0.8348883939688719,
           0.6109054605785901
          ],
          [
           0.5669535859781264,
           0.5852030127628453,
           0.46599293189699625,
           0.6172694815964885,
           0.6418891985201581,
           0.6692832040974972,
           0.593976054632986,
           0.8320221554712799,
           0.4981952053264925
          ],
          [
           0.31189915896940806,
           0.6652611121095658,
           0.7748559211721543,
           0.8502106661519646,
           0.47333310834120884,
           0.7513023501151262,
           0.8784985073367868,
           0.5556743924831238,
           0.5821461228464817
          ],
          [
           0.7976940275889478,
           0.9458004345593735,
           0.298076834033513,
           0.7352502386264522,
           0.5193711226099755,
           0.39771324863334184,
           0.789055990395125,
           0.40576866057593014,
           0.30398823597373387
          ],
          [
           0.42721400275480187,
           0.8640852968693886,
           0.42228553983965694,
           0.7144372691512503,
           0.4772825565008178,
           0.4893073942390785,
           0.6283508367109027,
           0.3746457670938416,
           0.9462917950821835
          ],
          [
           0.8185230195452082,
           0.5910737050437004,
           0.7426432215713289,
           0.7343283468215984,
           0.8798798595500051,
           0.7125567016158512,
           0.4162017765150318,
           0.8395645097874368,
           0.604365815354603
          ]
         ],
         "zmax": 1,
         "zmin": 0
        }
       ],
       "layout": {
        "autosize": true,
        "template": {
         "data": {
          "bar": [
           {
            "error_x": {
             "color": "#2a3f5f"
            },
            "error_y": {
             "color": "#2a3f5f"
            },
            "marker": {
             "line": {
              "color": "#E5ECF6",
              "width": 0.5
             },
             "pattern": {
              "fillmode": "overlay",
              "size": 10,
              "solidity": 0.2
             }
            },
            "type": "bar"
           }
          ],
          "barpolar": [
           {
            "marker": {
             "line": {
              "color": "#E5ECF6",
              "width": 0.5
             },
             "pattern": {
              "fillmode": "overlay",
              "size": 10,
              "solidity": 0.2
             }
            },
            "type": "barpolar"
           }
          ],
          "carpet": [
           {
            "aaxis": {
             "endlinecolor": "#2a3f5f",
             "gridcolor": "white",
             "linecolor": "white",
             "minorgridcolor": "white",
             "startlinecolor": "#2a3f5f"
            },
            "baxis": {
             "endlinecolor": "#2a3f5f",
             "gridcolor": "white",
             "linecolor": "white",
             "minorgridcolor": "white",
             "startlinecolor": "#2a3f5f"
            },
            "type": "carpet"
           }
          ],
          "choropleth": [
           {
            "colorbar": {
             "outlinewidth": 0,
             "ticks": ""
            },
            "type": "choropleth"
           }
          ],
          "contour": [
           {
            "colorbar": {
             "outlinewidth": 0,
             "ticks": ""
            },
            "colorscale": [
             [
              0,
              "#0d0887"
             ],
             [
              0.1111111111111111,
              "#46039f"
             ],
             [
              0.2222222222222222,
              "#7201a8"
             ],
             [
              0.3333333333333333,
              "#9c179e"
             ],
             [
              0.4444444444444444,
              "#bd3786"
             ],
             [
              0.5555555555555556,
              "#d8576b"
             ],
             [
              0.6666666666666666,
              "#ed7953"
             ],
             [
              0.7777777777777778,
              "#fb9f3a"
             ],
             [
              0.8888888888888888,
              "#fdca26"
             ],
             [
              1,
              "#f0f921"
             ]
            ],
            "type": "contour"
           }
          ],
          "contourcarpet": [
           {
            "colorbar": {
             "outlinewidth": 0,
             "ticks": ""
            },
            "type": "contourcarpet"
           }
          ],
          "heatmap": [
           {
            "colorbar": {
             "outlinewidth": 0,
             "ticks": ""
            },
            "colorscale": [
             [
              0,
              "#0d0887"
             ],
             [
              0.1111111111111111,
              "#46039f"
             ],
             [
              0.2222222222222222,
              "#7201a8"
             ],
             [
              0.3333333333333333,
              "#9c179e"
             ],
             [
              0.4444444444444444,
              "#bd3786"
             ],
             [
              0.5555555555555556,
              "#d8576b"
             ],
             [
              0.6666666666666666,
              "#ed7953"
             ],
             [
              0.7777777777777778,
              "#fb9f3a"
             ],
             [
              0.8888888888888888,
              "#fdca26"
             ],
             [
              1,
              "#f0f921"
             ]
            ],
            "type": "heatmap"
           }
          ],
          "heatmapgl": [
           {
            "colorbar": {
             "outlinewidth": 0,
             "ticks": ""
            },
            "colorscale": [
             [
              0,
              "#0d0887"
             ],
             [
              0.1111111111111111,
              "#46039f"
             ],
             [
              0.2222222222222222,
              "#7201a8"
             ],
             [
              0.3333333333333333,
              "#9c179e"
             ],
             [
              0.4444444444444444,
              "#bd3786"
             ],
             [
              0.5555555555555556,
              "#d8576b"
             ],
             [
              0.6666666666666666,
              "#ed7953"
             ],
             [
              0.7777777777777778,
              "#fb9f3a"
             ],
             [
              0.8888888888888888,
              "#fdca26"
             ],
             [
              1,
              "#f0f921"
             ]
            ],
            "type": "heatmapgl"
           }
          ],
          "histogram": [
           {
            "marker": {
             "pattern": {
              "fillmode": "overlay",
              "size": 10,
              "solidity": 0.2
             }
            },
            "type": "histogram"
           }
          ],
          "histogram2d": [
           {
            "colorbar": {
             "outlinewidth": 0,
             "ticks": ""
            },
            "colorscale": [
             [
              0,
              "#0d0887"
             ],
             [
              0.1111111111111111,
              "#46039f"
             ],
             [
              0.2222222222222222,
              "#7201a8"
             ],
             [
              0.3333333333333333,
              "#9c179e"
             ],
             [
              0.4444444444444444,
              "#bd3786"
             ],
             [
              0.5555555555555556,
              "#d8576b"
             ],
             [
              0.6666666666666666,
              "#ed7953"
             ],
             [
              0.7777777777777778,
              "#fb9f3a"
             ],
             [
              0.8888888888888888,
              "#fdca26"
             ],
             [
              1,
              "#f0f921"
             ]
            ],
            "type": "histogram2d"
           }
          ],
          "histogram2dcontour": [
           {
            "colorbar": {
             "outlinewidth": 0,
             "ticks": ""
            },
            "colorscale": [
             [
              0,
              "#0d0887"
             ],
             [
              0.1111111111111111,
              "#46039f"
             ],
             [
              0.2222222222222222,
              "#7201a8"
             ],
             [
              0.3333333333333333,
              "#9c179e"
             ],
             [
              0.4444444444444444,
              "#bd3786"
             ],
             [
              0.5555555555555556,
              "#d8576b"
             ],
             [
              0.6666666666666666,
              "#ed7953"
             ],
             [
              0.7777777777777778,
              "#fb9f3a"
             ],
             [
              0.8888888888888888,
              "#fdca26"
             ],
             [
              1,
              "#f0f921"
             ]
            ],
            "type": "histogram2dcontour"
           }
          ],
          "mesh3d": [
           {
            "colorbar": {
             "outlinewidth": 0,
             "ticks": ""
            },
            "type": "mesh3d"
           }
          ],
          "parcoords": [
           {
            "line": {
             "colorbar": {
              "outlinewidth": 0,
              "ticks": ""
             }
            },
            "type": "parcoords"
           }
          ],
          "pie": [
           {
            "automargin": true,
            "type": "pie"
           }
          ],
          "scatter": [
           {
            "fillpattern": {
             "fillmode": "overlay",
             "size": 10,
             "solidity": 0.2
            },
            "type": "scatter"
           }
          ],
          "scatter3d": [
           {
            "line": {
             "colorbar": {
              "outlinewidth": 0,
              "ticks": ""
             }
            },
            "marker": {
             "colorbar": {
              "outlinewidth": 0,
              "ticks": ""
             }
            },
            "type": "scatter3d"
           }
          ],
          "scattercarpet": [
           {
            "marker": {
             "colorbar": {
              "outlinewidth": 0,
              "ticks": ""
             }
            },
            "type": "scattercarpet"
           }
          ],
          "scattergeo": [
           {
            "marker": {
             "colorbar": {
              "outlinewidth": 0,
              "ticks": ""
             }
            },
            "type": "scattergeo"
           }
          ],
          "scattergl": [
           {
            "marker": {
             "colorbar": {
              "outlinewidth": 0,
              "ticks": ""
             }
            },
            "type": "scattergl"
           }
          ],
          "scattermapbox": [
           {
            "marker": {
             "colorbar": {
              "outlinewidth": 0,
              "ticks": ""
             }
            },
            "type": "scattermapbox"
           }
          ],
          "scatterpolar": [
           {
            "marker": {
             "colorbar": {
              "outlinewidth": 0,
              "ticks": ""
             }
            },
            "type": "scatterpolar"
           }
          ],
          "scatterpolargl": [
           {
            "marker": {
             "colorbar": {
              "outlinewidth": 0,
              "ticks": ""
             }
            },
            "type": "scatterpolargl"
           }
          ],
          "scatterternary": [
           {
            "marker": {
             "colorbar": {
              "outlinewidth": 0,
              "ticks": ""
             }
            },
            "type": "scatterternary"
           }
          ],
          "surface": [
           {
            "colorbar": {
             "outlinewidth": 0,
             "ticks": ""
            },
            "colorscale": [
             [
              0,
              "#0d0887"
             ],
             [
              0.1111111111111111,
              "#46039f"
             ],
             [
              0.2222222222222222,
              "#7201a8"
             ],
             [
              0.3333333333333333,
              "#9c179e"
             ],
             [
              0.4444444444444444,
              "#bd3786"
             ],
             [
              0.5555555555555556,
              "#d8576b"
             ],
             [
              0.6666666666666666,
              "#ed7953"
             ],
             [
              0.7777777777777778,
              "#fb9f3a"
             ],
             [
              0.8888888888888888,
              "#fdca26"
             ],
             [
              1,
              "#f0f921"
             ]
            ],
            "type": "surface"
           }
          ],
          "table": [
           {
            "cells": {
             "fill": {
              "color": "#EBF0F8"
             },
             "line": {
              "color": "white"
             }
            },
            "header": {
             "fill": {
              "color": "#C8D4E3"
             },
             "line": {
              "color": "white"
             }
            },
            "type": "table"
           }
          ]
         },
         "layout": {
          "annotationdefaults": {
           "arrowcolor": "#2a3f5f",
           "arrowhead": 0,
           "arrowwidth": 1
          },
          "autotypenumbers": "strict",
          "coloraxis": {
           "colorbar": {
            "outlinewidth": 0,
            "ticks": ""
           }
          },
          "colorscale": {
           "diverging": [
            [
             0,
             "#8e0152"
            ],
            [
             0.1,
             "#c51b7d"
            ],
            [
             0.2,
             "#de77ae"
            ],
            [
             0.3,
             "#f1b6da"
            ],
            [
             0.4,
             "#fde0ef"
            ],
            [
             0.5,
             "#f7f7f7"
            ],
            [
             0.6,
             "#e6f5d0"
            ],
            [
             0.7,
             "#b8e186"
            ],
            [
             0.8,
             "#7fbc41"
            ],
            [
             0.9,
             "#4d9221"
            ],
            [
             1,
             "#276419"
            ]
           ],
           "sequential": [
            [
             0,
             "#0d0887"
            ],
            [
             0.1111111111111111,
             "#46039f"
            ],
            [
             0.2222222222222222,
             "#7201a8"
            ],
            [
             0.3333333333333333,
             "#9c179e"
            ],
            [
             0.4444444444444444,
             "#bd3786"
            ],
            [
             0.5555555555555556,
             "#d8576b"
            ],
            [
             0.6666666666666666,
             "#ed7953"
            ],
            [
             0.7777777777777778,
             "#fb9f3a"
            ],
            [
             0.8888888888888888,
             "#fdca26"
            ],
            [
             1,
             "#f0f921"
            ]
           ],
           "sequentialminus": [
            [
             0,
             "#0d0887"
            ],
            [
             0.1111111111111111,
             "#46039f"
            ],
            [
             0.2222222222222222,
             "#7201a8"
            ],
            [
             0.3333333333333333,
             "#9c179e"
            ],
            [
             0.4444444444444444,
             "#bd3786"
            ],
            [
             0.5555555555555556,
             "#d8576b"
            ],
            [
             0.6666666666666666,
             "#ed7953"
            ],
            [
             0.7777777777777778,
             "#fb9f3a"
            ],
            [
             0.8888888888888888,
             "#fdca26"
            ],
            [
             1,
             "#f0f921"
            ]
           ]
          },
          "colorway": [
           "#636efa",
           "#EF553B",
           "#00cc96",
           "#ab63fa",
           "#FFA15A",
           "#19d3f3",
           "#FF6692",
           "#B6E880",
           "#FF97FF",
           "#FECB52"
          ],
          "font": {
           "color": "#2a3f5f"
          },
          "geo": {
           "bgcolor": "white",
           "lakecolor": "white",
           "landcolor": "#E5ECF6",
           "showlakes": true,
           "showland": true,
           "subunitcolor": "white"
          },
          "hoverlabel": {
           "align": "left"
          },
          "hovermode": "closest",
          "mapbox": {
           "style": "light"
          },
          "paper_bgcolor": "white",
          "plot_bgcolor": "#E5ECF6",
          "polar": {
           "angularaxis": {
            "gridcolor": "white",
            "linecolor": "white",
            "ticks": ""
           },
           "bgcolor": "#E5ECF6",
           "radialaxis": {
            "gridcolor": "white",
            "linecolor": "white",
            "ticks": ""
           }
          },
          "scene": {
           "xaxis": {
            "backgroundcolor": "#E5ECF6",
            "gridcolor": "white",
            "gridwidth": 2,
            "linecolor": "white",
            "showbackground": true,
            "ticks": "",
            "zerolinecolor": "white"
           },
           "yaxis": {
            "backgroundcolor": "#E5ECF6",
            "gridcolor": "white",
            "gridwidth": 2,
            "linecolor": "white",
            "showbackground": true,
            "ticks": "",
            "zerolinecolor": "white"
           },
           "zaxis": {
            "backgroundcolor": "#E5ECF6",
            "gridcolor": "white",
            "gridwidth": 2,
            "linecolor": "white",
            "showbackground": true,
            "ticks": "",
            "zerolinecolor": "white"
           }
          },
          "shapedefaults": {
           "line": {
            "color": "#2a3f5f"
           }
          },
          "ternary": {
           "aaxis": {
            "gridcolor": "white",
            "linecolor": "white",
            "ticks": ""
           },
           "baxis": {
            "gridcolor": "white",
            "linecolor": "white",
            "ticks": ""
           },
           "bgcolor": "#E5ECF6",
           "caxis": {
            "gridcolor": "white",
            "linecolor": "white",
            "ticks": ""
           }
          },
          "title": {
           "x": 0.05
          },
          "xaxis": {
           "automargin": true,
           "gridcolor": "white",
           "linecolor": "white",
           "ticks": "",
           "title": {
            "standoff": 15
           },
           "zerolinecolor": "white",
           "zerolinewidth": 2
          },
          "yaxis": {
           "automargin": true,
           "gridcolor": "white",
           "linecolor": "white",
           "ticks": "",
           "title": {
            "standoff": 15
           },
           "zerolinecolor": "white",
           "zerolinewidth": 2
          }
         }
        },
        "title": {
         "text": "Interactive Heatmap of Cosine Similarities for Answers Produced by Cohere vs Ground Truth"
        },
        "xaxis": {
         "autorange": true,
         "range": [
          -0.5,
          8.5
         ],
         "title": {
          "text": "X-axis"
         }
        },
        "yaxis": {
         "autorange": true,
         "range": [
          -0.5,
          7.5
         ],
         "title": {
          "text": "Y-axis"
         }
        }
       }
      },
      "image/png": "[encoded data removed]",
      "text/html": [
       "<div>                            <div id=\"eee05ea5-de82-4c2d-ba08-478ad45672d5\" class=\"plotly-graph-div\" style=\"height:525px; width:100%;\"></div>            <script type=\"text/javascript\">                require([\"plotly\"], function(Plotly) {                    window.PLOTLYENV=window.PLOTLYENV || {};                                    if (document.getElementById(\"eee05ea5-de82-4c2d-ba08-478ad45672d5\")) {                    Plotly.newPlot(                        \"eee05ea5-de82-4c2d-ba08-478ad45672d5\",                        [{\"colorscale\":[[0.0,\"rgb(207, 89, 126)\"],[0.16666666666666666,\"rgb(232, 132, 113)\"],[0.3333333333333333,\"rgb(238, 180, 121)\"],[0.5,\"rgb(233, 226, 156)\"],[0.6666666666666666,\"rgb(156, 203, 134)\"],[0.8333333333333334,\"rgb(57, 177, 133)\"],[1.0,\"rgb(0, 147, 146)\"]],\"z\":[[0.6317999655578469,0.7368380250445415,0.6965447289817799,0.9590398985414834,0.6551477502038131,0.9418432723268017,0.2596365565912513,0.850696191185038,0.9544785134260212],[0.756970583266761,0.6815304943983497,0.1160892075610025,0.7848440932744415,0.7149263801764973,0.6156584245775475,0.6493022996079718,0.030195903197268642,0.864776096962328],[0.7738218564457041,0.5496412964252888,0.7406715920174594,0.5254786728474458,0.6309443211629927,0.8260657924151859,0.6641516716176585,0.8348883939688719,0.6109054605785901],[0.5669535859781264,0.5852030127628453,0.46599293189699625,0.6172694815964885,0.6418891985201581,0.6692832040974972,0.593976054632986,0.8320221554712799,0.4981952053264925],[0.31189915896940806,0.6652611121095658,0.7748559211721543,0.8502106661519646,0.47333310834120884,0.7513023501151262,0.8784985073367868,0.5556743924831238,0.5821461228464817],[0.7976940275889478,0.9458004345593735,0.298076834033513,0.7352502386264522,0.5193711226099755,0.39771324863334184,0.789055990395125,0.40576866057593014,0.30398823597373387],[0.42721400275480187,0.8640852968693886,0.42228553983965694,0.7144372691512503,0.4772825565008178,0.4893073942390785,0.6283508367109027,0.3746457670938416,0.9462917950821835],[0.8185230195452082,0.5910737050437004,0.7426432215713289,0.7343283468215984,0.8798798595500051,0.7125567016158512,0.4162017765150318,0.8395645097874368,0.604365815354603]],\"zmax\":1,\"zmin\":0,\"type\":\"heatmap\"}],                        {\"template\":{\"data\":{\"histogram2dcontour\":[{\"type\":\"histogram2dcontour\",\"colorbar\":{\"outlinewidth\":0,\"ticks\":\"\"},\"colorscale\":[[0.0,\"#0d0887\"],[0.1111111111111111,\"#46039f\"],[0.2222222222222222,\"#7201a8\"],[0.3333333333333333,\"#9c179e\"],[0.4444444444444444,\"#bd3786\"],[0.5555555555555556,\"#d8576b\"],[0.6666666666666666,\"#ed7953\"],[0.7777777777777778,\"#fb9f3a\"],[0.8888888888888888,\"#fdca26\"],[1.0,\"#f0f921\"]]}],\"choropleth\":[{\"type\":\"choropleth\",\"colorbar\":{\"outlinewidth\":0,\"ticks\":\"\"}}],\"histogram2d\":[{\"type\":\"histogram2d\",\"colorbar\":{\"outlinewidth\":0,\"ticks\":\"\"},\"colorscale\":[[0.0,\"#0d0887\"],[0.1111111111111111,\"#46039f\"],[0.2222222222222222,\"#7201a8\"],[0.3333333333333333,\"#9c179e\"],[0.4444444444444444,\"#bd3786\"],[0.5555555555555556,\"#d8576b\"],[0.6666666666666666,\"#ed7953\"],[0.7777777777777778,\"#fb9f3a\"],[0.8888888888888888,\"#fdca26\"],[1.0,\"#f0f921\"]]}],\"heatmap\":[{\"type\":\"heatmap\",\"colorbar\":{\"outlinewidth\":0,\"ticks\":\"\"},\"colorscale\":[[0.0,\"#0d0887\"],[0.1111111111111111,\"#46039f\"],[0.2222222222222222,\"#7201a8\"],[0.3333333333333333,\"#9c179e\"],[0.4444444444444444,\"#bd3786\"],[0.5555555555555556,\"#d8576b\"],[0.6666666666666666,\"#ed7953\"],[0.7777777777777778,\"#fb9f3a\"],[0.8888888888888888,\"#fdca26\"],[1.0,\"#f0f921\"]]}],\"heatmapgl\":[{\"type\":\"heatmapgl\",\"colorbar\":{\"outlinewidth\":0,\"ticks\":\"\"},\"colorscale\":[[0.0,\"#0d0887\"],[0.1111111111111111,\"#46039f\"],[0.2222222222222222,\"#7201a8\"],[0.3333333333333333,\"#9c179e\"],[0.4444444444444444,\"#bd3786\"],[0.5555555555555556,\"#d8576b\"],[0.6666666666666666,\"#ed7953\"],[0.7777777777777778,\"#fb9f3a\"],[0.8888888888888888,\"#fdca26\"],[1.0,\"#f0f921\"]]}],\"contourcarpet\":[{\"type\":\"contourcarpet\",\"colorbar\":{\"outlinewidth\":0,\"ticks\":\"\"}}],\"contour\":[{\"type\":\"contour\",\"colorbar\":{\"outlinewidth\":0,\"ticks\":\"\"},\"colorscale\":[[0.0,\"#0d0887\"],[0.1111111111111111,\"#46039f\"],[0.2222222222222222,\"#7201a8\"],[0.3333333333333333,\"#9c179e\"],[0.4444444444444444,\"#bd3786\"],[0.5555555555555556,\"#d8576b\"],[0.6666666666666666,\"#ed7953\"],[0.7777777777777778,\"#fb9f3a\"],[0.8888888888888888,\"#fdca26\"],[1.0,\"#f0f921\"]]}],\"surface\":[{\"type\":\"surface\",\"colorbar\":{\"outlinewidth\":0,\"ticks\":\"\"},\"colorscale\":[[0.0,\"#0d0887\"],[0.1111111111111111,\"#46039f\"],[0.2222222222222222,\"#7201a8\"],[0.3333333333333333,\"#9c179e\"],[0.4444444444444444,\"#bd3786\"],[0.5555555555555556,\"#d8576b\"],[0.6666666666666666,\"#ed7953\"],[0.7777777777777778,\"#fb9f3a\"],[0.8888888888888888,\"#fdca26\"],[1.0,\"#f0f921\"]]}],\"mesh3d\":[{\"type\":\"mesh3d\",\"colorbar\":{\"outlinewidth\":0,\"ticks\":\"\"}}],\"scatter\":[{\"fillpattern\":{\"fillmode\":\"overlay\",\"size\":10,\"solidity\":0.2},\"type\":\"scatter\"}],\"parcoords\":[{\"type\":\"parcoords\",\"line\":{\"colorbar\":{\"outlinewidth\":0,\"ticks\":\"\"}}}],\"scatterpolargl\":[{\"type\":\"scatterpolargl\",\"marker\":{\"colorbar\":{\"outlinewidth\":0,\"ticks\":\"\"}}}],\"bar\":[{\"error_x\":{\"color\":\"#2a3f5f\"},\"error_y\":{\"color\":\"#2a3f5f\"},\"marker\":{\"line\":{\"color\":\"#E5ECF6\",\"width\":0.5},\"pattern\":{\"fillmode\":\"overlay\",\"size\":10,\"solidity\":0.2}},\"type\":\"bar\"}],\"scattergeo\":[{\"type\":\"scattergeo\",\"marker\":{\"colorbar\":{\"outlinewidth\":0,\"ticks\":\"\"}}}],\"scatterpolar\":[{\"type\":\"scatterpolar\",\"marker\":{\"colorbar\":{\"outlinewidth\":0,\"ticks\":\"\"}}}],\"histogram\":[{\"marker\":{\"pattern\":{\"fillmode\":\"overlay\",\"size\":10,\"solidity\":0.2}},\"type\":\"histogram\"}],\"scattergl\":[{\"type\":\"scattergl\",\"marker\":{\"colorbar\":{\"outlinewidth\":0,\"ticks\":\"\"}}}],\"scatter3d\":[{\"type\":\"scatter3d\",\"line\":{\"colorbar\":{\"outlinewidth\":0,\"ticks\":\"\"}},\"marker\":{\"colorbar\":{\"outlinewidth\":0,\"ticks\":\"\"}}}],\"scattermapbox\":[{\"type\":\"scattermapbox\",\"marker\":{\"colorbar\":{\"outlinewidth\":0,\"ticks\":\"\"}}}],\"scatterternary\":[{\"type\":\"scatterternary\",\"marker\":{\"colorbar\":{\"outlinewidth\":0,\"ticks\":\"\"}}}],\"scattercarpet\":[{\"type\":\"scattercarpet\",\"marker\":{\"colorbar\":{\"outlinewidth\":0,\"ticks\":\"\"}}}],\"carpet\":[{\"aaxis\":{\"endlinecolor\":\"#2a3f5f\",\"gridcolor\":\"white\",\"linecolor\":\"white\",\"minorgridcolor\":\"white\",\"startlinecolor\":\"#2a3f5f\"},\"baxis\":{\"endlinecolor\":\"#2a3f5f\",\"gridcolor\":\"white\",\"linecolor\":\"white\",\"minorgridcolor\":\"white\",\"startlinecolor\":\"#2a3f5f\"},\"type\":\"carpet\"}],\"table\":[{\"cells\":{\"fill\":{\"color\":\"#EBF0F8\"},\"line\":{\"color\":\"white\"}},\"header\":{\"fill\":{\"color\":\"#C8D4E3\"},\"line\":{\"color\":\"white\"}},\"type\":\"table\"}],\"barpolar\":[{\"marker\":{\"line\":{\"color\":\"#E5ECF6\",\"width\":0.5},\"pattern\":{\"fillmode\":\"overlay\",\"size\":10,\"solidity\":0.2}},\"type\":\"barpolar\"}],\"pie\":[{\"automargin\":true,\"type\":\"pie\"}]},\"layout\":{\"autotypenumbers\":\"strict\",\"colorway\":[\"#636efa\",\"#EF553B\",\"#00cc96\",\"#ab63fa\",\"#FFA15A\",\"#19d3f3\",\"#FF6692\",\"#B6E880\",\"#FF97FF\",\"#FECB52\"],\"font\":{\"color\":\"#2a3f5f\"},\"hovermode\":\"closest\",\"hoverlabel\":{\"align\":\"left\"},\"paper_bgcolor\":\"white\",\"plot_bgcolor\":\"#E5ECF6\",\"polar\":{\"bgcolor\":\"#E5ECF6\",\"angularaxis\":{\"gridcolor\":\"white\",\"linecolor\":\"white\",\"ticks\":\"\"},\"radialaxis\":{\"gridcolor\":\"white\",\"linecolor\":\"white\",\"ticks\":\"\"}},\"ternary\":{\"bgcolor\":\"#E5ECF6\",\"aaxis\":{\"gridcolor\":\"white\",\"linecolor\":\"white\",\"ticks\":\"\"},\"baxis\":{\"gridcolor\":\"white\",\"linecolor\":\"white\",\"ticks\":\"\"},\"caxis\":{\"gridcolor\":\"white\",\"linecolor\":\"white\",\"ticks\":\"\"}},\"coloraxis\":{\"colorbar\":{\"outlinewidth\":0,\"ticks\":\"\"}},\"colorscale\":{\"sequential\":[[0.0,\"#0d0887\"],[0.1111111111111111,\"#46039f\"],[0.2222222222222222,\"#7201a8\"],[0.3333333333333333,\"#9c179e\"],[0.4444444444444444,\"#bd3786\"],[0.5555555555555556,\"#d8576b\"],[0.6666666666666666,\"#ed7953\"],[0.7777777777777778,\"#fb9f3a\"],[0.8888888888888888,\"#fdca26\"],[1.0,\"#f0f921\"]],\"sequentialminus\":[[0.0,\"#0d0887\"],[0.1111111111111111,\"#46039f\"],[0.2222222222222222,\"#7201a8\"],[0.3333333333333333,\"#9c179e\"],[0.4444444444444444,\"#bd3786\"],[0.5555555555555556,\"#d8576b\"],[0.6666666666666666,\"#ed7953\"],[0.7777777777777778,\"#fb9f3a\"],[0.8888888888888888,\"#fdca26\"],[1.0,\"#f0f921\"]],\"diverging\":[[0,\"#8e0152\"],[0.1,\"#c51b7d\"],[0.2,\"#de77ae\"],[0.3,\"#f1b6da\"],[0.4,\"#fde0ef\"],[0.5,\"#f7f7f7\"],[0.6,\"#e6f5d0\"],[0.7,\"#b8e186\"],[0.8,\"#7fbc41\"],[0.9,\"#4d9221\"],[1,\"#276419\"]]},\"xaxis\":{\"gridcolor\":\"white\",\"linecolor\":\"white\",\"ticks\":\"\",\"title\":{\"standoff\":15},\"zerolinecolor\":\"white\",\"automargin\":true,\"zerolinewidth\":2},\"yaxis\":{\"gridcolor\":\"white\",\"linecolor\":\"white\",\"ticks\":\"\",\"title\":{\"standoff\":15},\"zerolinecolor\":\"white\",\"automargin\":true,\"zerolinewidth\":2},\"scene\":{\"xaxis\":{\"backgroundcolor\":\"#E5ECF6\",\"gridcolor\":\"white\",\"linecolor\":\"white\",\"showbackground\":true,\"ticks\":\"\",\"zerolinecolor\":\"white\",\"gridwidth\":2},\"yaxis\":{\"backgroundcolor\":\"#E5ECF6\",\"gridcolor\":\"white\",\"linecolor\":\"white\",\"showbackground\":true,\"ticks\":\"\",\"zerolinecolor\":\"white\",\"gridwidth\":2},\"zaxis\":{\"backgroundcolor\":\"#E5ECF6\",\"gridcolor\":\"white\",\"linecolor\":\"white\",\"showbackground\":true,\"ticks\":\"\",\"zerolinecolor\":\"white\",\"gridwidth\":2}},\"shapedefaults\":{\"line\":{\"color\":\"#2a3f5f\"}},\"annotationdefaults\":{\"arrowcolor\":\"#2a3f5f\",\"arrowhead\":0,\"arrowwidth\":1},\"geo\":{\"bgcolor\":\"white\",\"landcolor\":\"#E5ECF6\",\"subunitcolor\":\"white\",\"showland\":true,\"showlakes\":true,\"lakecolor\":\"white\"},\"title\":{\"x\":0.05},\"mapbox\":{\"style\":\"light\"}}},\"title\":{\"text\":\"Interactive Heatmap of Cosine Similarities for Answers Produced by Cohere vs Ground Truth\"},\"xaxis\":{\"title\":{\"text\":\"X-axis\"}},\"yaxis\":{\"title\":{\"text\":\"Y-axis\"}}},                        {\"responsive\": true}                    ).then(function(){\n",
       "                            \n",
       "var gd = document.getElementById('eee05ea5-de82-4c2d-ba08-478ad45672d5');\n",
       "var x = new MutationObserver(function (mutations, observer) {{\n",
       "        var display = window.getComputedStyle(gd).display;\n",
       "        if (!display || display === 'none') {{\n",
       "            console.log([gd, 'removed!']);\n",
       "            Plotly.purge(gd);\n",
       "            observer.disconnect();\n",
       "        }}\n",
       "}});\n",
       "\n",
       "// Listen for the removal of the full notebook cells\n",
       "var notebookContainer = gd.closest('#notebook-container');\n",
       "if (notebookContainer) {{\n",
       "    x.observe(notebookContainer, {childList: true});\n",
       "}}\n",
       "\n",
       "// Listen for the clearing of the current output cell\n",
       "var outputEl = gd.closest('.output');\n",
       "if (outputEl) {{\n",
       "    x.observe(outputEl, {childList: true});\n",
       "}}\n",
       "\n",
       "                        })                };                });            </script>        </div>"
      ]
     },
     "metadata": {},
     "output_type": "display_data"
    },
    {
     "data": {
      "application/vnd.plotly.v1+json": {
       "config": {
        "plotlyServerURL": "https://plot.ly"
       },
       "data": [
        {
         "colorscale": [
          [
           0,
           "rgb(207, 89, 126)"
          ],
          [
           0.16666666666666666,
           "rgb(232, 132, 113)"
          ],
          [
           0.3333333333333333,
           "rgb(238, 180, 121)"
          ],
          [
           0.5,
           "rgb(233, 226, 156)"
          ],
          [
           0.6666666666666666,
           "rgb(156, 203, 134)"
          ],
          [
           0.8333333333333334,
           "rgb(57, 177, 133)"
          ],
          [
           1,
           "rgb(0, 147, 146)"
          ]
         ],
         "type": "heatmap",
         "z": [
          [
           0.6611195599819425,
           0.7089099229831229,
           0.9154622085842244,
           0.9149646947515642,
           0.9245128430971943,
           0.9073708715228955,
           0.7004997532364674,
           0.5145655981805565,
           0.5876878681711767
          ],
          [
           0.7465210867989169,
           0.576573197979807,
           0.1183401545206541,
           0.8000962787087715,
           0.8628283597287661,
           0.9673531272957007,
           0.9126328588077226,
           0.8233090153289494,
           0.9301893207737477
          ],
          [
           0.7146572830789593,
           0.6203195739761259,
           0.6762077844182478,
           0.6074041651560322,
           0.6585586591892885,
           0.8389615997505288,
           0.7113254892389179,
           0.7919987934228222,
           0.8461819518674799
          ],
          [
           0.5587216086590874,
           0.8445265975409196,
           0.34688029531960163,
           0.49230230786940593,
           0.5715398381301033,
           0.5009158677647831,
           0.6659451876349463,
           0.8680122609238594,
           0.7326850157165894
          ],
          [
           0.9271264221934324,
           0.8483372272992319,
           0.8122375447438293,
           0.7974004165433145,
           0.6220183918813942,
           0.7729392821108361,
           0.937010875062686,
           0.5209811140989622,
           0.7189675835098952
          ],
          [
           0.42185712604433667,
           0.8065301552022773,
           0.6342542472742224,
           0.7167296073639385,
           0.4766455945713161,
           0.4156704839304996,
           0.7372025724189863,
           0.8320985179347417,
           0.5111691372806207
          ],
          [
           0.7580018469821485,
           0.893903644548226,
           0.5551610507895933,
           0.7406379711800044,
           0.7285009232543678,
           0.5896009021309832,
           0.7911819654180209,
           0.8942276804990509,
           0.912719413714753
          ],
          [
           0.9337518069378778,
           0.5615313183763191,
           0.8116971148084555,
           0.8191766908486374,
           0.8986214259564261,
           0.7462988830344426,
           0.5963522247741772,
           0.8419174106004549,
           0.6151735739201397
          ]
         ],
         "zmax": 1,
         "zmin": 0
        }
       ],
       "layout": {
        "autosize": true,
        "template": {
         "data": {
          "bar": [
           {
            "error_x": {
             "color": "#2a3f5f"
            },
            "error_y": {
             "color": "#2a3f5f"
            },
            "marker": {
             "line": {
              "color": "#E5ECF6",
              "width": 0.5
             },
             "pattern": {
              "fillmode": "overlay",
              "size": 10,
              "solidity": 0.2
             }
            },
            "type": "bar"
           }
          ],
          "barpolar": [
           {
            "marker": {
             "line": {
              "color": "#E5ECF6",
              "width": 0.5
             },
             "pattern": {
              "fillmode": "overlay",
              "size": 10,
              "solidity": 0.2
             }
            },
            "type": "barpolar"
           }
          ],
          "carpet": [
           {
            "aaxis": {
             "endlinecolor": "#2a3f5f",
             "gridcolor": "white",
             "linecolor": "white",
             "minorgridcolor": "white",
             "startlinecolor": "#2a3f5f"
            },
            "baxis": {
             "endlinecolor": "#2a3f5f",
             "gridcolor": "white",
             "linecolor": "white",
             "minorgridcolor": "white",
             "startlinecolor": "#2a3f5f"
            },
            "type": "carpet"
           }
          ],
          "choropleth": [
           {
            "colorbar": {
             "outlinewidth": 0,
             "ticks": ""
            },
            "type": "choropleth"
           }
          ],
          "contour": [
           {
            "colorbar": {
             "outlinewidth": 0,
             "ticks": ""
            },
            "colorscale": [
             [
              0,
              "#0d0887"
             ],
             [
              0.1111111111111111,
              "#46039f"
             ],
             [
              0.2222222222222222,
              "#7201a8"
             ],
             [
              0.3333333333333333,
              "#9c179e"
             ],
             [
              0.4444444444444444,
              "#bd3786"
             ],
             [
              0.5555555555555556,
              "#d8576b"
             ],
             [
              0.6666666666666666,
              "#ed7953"
             ],
             [
              0.7777777777777778,
              "#fb9f3a"
             ],
             [
              0.8888888888888888,
              "#fdca26"
             ],
             [
              1,
              "#f0f921"
             ]
            ],
            "type": "contour"
           }
          ],
          "contourcarpet": [
           {
            "colorbar": {
             "outlinewidth": 0,
             "ticks": ""
            },
            "type": "contourcarpet"
           }
          ],
          "heatmap": [
           {
            "colorbar": {
             "outlinewidth": 0,
             "ticks": ""
            },
            "colorscale": [
             [
              0,
              "#0d0887"
             ],
             [
              0.1111111111111111,
              "#46039f"
             ],
             [
              0.2222222222222222,
              "#7201a8"
             ],
             [
              0.3333333333333333,
              "#9c179e"
             ],
             [
              0.4444444444444444,
              "#bd3786"
             ],
             [
              0.5555555555555556,
              "#d8576b"
             ],
             [
              0.6666666666666666,
              "#ed7953"
             ],
             [
              0.7777777777777778,
              "#fb9f3a"
             ],
             [
              0.8888888888888888,
              "#fdca26"
             ],
             [
              1,
              "#f0f921"
             ]
            ],
            "type": "heatmap"
           }
          ],
          "heatmapgl": [
           {
            "colorbar": {
             "outlinewidth": 0,
             "ticks": ""
            },
            "colorscale": [
             [
              0,
              "#0d0887"
             ],
             [
              0.1111111111111111,
              "#46039f"
             ],
             [
              0.2222222222222222,
              "#7201a8"
             ],
             [
              0.3333333333333333,
              "#9c179e"
             ],
             [
              0.4444444444444444,
              "#bd3786"
             ],
             [
              0.5555555555555556,
              "#d8576b"
             ],
             [
              0.6666666666666666,
              "#ed7953"
             ],
             [
              0.7777777777777778,
              "#fb9f3a"
             ],
             [
              0.8888888888888888,
              "#fdca26"
             ],
             [
              1,
              "#f0f921"
             ]
            ],
            "type": "heatmapgl"
           }
          ],
          "histogram": [
           {
            "marker": {
             "pattern": {
              "fillmode": "overlay",
              "size": 10,
              "solidity": 0.2
             }
            },
            "type": "histogram"
           }
          ],
          "histogram2d": [
           {
            "colorbar": {
             "outlinewidth": 0,
             "ticks": ""
            },
            "colorscale": [
             [
              0,
              "#0d0887"
             ],
             [
              0.1111111111111111,
              "#46039f"
             ],
             [
              0.2222222222222222,
              "#7201a8"
             ],
             [
              0.3333333333333333,
              "#9c179e"
             ],
             [
              0.4444444444444444,
              "#bd3786"
             ],
             [
              0.5555555555555556,
              "#d8576b"
             ],
             [
              0.6666666666666666,
              "#ed7953"
             ],
             [
              0.7777777777777778,
              "#fb9f3a"
             ],
             [
              0.8888888888888888,
              "#fdca26"
             ],
             [
              1,
              "#f0f921"
             ]
            ],
            "type": "histogram2d"
           }
          ],
          "histogram2dcontour": [
           {
            "colorbar": {
             "outlinewidth": 0,
             "ticks": ""
            },
            "colorscale": [
             [
              0,
              "#0d0887"
             ],
             [
              0.1111111111111111,
              "#46039f"
             ],
             [
              0.2222222222222222,
              "#7201a8"
             ],
             [
              0.3333333333333333,
              "#9c179e"
             ],
             [
              0.4444444444444444,
              "#bd3786"
             ],
             [
              0.5555555555555556,
              "#d8576b"
             ],
             [
              0.6666666666666666,
              "#ed7953"
             ],
             [
              0.7777777777777778,
              "#fb9f3a"
             ],
             [
              0.8888888888888888,
              "#fdca26"
             ],
             [
              1,
              "#f0f921"
             ]
            ],
            "type": "histogram2dcontour"
           }
          ],
          "mesh3d": [
           {
            "colorbar": {
             "outlinewidth": 0,
             "ticks": ""
            },
            "type": "mesh3d"
           }
          ],
          "parcoords": [
           {
            "line": {
             "colorbar": {
              "outlinewidth": 0,
              "ticks": ""
             }
            },
            "type": "parcoords"
           }
          ],
          "pie": [
           {
            "automargin": true,
            "type": "pie"
           }
          ],
          "scatter": [
           {
            "fillpattern": {
             "fillmode": "overlay",
             "size": 10,
             "solidity": 0.2
            },
            "type": "scatter"
           }
          ],
          "scatter3d": [
           {
            "line": {
             "colorbar": {
              "outlinewidth": 0,
              "ticks": ""
             }
            },
            "marker": {
             "colorbar": {
              "outlinewidth": 0,
              "ticks": ""
             }
            },
            "type": "scatter3d"
           }
          ],
          "scattercarpet": [
           {
            "marker": {
             "colorbar": {
              "outlinewidth": 0,
              "ticks": ""
             }
            },
            "type": "scattercarpet"
           }
          ],
          "scattergeo": [
           {
            "marker": {
             "colorbar": {
              "outlinewidth": 0,
              "ticks": ""
             }
            },
            "type": "scattergeo"
           }
          ],
          "scattergl": [
           {
            "marker": {
             "colorbar": {
              "outlinewidth": 0,
              "ticks": ""
             }
            },
            "type": "scattergl"
           }
          ],
          "scattermapbox": [
           {
            "marker": {
             "colorbar": {
              "outlinewidth": 0,
              "ticks": ""
             }
            },
            "type": "scattermapbox"
           }
          ],
          "scatterpolar": [
           {
            "marker": {
             "colorbar": {
              "outlinewidth": 0,
              "ticks": ""
             }
            },
            "type": "scatterpolar"
           }
          ],
          "scatterpolargl": [
           {
            "marker": {
             "colorbar": {
              "outlinewidth": 0,
              "ticks": ""
             }
            },
            "type": "scatterpolargl"
           }
          ],
          "scatterternary": [
           {
            "marker": {
             "colorbar": {
              "outlinewidth": 0,
              "ticks": ""
             }
            },
            "type": "scatterternary"
           }
          ],
          "surface": [
           {
            "colorbar": {
             "outlinewidth": 0,
             "ticks": ""
            },
            "colorscale": [
             [
              0,
              "#0d0887"
             ],
             [
              0.1111111111111111,
              "#46039f"
             ],
             [
              0.2222222222222222,
              "#7201a8"
             ],
             [
              0.3333333333333333,
              "#9c179e"
             ],
             [
              0.4444444444444444,
              "#bd3786"
             ],
             [
              0.5555555555555556,
              "#d8576b"
             ],
             [
              0.6666666666666666,
              "#ed7953"
             ],
             [
              0.7777777777777778,
              "#fb9f3a"
             ],
             [
              0.8888888888888888,
              "#fdca26"
             ],
             [
              1,
              "#f0f921"
             ]
            ],
            "type": "surface"
           }
          ],
          "table": [
           {
            "cells": {
             "fill": {
              "color": "#EBF0F8"
             },
             "line": {
              "color": "white"
             }
            },
            "header": {
             "fill": {
              "color": "#C8D4E3"
             },
             "line": {
              "color": "white"
             }
            },
            "type": "table"
           }
          ]
         },
         "layout": {
          "annotationdefaults": {
           "arrowcolor": "#2a3f5f",
           "arrowhead": 0,
           "arrowwidth": 1
          },
          "autotypenumbers": "strict",
          "coloraxis": {
           "colorbar": {
            "outlinewidth": 0,
            "ticks": ""
           }
          },
          "colorscale": {
           "diverging": [
            [
             0,
             "#8e0152"
            ],
            [
             0.1,
             "#c51b7d"
            ],
            [
             0.2,
             "#de77ae"
            ],
            [
             0.3,
             "#f1b6da"
            ],
            [
             0.4,
             "#fde0ef"
            ],
            [
             0.5,
             "#f7f7f7"
            ],
            [
             0.6,
             "#e6f5d0"
            ],
            [
             0.7,
             "#b8e186"
            ],
            [
             0.8,
             "#7fbc41"
            ],
            [
             0.9,
             "#4d9221"
            ],
            [
             1,
             "#276419"
            ]
           ],
           "sequential": [
            [
             0,
             "#0d0887"
            ],
            [
             0.1111111111111111,
             "#46039f"
            ],
            [
             0.2222222222222222,
             "#7201a8"
            ],
            [
             0.3333333333333333,
             "#9c179e"
            ],
            [
             0.4444444444444444,
             "#bd3786"
            ],
            [
             0.5555555555555556,
             "#d8576b"
            ],
            [
             0.6666666666666666,
             "#ed7953"
            ],
            [
             0.7777777777777778,
             "#fb9f3a"
            ],
            [
             0.8888888888888888,
             "#fdca26"
            ],
            [
             1,
             "#f0f921"
            ]
           ],
           "sequentialminus": [
            [
             0,
             "#0d0887"
            ],
            [
             0.1111111111111111,
             "#46039f"
            ],
            [
             0.2222222222222222,
             "#7201a8"
            ],
            [
             0.3333333333333333,
             "#9c179e"
            ],
            [
             0.4444444444444444,
             "#bd3786"
            ],
            [
             0.5555555555555556,
             "#d8576b"
            ],
            [
             0.6666666666666666,
             "#ed7953"
            ],
            [
             0.7777777777777778,
             "#fb9f3a"
            ],
            [
             0.8888888888888888,
             "#fdca26"
            ],
            [
             1,
             "#f0f921"
            ]
           ]
          },
          "colorway": [
           "#636efa",
           "#EF553B",
           "#00cc96",
           "#ab63fa",
           "#FFA15A",
           "#19d3f3",
           "#FF6692",
           "#B6E880",
           "#FF97FF",
           "#FECB52"
          ],
          "font": {
           "color": "#2a3f5f"
          },
          "geo": {
           "bgcolor": "white",
           "lakecolor": "white",
           "landcolor": "#E5ECF6",
           "showlakes": true,
           "showland": true,
           "subunitcolor": "white"
          },
          "hoverlabel": {
           "align": "left"
          },
          "hovermode": "closest",
          "mapbox": {
           "style": "light"
          },
          "paper_bgcolor": "white",
          "plot_bgcolor": "#E5ECF6",
          "polar": {
           "angularaxis": {
            "gridcolor": "white",
            "linecolor": "white",
            "ticks": ""
           },
           "bgcolor": "#E5ECF6",
           "radialaxis": {
            "gridcolor": "white",
            "linecolor": "white",
            "ticks": ""
           }
          },
          "scene": {
           "xaxis": {
            "backgroundcolor": "#E5ECF6",
            "gridcolor": "white",
            "gridwidth": 2,
            "linecolor": "white",
            "showbackground": true,
            "ticks": "",
            "zerolinecolor": "white"
           },
           "yaxis": {
            "backgroundcolor": "#E5ECF6",
            "gridcolor": "white",
            "gridwidth": 2,
            "linecolor": "white",
            "showbackground": true,
            "ticks": "",
            "zerolinecolor": "white"
           },
           "zaxis": {
            "backgroundcolor": "#E5ECF6",
            "gridcolor": "white",
            "gridwidth": 2,
            "linecolor": "white",
            "showbackground": true,
            "ticks": "",
            "zerolinecolor": "white"
           }
          },
          "shapedefaults": {
           "line": {
            "color": "#2a3f5f"
           }
          },
          "ternary": {
           "aaxis": {
            "gridcolor": "white",
            "linecolor": "white",
            "ticks": ""
           },
           "baxis": {
            "gridcolor": "white",
            "linecolor": "white",
            "ticks": ""
           },
           "bgcolor": "#E5ECF6",
           "caxis": {
            "gridcolor": "white",
            "linecolor": "white",
            "ticks": ""
           }
          },
          "title": {
           "x": 0.05
          },
          "xaxis": {
           "automargin": true,
           "gridcolor": "white",
           "linecolor": "white",
           "ticks": "",
           "title": {
            "standoff": 15
           },
           "zerolinecolor": "white",
           "zerolinewidth": 2
          },
          "yaxis": {
           "automargin": true,
           "gridcolor": "white",
           "linecolor": "white",
           "ticks": "",
           "title": {
            "standoff": 15
           },
           "zerolinecolor": "white",
           "zerolinewidth": 2
          }
         }
        },
        "title": {
         "text": "Interactive Heatmap of Cosine Similarities for Answers Produced by Claude vs Ground Truth"
        },
        "xaxis": {
         "autorange": true,
         "range": [
          -0.5,
          8.5
         ],
         "title": {
          "text": "X-axis"
         }
        },
        "yaxis": {
         "autorange": true,
         "range": [
          -0.5,
          7.5
         ],
         "title": {
          "text": "Y-axis"
         }
        }
       }
      },
      "image/png": "[encoded data removed]",
      "text/html": [
       "<div>                            <div id=\"c3712136-dd94-4dae-bbca-52da93f6edfc\" class=\"plotly-graph-div\" style=\"height:525px; width:100%;\"></div>            <script type=\"text/javascript\">                require([\"plotly\"], function(Plotly) {                    window.PLOTLYENV=window.PLOTLYENV || {};                                    if (document.getElementById(\"c3712136-dd94-4dae-bbca-52da93f6edfc\")) {                    Plotly.newPlot(                        \"c3712136-dd94-4dae-bbca-52da93f6edfc\",                        [{\"colorscale\":[[0.0,\"rgb(207, 89, 126)\"],[0.16666666666666666,\"rgb(232, 132, 113)\"],[0.3333333333333333,\"rgb(238, 180, 121)\"],[0.5,\"rgb(233, 226, 156)\"],[0.6666666666666666,\"rgb(156, 203, 134)\"],[0.8333333333333334,\"rgb(57, 177, 133)\"],[1.0,\"rgb(0, 147, 146)\"]],\"z\":[[0.6611195599819425,0.7089099229831229,0.9154622085842244,0.9149646947515642,0.9245128430971943,0.9073708715228955,0.7004997532364674,0.5145655981805565,0.5876878681711767],[0.7465210867989169,0.576573197979807,0.1183401545206541,0.8000962787087715,0.8628283597287661,0.9673531272957007,0.9126328588077226,0.8233090153289494,0.9301893207737477],[0.7146572830789593,0.6203195739761259,0.6762077844182478,0.6074041651560322,0.6585586591892885,0.8389615997505288,0.7113254892389179,0.7919987934228222,0.8461819518674799],[0.5587216086590874,0.8445265975409196,0.34688029531960163,0.49230230786940593,0.5715398381301033,0.5009158677647831,0.6659451876349463,0.8680122609238594,0.7326850157165894],[0.9271264221934324,0.8483372272992319,0.8122375447438293,0.7974004165433145,0.6220183918813942,0.7729392821108361,0.937010875062686,0.5209811140989622,0.7189675835098952],[0.42185712604433667,0.8065301552022773,0.6342542472742224,0.7167296073639385,0.4766455945713161,0.4156704839304996,0.7372025724189863,0.8320985179347417,0.5111691372806207],[0.7580018469821485,0.893903644548226,0.5551610507895933,0.7406379711800044,0.7285009232543678,0.5896009021309832,0.7911819654180209,0.8942276804990509,0.912719413714753],[0.9337518069378778,0.5615313183763191,0.8116971148084555,0.8191766908486374,0.8986214259564261,0.7462988830344426,0.5963522247741772,0.8419174106004549,0.6151735739201397]],\"zmax\":1,\"zmin\":0,\"type\":\"heatmap\"}],                        {\"template\":{\"data\":{\"histogram2dcontour\":[{\"type\":\"histogram2dcontour\",\"colorbar\":{\"outlinewidth\":0,\"ticks\":\"\"},\"colorscale\":[[0.0,\"#0d0887\"],[0.1111111111111111,\"#46039f\"],[0.2222222222222222,\"#7201a8\"],[0.3333333333333333,\"#9c179e\"],[0.4444444444444444,\"#bd3786\"],[0.5555555555555556,\"#d8576b\"],[0.6666666666666666,\"#ed7953\"],[0.7777777777777778,\"#fb9f3a\"],[0.8888888888888888,\"#fdca26\"],[1.0,\"#f0f921\"]]}],\"choropleth\":[{\"type\":\"choropleth\",\"colorbar\":{\"outlinewidth\":0,\"ticks\":\"\"}}],\"histogram2d\":[{\"type\":\"histogram2d\",\"colorbar\":{\"outlinewidth\":0,\"ticks\":\"\"},\"colorscale\":[[0.0,\"#0d0887\"],[0.1111111111111111,\"#46039f\"],[0.2222222222222222,\"#7201a8\"],[0.3333333333333333,\"#9c179e\"],[0.4444444444444444,\"#bd3786\"],[0.5555555555555556,\"#d8576b\"],[0.6666666666666666,\"#ed7953\"],[0.7777777777777778,\"#fb9f3a\"],[0.8888888888888888,\"#fdca26\"],[1.0,\"#f0f921\"]]}],\"heatmap\":[{\"type\":\"heatmap\",\"colorbar\":{\"outlinewidth\":0,\"ticks\":\"\"},\"colorscale\":[[0.0,\"#0d0887\"],[0.1111111111111111,\"#46039f\"],[0.2222222222222222,\"#7201a8\"],[0.3333333333333333,\"#9c179e\"],[0.4444444444444444,\"#bd3786\"],[0.5555555555555556,\"#d8576b\"],[0.6666666666666666,\"#ed7953\"],[0.7777777777777778,\"#fb9f3a\"],[0.8888888888888888,\"#fdca26\"],[1.0,\"#f0f921\"]]}],\"heatmapgl\":[{\"type\":\"heatmapgl\",\"colorbar\":{\"outlinewidth\":0,\"ticks\":\"\"},\"colorscale\":[[0.0,\"#0d0887\"],[0.1111111111111111,\"#46039f\"],[0.2222222222222222,\"#7201a8\"],[0.3333333333333333,\"#9c179e\"],[0.4444444444444444,\"#bd3786\"],[0.5555555555555556,\"#d8576b\"],[0.6666666666666666,\"#ed7953\"],[0.7777777777777778,\"#fb9f3a\"],[0.8888888888888888,\"#fdca26\"],[1.0,\"#f0f921\"]]}],\"contourcarpet\":[{\"type\":\"contourcarpet\",\"colorbar\":{\"outlinewidth\":0,\"ticks\":\"\"}}],\"contour\":[{\"type\":\"contour\",\"colorbar\":{\"outlinewidth\":0,\"ticks\":\"\"},\"colorscale\":[[0.0,\"#0d0887\"],[0.1111111111111111,\"#46039f\"],[0.2222222222222222,\"#7201a8\"],[0.3333333333333333,\"#9c179e\"],[0.4444444444444444,\"#bd3786\"],[0.5555555555555556,\"#d8576b\"],[0.6666666666666666,\"#ed7953\"],[0.7777777777777778,\"#fb9f3a\"],[0.8888888888888888,\"#fdca26\"],[1.0,\"#f0f921\"]]}],\"surface\":[{\"type\":\"surface\",\"colorbar\":{\"outlinewidth\":0,\"ticks\":\"\"},\"colorscale\":[[0.0,\"#0d0887\"],[0.1111111111111111,\"#46039f\"],[0.2222222222222222,\"#7201a8\"],[0.3333333333333333,\"#9c179e\"],[0.4444444444444444,\"#bd3786\"],[0.5555555555555556,\"#d8576b\"],[0.6666666666666666,\"#ed7953\"],[0.7777777777777778,\"#fb9f3a\"],[0.8888888888888888,\"#fdca26\"],[1.0,\"#f0f921\"]]}],\"mesh3d\":[{\"type\":\"mesh3d\",\"colorbar\":{\"outlinewidth\":0,\"ticks\":\"\"}}],\"scatter\":[{\"fillpattern\":{\"fillmode\":\"overlay\",\"size\":10,\"solidity\":0.2},\"type\":\"scatter\"}],\"parcoords\":[{\"type\":\"parcoords\",\"line\":{\"colorbar\":{\"outlinewidth\":0,\"ticks\":\"\"}}}],\"scatterpolargl\":[{\"type\":\"scatterpolargl\",\"marker\":{\"colorbar\":{\"outlinewidth\":0,\"ticks\":\"\"}}}],\"bar\":[{\"error_x\":{\"color\":\"#2a3f5f\"},\"error_y\":{\"color\":\"#2a3f5f\"},\"marker\":{\"line\":{\"color\":\"#E5ECF6\",\"width\":0.5},\"pattern\":{\"fillmode\":\"overlay\",\"size\":10,\"solidity\":0.2}},\"type\":\"bar\"}],\"scattergeo\":[{\"type\":\"scattergeo\",\"marker\":{\"colorbar\":{\"outlinewidth\":0,\"ticks\":\"\"}}}],\"scatterpolar\":[{\"type\":\"scatterpolar\",\"marker\":{\"colorbar\":{\"outlinewidth\":0,\"ticks\":\"\"}}}],\"histogram\":[{\"marker\":{\"pattern\":{\"fillmode\":\"overlay\",\"size\":10,\"solidity\":0.2}},\"type\":\"histogram\"}],\"scattergl\":[{\"type\":\"scattergl\",\"marker\":{\"colorbar\":{\"outlinewidth\":0,\"ticks\":\"\"}}}],\"scatter3d\":[{\"type\":\"scatter3d\",\"line\":{\"colorbar\":{\"outlinewidth\":0,\"ticks\":\"\"}},\"marker\":{\"colorbar\":{\"outlinewidth\":0,\"ticks\":\"\"}}}],\"scattermapbox\":[{\"type\":\"scattermapbox\",\"marker\":{\"colorbar\":{\"outlinewidth\":0,\"ticks\":\"\"}}}],\"scatterternary\":[{\"type\":\"scatterternary\",\"marker\":{\"colorbar\":{\"outlinewidth\":0,\"ticks\":\"\"}}}],\"scattercarpet\":[{\"type\":\"scattercarpet\",\"marker\":{\"colorbar\":{\"outlinewidth\":0,\"ticks\":\"\"}}}],\"carpet\":[{\"aaxis\":{\"endlinecolor\":\"#2a3f5f\",\"gridcolor\":\"white\",\"linecolor\":\"white\",\"minorgridcolor\":\"white\",\"startlinecolor\":\"#2a3f5f\"},\"baxis\":{\"endlinecolor\":\"#2a3f5f\",\"gridcolor\":\"white\",\"linecolor\":\"white\",\"minorgridcolor\":\"white\",\"startlinecolor\":\"#2a3f5f\"},\"type\":\"carpet\"}],\"table\":[{\"cells\":{\"fill\":{\"color\":\"#EBF0F8\"},\"line\":{\"color\":\"white\"}},\"header\":{\"fill\":{\"color\":\"#C8D4E3\"},\"line\":{\"color\":\"white\"}},\"type\":\"table\"}],\"barpolar\":[{\"marker\":{\"line\":{\"color\":\"#E5ECF6\",\"width\":0.5},\"pattern\":{\"fillmode\":\"overlay\",\"size\":10,\"solidity\":0.2}},\"type\":\"barpolar\"}],\"pie\":[{\"automargin\":true,\"type\":\"pie\"}]},\"layout\":{\"autotypenumbers\":\"strict\",\"colorway\":[\"#636efa\",\"#EF553B\",\"#00cc96\",\"#ab63fa\",\"#FFA15A\",\"#19d3f3\",\"#FF6692\",\"#B6E880\",\"#FF97FF\",\"#FECB52\"],\"font\":{\"color\":\"#2a3f5f\"},\"hovermode\":\"closest\",\"hoverlabel\":{\"align\":\"left\"},\"paper_bgcolor\":\"white\",\"plot_bgcolor\":\"#E5ECF6\",\"polar\":{\"bgcolor\":\"#E5ECF6\",\"angularaxis\":{\"gridcolor\":\"white\",\"linecolor\":\"white\",\"ticks\":\"\"},\"radialaxis\":{\"gridcolor\":\"white\",\"linecolor\":\"white\",\"ticks\":\"\"}},\"ternary\":{\"bgcolor\":\"#E5ECF6\",\"aaxis\":{\"gridcolor\":\"white\",\"linecolor\":\"white\",\"ticks\":\"\"},\"baxis\":{\"gridcolor\":\"white\",\"linecolor\":\"white\",\"ticks\":\"\"},\"caxis\":{\"gridcolor\":\"white\",\"linecolor\":\"white\",\"ticks\":\"\"}},\"coloraxis\":{\"colorbar\":{\"outlinewidth\":0,\"ticks\":\"\"}},\"colorscale\":{\"sequential\":[[0.0,\"#0d0887\"],[0.1111111111111111,\"#46039f\"],[0.2222222222222222,\"#7201a8\"],[0.3333333333333333,\"#9c179e\"],[0.4444444444444444,\"#bd3786\"],[0.5555555555555556,\"#d8576b\"],[0.6666666666666666,\"#ed7953\"],[0.7777777777777778,\"#fb9f3a\"],[0.8888888888888888,\"#fdca26\"],[1.0,\"#f0f921\"]],\"sequentialminus\":[[0.0,\"#0d0887\"],[0.1111111111111111,\"#46039f\"],[0.2222222222222222,\"#7201a8\"],[0.3333333333333333,\"#9c179e\"],[0.4444444444444444,\"#bd3786\"],[0.5555555555555556,\"#d8576b\"],[0.6666666666666666,\"#ed7953\"],[0.7777777777777778,\"#fb9f3a\"],[0.8888888888888888,\"#fdca26\"],[1.0,\"#f0f921\"]],\"diverging\":[[0,\"#8e0152\"],[0.1,\"#c51b7d\"],[0.2,\"#de77ae\"],[0.3,\"#f1b6da\"],[0.4,\"#fde0ef\"],[0.5,\"#f7f7f7\"],[0.6,\"#e6f5d0\"],[0.7,\"#b8e186\"],[0.8,\"#7fbc41\"],[0.9,\"#4d9221\"],[1,\"#276419\"]]},\"xaxis\":{\"gridcolor\":\"white\",\"linecolor\":\"white\",\"ticks\":\"\",\"title\":{\"standoff\":15},\"zerolinecolor\":\"white\",\"automargin\":true,\"zerolinewidth\":2},\"yaxis\":{\"gridcolor\":\"white\",\"linecolor\":\"white\",\"ticks\":\"\",\"title\":{\"standoff\":15},\"zerolinecolor\":\"white\",\"automargin\":true,\"zerolinewidth\":2},\"scene\":{\"xaxis\":{\"backgroundcolor\":\"#E5ECF6\",\"gridcolor\":\"white\",\"linecolor\":\"white\",\"showbackground\":true,\"ticks\":\"\",\"zerolinecolor\":\"white\",\"gridwidth\":2},\"yaxis\":{\"backgroundcolor\":\"#E5ECF6\",\"gridcolor\":\"white\",\"linecolor\":\"white\",\"showbackground\":true,\"ticks\":\"\",\"zerolinecolor\":\"white\",\"gridwidth\":2},\"zaxis\":{\"backgroundcolor\":\"#E5ECF6\",\"gridcolor\":\"white\",\"linecolor\":\"white\",\"showbackground\":true,\"ticks\":\"\",\"zerolinecolor\":\"white\",\"gridwidth\":2}},\"shapedefaults\":{\"line\":{\"color\":\"#2a3f5f\"}},\"annotationdefaults\":{\"arrowcolor\":\"#2a3f5f\",\"arrowhead\":0,\"arrowwidth\":1},\"geo\":{\"bgcolor\":\"white\",\"landcolor\":\"#E5ECF6\",\"subunitcolor\":\"white\",\"showland\":true,\"showlakes\":true,\"lakecolor\":\"white\"},\"title\":{\"x\":0.05},\"mapbox\":{\"style\":\"light\"}}},\"title\":{\"text\":\"Interactive Heatmap of Cosine Similarities for Answers Produced by Claude vs Ground Truth\"},\"xaxis\":{\"title\":{\"text\":\"X-axis\"}},\"yaxis\":{\"title\":{\"text\":\"Y-axis\"}}},                        {\"responsive\": true}                    ).then(function(){\n",
       "                            \n",
       "var gd = document.getElementById('c3712136-dd94-4dae-bbca-52da93f6edfc');\n",
       "var x = new MutationObserver(function (mutations, observer) {{\n",
       "        var display = window.getComputedStyle(gd).display;\n",
       "        if (!display || display === 'none') {{\n",
       "            console.log([gd, 'removed!']);\n",
       "            Plotly.purge(gd);\n",
       "            observer.disconnect();\n",
       "        }}\n",
       "}});\n",
       "\n",
       "// Listen for the removal of the full notebook cells\n",
       "var notebookContainer = gd.closest('#notebook-container');\n",
       "if (notebookContainer) {{\n",
       "    x.observe(notebookContainer, {childList: true});\n",
       "}}\n",
       "\n",
       "// Listen for the clearing of the current output cell\n",
       "var outputEl = gd.closest('.output');\n",
       "if (outputEl) {{\n",
       "    x.observe(outputEl, {childList: true});\n",
       "}}\n",
       "\n",
       "                        })                };                });            </script>        </div>"
      ]
     },
     "metadata": {},
     "output_type": "display_data"
    }
   ],
   "source": [
    "print(\"Creating Cosine Similarity heatmap ...\")\n",
    "import sympy\n",
    "\n",
    "num_questions = 72\n",
    "num_to_eval = 72\n",
    "\n",
    "def find_min_factors(number):\n",
    "    if sympy.isprime(number):\n",
    "        number += 1\n",
    "\n",
    "    while sympy.isprime(number):\n",
    "        number += 1\n",
    "\n",
    "    factors = []\n",
    "    for index in range(2, number):\n",
    "        if number % index == 0:\n",
    "            factors.append((index, number // index))\n",
    "\n",
    "    min_factors = min(factors, key=lambda x: abs(x[0] - x[1]))\n",
    "    return number, min_factors\n",
    "\n",
    "factors = []\n",
    "num_to_eval, factors = find_min_factors(num_to_eval)\n",
    "srows = factors[0]\n",
    "scols = factors[1]\n",
    "\n",
    "num_questions, factors = find_min_factors(num_questions)\n",
    "qrows = factors[0]\n",
    "qcols = factors[1]\n",
    "\n",
    "\n",
    "import plotly.graph_objects as go\n",
    "\n",
    "# Reshape the data into a 2D array (e.g., 4x5 grid)\n",
    "heatmap_data_cohere = np.array(cohere_gt_cosine_sim).reshape(srows, scols)\n",
    "heatmap_data_lama = np.array(lama_gt_cosine_sim).reshape(srows, scols)\n",
    "heatmap_data_claude = np.array(claude_gt_cosine_sim).reshape(srows, scols)\n",
    "\n",
    "# Create the heatmap figure using plotly\n",
    "heatmap_fig_cohere = go.Figure(\n",
    "    data=go.Heatmap(z=heatmap_data_cohere, colorscale=\"temps_r\", zmin=0, zmax=1)\n",
    ")\n",
    "\n",
    "heatmap_fig_lama = go.Figure(\n",
    "    data=go.Heatmap(z=heatmap_data_lama, colorscale=\"temps_r\", zmin=0, zmax=1)\n",
    ")\n",
    "\n",
    "heatmap_fig_claude = go.Figure(\n",
    "    data=go.Heatmap(z=heatmap_data_claude, colorscale=\"temps_r\", zmin=0, zmax=1)\n",
    ")\n",
    "\n",
    "# Customize the layout of the figure (optional)\n",
    "heatmap_fig_cohere.update_layout(\n",
    "    title=\"Interactive Heatmap of Cosine Similarities for Answers Produced by Cohere vs Ground Truth\",\n",
    "    xaxis=dict(title=\"X-axis\"),\n",
    "    yaxis=dict(title=\"Y-axis\"),\n",
    ")\n",
    "\n",
    "heatmap_fig_lama.update_layout(\n",
    "    title=\"Interactive Heatmap of Cosine Similarities for Answers Produced by LLama27B vs Ground Truth\",\n",
    "    xaxis=dict(title=\"X-axis\"),\n",
    "    yaxis=dict(title=\"Y-axis\"),\n",
    ")\n",
    "\n",
    "heatmap_fig_claude.update_layout(\n",
    "    title=\"Interactive Heatmap of Cosine Similarities for Answers Produced by Claude vs Ground Truth\",\n",
    "    xaxis=dict(title=\"X-axis\"),\n",
    "    yaxis=dict(title=\"Y-axis\"),\n",
    ")\n",
    "\n",
    "# Show the interactive heatmap\n",
    "heatmap_fig_lama.show()\n",
    "heatmap_fig_cohere.show()\n",
    "heatmap_fig_claude.show()\n"
   ]
  },
  {
   "cell_type": "markdown",
   "id": "865c4238-6676-42a6-82b9-6d4691614639",
   "metadata": {},
   "source": [
    "# LLM Grader"
   ]
  },
  {
   "cell_type": "code",
   "execution_count": null,
   "id": "8a1776ba-96a1-41a5-94aa-44c809482469",
   "metadata": {
    "tags": []
   },
   "outputs": [],
   "source": [
    "### 3c. LLM evaluation using a mechanism for LLM-assisted evaluation to compare and score the responses \n",
    "### with the help of LLMs using langchain QAEvalChain\n",
    "\n",
    "from langchain.chat_models import BedrockChat\n",
    "from langchain.evaluation.qa import QAEvalChain\n",
    "import time\n",
    "inference_modifier = {\n",
    "    \"max_tokens_to_sample\": 545,\n",
    "    \"temperature\": 0,\n",
    "    \"top_k\": 250,\n",
    "    \"top_p\": 1,\n",
    "    \"stop_sequences\": [\"\\n\\nHuman\"],\n",
    "}\n",
    "\n",
    "llm = BedrockChat(model_id=\"anthropic.claude-v2\", model_kwargs=inference_modifier)\n",
    "\n",
    "eval_chain = QAEvalChain.from_llm(llm)\n",
    "\n",
    "qa_list = [{'query': item['query'], 'answer': item['trainingoutput']} for item in predictions]\n",
    "\n",
    "## to avoid read timeouts split qa_list into chunks and execute eval_chain_evaluate function for each chunk with a wait period in betwwen\n",
    "chunk_size = 50\n",
    "graded_outputs = []\n",
    "qa_chunks = [qa_list[i:i + chunk_size] for i in range(0, len(qa_list), chunk_size)]\n",
    "qa_predictions = [predictions[i:i + chunk_size] for i in range(0, len(predictions), chunk_size)]\n",
    "\n",
    "i = 0\n",
    "print(f'Total # of chunks {len(qa_chunks)}')\n",
    "while i < len(qa_chunks):\n",
    "    print(f'starting chunk {i}')\n",
    "    try:\n",
    "        graded_output_chunk = eval_chain.evaluate(qa_chunks[i], qa_predictions[i], question_key = 'query', prediction_key = 'output')\n",
    "        graded_outputs.append(graded_output_chunk)\n",
    "        # wait between each chunk\n",
    "        time.sleep(60)\n",
    "    except:\n",
    "        print('going to next chunk')\n",
    "        continue\n",
    "    i+=1"
   ]
  },
  {
   "cell_type": "code",
   "execution_count": 374,
   "id": "c56c1409-b9aa-463f-abd7-b56edf725d38",
   "metadata": {
    "tags": []
   },
   "outputs": [],
   "source": [
    "### 3d. Store LLM evaluated metrics in llmevaluationresults table\n",
    "llm_eval_predictions=[]\n",
    "graded_outputs_flat = [item for sublist in graded_outputs for item in sublist]\n",
    "\n",
    "for i, eg in enumerate(graded_outputs_flat):\n",
    "    grade = ''\n",
    "    try:\n",
    "        if 'GRADE: INCORRECT' in str(graded_outputs_flat[i]['results']):\n",
    "            grade = 'INCORRECT'\n",
    "        else:\n",
    "            grade = 'CORRECT'  \n",
    "    except:\n",
    "        print('failed to extract grade')\n",
    "\n",
    "    llm_eval_predictions.append({\n",
    "                \"query\": predictions[i]['query'],\n",
    "                \"llm\": predictions[i]['llm'],\n",
    "                \"context\": predictions[i]['context'],\n",
    "                \"output\": predictions[i]['output'],\n",
    "                \"trainingoutput\": predictions[i]['trainingoutput'],\n",
    "                \"evaluationmetric\": \"LLM-assisted evaluation with Claude\",\n",
    "                \"score\": grade,\n",
    "                \"feedback\": str(graded_outputs_flat[i]['results'])\n",
    "            })\n",
    "table_name = 'llmevaluationresults'\n",
    "save_results_to_dynamodb_table(table_name,llm_eval_predictions)"
   ]
  },
  {
   "cell_type": "code",
   "execution_count": 375,
   "id": "201872ff-fac2-4104-b0dd-8ecaa25cff32",
   "metadata": {
    "tags": []
   },
   "outputs": [],
   "source": [
    "### 3e. evaluating overall model accuracy\n",
    "\n",
    "# Count the number of CORRECT and INCORRECT evaluations for each LLM and evaluation method\n",
    "llm_eval_predictions_df = pd.DataFrame(llm_eval_predictions)\n",
    "\n",
    "# get value of grouby column\n",
    "llm_eval_predictions_df['llm'] = llm_eval_predictions_df['llm'].str.strip()\n",
    "llm_eval_predictions_df['CORRECT_Count'] = llm_eval_predictions_df.groupby('llm')['score'].transform(lambda x: (x == 'CORRECT').sum())\n",
    "llm_eval_predictions_df['INCORRECT_Count'] = llm_eval_predictions_df.groupby('llm')['score'].transform(lambda x: (x == 'INCORRECT').sum())\n",
    "llm_eval_predictions_df['llm_eval_accuracy'] = llm_eval_predictions_df['CORRECT_Count'] / (llm_eval_predictions_df['CORRECT_Count'] + llm_eval_predictions_df['INCORRECT_Count'])\n",
    "llm_eval_predictions_df['TOTAL_Count'] = llm_eval_predictions_df['CORRECT_Count'] + llm_eval_predictions_df['INCORRECT_Count']\n",
    "\n",
    "# remove all columns from dataframe except columns TOTAL_Count, CORRECT_Count, INCORRECT_Count, llm_eval_accuracy\n",
    "llm_eval_predictions_df = llm_eval_predictions_df[['llm','TOTAL_Count', 'CORRECT_Count', 'INCORRECT_Count', 'llm_eval_accuracy']]\n",
    "\n",
    "#remove all duplicate rows from llm_eval_predictions_df\n",
    "llm_eval_predictions_df = llm_eval_predictions_df.drop_duplicates()\n",
    "\n",
    "# Count the number of CORRECT and INCORRECT evaluations for each LLM and evaluation method\n",
    "string_eval_predictions_df = pd.DataFrame(string_eval_predictions)\n",
    "\n",
    "# get value of grouby column\n",
    "string_eval_predictions_df['llm'] = string_eval_predictions_df['llm'].str.strip()\n",
    "string_eval_predictions_df['CORRECT_Count'] = string_eval_predictions_df.groupby('llm')['score'].transform(lambda x: (x == 'CORRECT').sum())\n",
    "string_eval_predictions_df['INCORRECT_Count'] = string_eval_predictions_df.groupby('llm')['score'].transform(lambda x: (x == 'INCORRECT').sum())\n",
    "string_eval_predictions_df['jaccard_eval_accuracy'] = string_eval_predictions_df['CORRECT_Count'] / (string_eval_predictions_df['CORRECT_Count'] + string_eval_predictions_df['INCORRECT_Count'])\n",
    "string_eval_predictions_df['avg_jaccard_similarity'] = string_eval_predictions_df.groupby('llm')['feedback'].transform(lambda x: pd.to_numeric(x).mean())\n",
    "string_eval_predictions_df['TOTAL_Count'] = string_eval_predictions_df['CORRECT_Count'] + string_eval_predictions_df['INCORRECT_Count']\n",
    "\n",
    "# remove all columns from dataframe except columns TOTAL_Count, CORRECT_Count, INCORRECT_Count, llm_eval_accuracy\n",
    "string_eval_predictions_df = string_eval_predictions_df[['llm','TOTAL_Count', 'CORRECT_Count', 'INCORRECT_Count', 'jaccard_eval_accuracy','avg_jaccard_similarity']]\n",
    "\n",
    "#remove all duplicate rows from llm_eval_predictions_df\n",
    "string_eval_predictions_df = string_eval_predictions_df.drop_duplicates()\n",
    "\n",
    "\n",
    "# Count the number of CORRECT and INCORRECT evaluations for each LLM and evaluation method\n",
    "cosine_string_eval_predictions_df = pd.DataFrame(cosine_string_eval_predictions)\n",
    "\n",
    "# get value of grouby column\n",
    "cosine_string_eval_predictions_df['llm'] = cosine_string_eval_predictions_df['llm'].str.strip()\n",
    "cosine_string_eval_predictions_df['CORRECT_Count'] = cosine_string_eval_predictions_df.groupby('llm')['score'].transform(lambda x: (x == 'CORRECT').sum())\n",
    "cosine_string_eval_predictions_df['INCORRECT_Count'] = cosine_string_eval_predictions_df.groupby('llm')['score'].transform(lambda x: (x == 'INCORRECT').sum())\n",
    "cosine_string_eval_predictions_df['cosine_eval_accuracy'] = cosine_string_eval_predictions_df['CORRECT_Count'] / (cosine_string_eval_predictions_df['CORRECT_Count'] + cosine_string_eval_predictions_df['INCORRECT_Count'])\n",
    "cosine_string_eval_predictions_df['avg_cosine_similarity'] = cosine_string_eval_predictions_df.groupby('llm')['feedback'].transform(lambda x: pd.to_numeric(x).mean())\n",
    "cosine_string_eval_predictions_df['TOTAL_Count'] = cosine_string_eval_predictions_df['CORRECT_Count'] + cosine_string_eval_predictions_df['INCORRECT_Count']\n",
    "\n",
    "# remove all columns from dataframe except columns TOTAL_Count, CORRECT_Count, INCORRECT_Count, llm_eval_accuracy\n",
    "cosine_string_eval_predictions_df = cosine_string_eval_predictions_df[['llm','TOTAL_Count', 'CORRECT_Count', 'INCORRECT_Count', 'cosine_eval_accuracy','avg_cosine_similarity']]\n",
    "\n",
    "#remove all duplicate rows from llm_eval_predictions_df\n",
    "cosine_string_eval_predictions_df = cosine_string_eval_predictions_df.drop_duplicates()"
   ]
  },
  {
   "cell_type": "code",
   "execution_count": null,
   "id": "3fcc35e5-d54d-4374-b5e6-a9c4ae402555",
   "metadata": {
    "tags": []
   },
   "outputs": [
    {
     "data": {
      "text/html": [
       "<div>\n",
       "<style scoped>\n",
       "    .dataframe tbody tr th:only-of-type {\n",
       "        vertical-align: middle;\n",
       "    }\n",
       "\n",
       "    .dataframe tbody tr th {\n",
       "        vertical-align: top;\n",
       "    }\n",
       "\n",
       "    .dataframe thead th {\n",
       "        text-align: right;\n",
       "    }\n",
       "</style>\n",
       "<table border=\"1\" class=\"dataframe\">\n",
       "  <thead>\n",
       "    <tr style=\"text-align: right;\">\n",
       "      <th></th>\n",
       "      <th>llm</th>\n",
       "      <th>avg_jaccard_similarity</th>\n",
       "    </tr>\n",
       "  </thead>\n",
       "  <tbody>\n",
       "    <tr>\n",
       "      <th>0</th>\n",
       "      <td>anthropic.claude-v2</td>\n",
       "      <td>0.686452</td>\n",
       "    </tr>\n",
       "    <tr>\n",
       "      <th>198</th>\n",
       "      <td>cohere.command-text-v14</td>\n",
       "      <td>0.639181</td>\n",
       "    </tr>\n",
       "    <tr>\n",
       "      <th>396</th>\n",
       "      <td>jumpstart-dft-meta-textgeneration-llama-2-7b-f</td>\n",
       "      <td>0.673872</td>\n",
       "    </tr>\n",
       "  </tbody>\n",
       "</table>\n",
       "</div>"
      ],
      "text/plain": [
       "                                                llm  avg_jaccard_similarity\n",
       "0                               anthropic.claude-v2                0.686452\n",
       "198                         cohere.command-text-v14                0.639181\n",
       "396  jumpstart-dft-meta-textgeneration-llama-2-7b-f                0.673872"
      ]
     },
     "execution_count": 391,
     "metadata": {},
     "output_type": "execute_result"
    }
   ],
   "source": [
    "# show first 4 rows from jaccard_eval_predictions_df\n",
    "string_eval_predictions_df[['llm','avg_jaccard_similarity']]"
   ]
  },
  {
   "cell_type": "code",
   "execution_count": 393,
   "id": "db03b9e9-beaa-41b5-97e7-aff874fdbff3",
   "metadata": {
    "tags": []
   },
   "outputs": [
    {
     "data": {
      "text/html": [
       "<div>\n",
       "<style scoped>\n",
       "    .dataframe tbody tr th:only-of-type {\n",
       "        vertical-align: middle;\n",
       "    }\n",
       "\n",
       "    .dataframe tbody tr th {\n",
       "        vertical-align: top;\n",
       "    }\n",
       "\n",
       "    .dataframe thead th {\n",
       "        text-align: right;\n",
       "    }\n",
       "</style>\n",
       "<table border=\"1\" class=\"dataframe\">\n",
       "  <thead>\n",
       "    <tr style=\"text-align: right;\">\n",
       "      <th></th>\n",
       "      <th>llm</th>\n",
       "      <th>avg_cosine_similarity</th>\n",
       "    </tr>\n",
       "  </thead>\n",
       "  <tbody>\n",
       "    <tr>\n",
       "      <th>0</th>\n",
       "      <td>anthropic.claude-v2</td>\n",
       "      <td>0.668866</td>\n",
       "    </tr>\n",
       "    <tr>\n",
       "      <th>198</th>\n",
       "      <td>cohere.command-text-v14</td>\n",
       "      <td>0.548595</td>\n",
       "    </tr>\n",
       "    <tr>\n",
       "      <th>396</th>\n",
       "      <td>jumpstart-dft-meta-textgeneration-llama-2-7b-f</td>\n",
       "      <td>0.653786</td>\n",
       "    </tr>\n",
       "  </tbody>\n",
       "</table>\n",
       "</div>"
      ],
      "text/plain": [
       "                                                llm  avg_cosine_similarity\n",
       "0                               anthropic.claude-v2               0.668866\n",
       "198                         cohere.command-text-v14               0.548595\n",
       "396  jumpstart-dft-meta-textgeneration-llama-2-7b-f               0.653786"
      ]
     },
     "execution_count": 393,
     "metadata": {},
     "output_type": "execute_result"
    }
   ],
   "source": [
    "# show first 4 rows from cosine_string_eval_predictions_df\n",
    "cosine_string_eval_predictions_df[['llm','avg_cosine_similarity']]"
   ]
  },
  {
   "cell_type": "code",
   "execution_count": 378,
   "id": "46da58f8-bc9b-40f4-89bd-c406dbb38324",
   "metadata": {
    "tags": []
   },
   "outputs": [
    {
     "data": {
      "text/html": [
       "<div>\n",
       "<style scoped>\n",
       "    .dataframe tbody tr th:only-of-type {\n",
       "        vertical-align: middle;\n",
       "    }\n",
       "\n",
       "    .dataframe tbody tr th {\n",
       "        vertical-align: top;\n",
       "    }\n",
       "\n",
       "    .dataframe thead th {\n",
       "        text-align: right;\n",
       "    }\n",
       "</style>\n",
       "<table border=\"1\" class=\"dataframe\">\n",
       "  <thead>\n",
       "    <tr style=\"text-align: right;\">\n",
       "      <th></th>\n",
       "      <th>llm</th>\n",
       "      <th>TOTAL_Count</th>\n",
       "      <th>CORRECT_Count</th>\n",
       "      <th>INCORRECT_Count</th>\n",
       "      <th>llm_eval_accuracy</th>\n",
       "    </tr>\n",
       "  </thead>\n",
       "  <tbody>\n",
       "    <tr>\n",
       "      <th>0</th>\n",
       "      <td>anthropic.claude-v2</td>\n",
       "      <td>198</td>\n",
       "      <td>185</td>\n",
       "      <td>13</td>\n",
       "      <td>0.934343</td>\n",
       "    </tr>\n",
       "    <tr>\n",
       "      <th>198</th>\n",
       "      <td>cohere.command-text-v14</td>\n",
       "      <td>198</td>\n",
       "      <td>170</td>\n",
       "      <td>28</td>\n",
       "      <td>0.858586</td>\n",
       "    </tr>\n",
       "    <tr>\n",
       "      <th>396</th>\n",
       "      <td>jumpstart-dft-meta-textgeneration-llama-2-7b-f</td>\n",
       "      <td>198</td>\n",
       "      <td>166</td>\n",
       "      <td>32</td>\n",
       "      <td>0.838384</td>\n",
       "    </tr>\n",
       "  </tbody>\n",
       "</table>\n",
       "</div>"
      ],
      "text/plain": [
       "                                                llm  TOTAL_Count  \\\n",
       "0                               anthropic.claude-v2          198   \n",
       "198                         cohere.command-text-v14          198   \n",
       "396  jumpstart-dft-meta-textgeneration-llama-2-7b-f          198   \n",
       "\n",
       "     CORRECT_Count  INCORRECT_Count  llm_eval_accuracy  \n",
       "0              185               13           0.934343  \n",
       "198            170               28           0.858586  \n",
       "396            166               32           0.838384  "
      ]
     },
     "execution_count": 378,
     "metadata": {},
     "output_type": "execute_result"
    }
   ],
   "source": [
    "# show first 4 rows from llm_eval_predictions_df\n",
    "llm_eval_predictions_df.head(4)"
   ]
  },
  {
   "cell_type": "markdown",
   "id": "4015ff5e-ddb2-4b3e-a5f6-01d586d8a25c",
   "metadata": {},
   "source": [
    "LLM-assisted evaluation provides significant better evaluation results compared to string evaluation. Yet it does not provide insights into Faithfulness, Context Precision,Context Recall, Answer Relevancy,or Aspect Critiques), which would also be helpful for a RAG use case like this. This is where libraries like langsmith can be helpful."
   ]
  },
  {
   "cell_type": "code",
   "execution_count": 379,
   "id": "eecf90a4-a386-4462-b0a1-3645831d383d",
   "metadata": {
    "tags": []
   },
   "outputs": [
    {
     "data": {
      "image/png": "[encoded data removed]",
      "text/plain": [
       "<Figure size 640x480 with 1 Axes>"
      ]
     },
     "metadata": {},
     "output_type": "display_data"
    }
   ],
   "source": [
    "### 3e. visualize model accuracy\n",
    "# plot each row' accuracy column in overall_accuracy with matplotlib\n",
    "import matplotlib.pyplot as plt\n",
    "import pandas as pd\n",
    "import numpy as np\n",
    "\n",
    "categories = [\"JaccardSimilarity Grader\", \"CosineSimilarity Grader\", \"LLM Grader\"]\n",
    "dataprep = []\n",
    "for index, row in llm_eval_predictions_df.iterrows():\n",
    "    llm_name = row['llm']\n",
    "    result_df = string_eval_predictions_df[string_eval_predictions_df['llm'] == llm_name]\n",
    "    value = result_df.loc[index, 'jaccard_eval_accuracy']\n",
    "    result2_df = cosine_string_eval_predictions_df[cosine_string_eval_predictions_df['llm'] == llm_name]\n",
    "    value2 = result2_df.loc[index, 'cosine_eval_accuracy']\n",
    "    \n",
    "    dataprep.append([llm_name, pd.to_numeric(value), pd.to_numeric(value2), pd.to_numeric(row['llm_eval_accuracy'])])\n",
    "\n",
    "data = {\n",
    "    'EvaluationMethod': categories,\n",
    "    dataprep[0][0] : dataprep[0][1:],\n",
    "    dataprep[1][0]: dataprep[1][1:],\n",
    "    dataprep[2][0]: dataprep[2][1:]\n",
    "}\n",
    "\n",
    "df = pd.DataFrame(data)\n",
    "\n",
    "# Set the width of the bars and the number of series\n",
    "num_series = len(df.columns) - 1  # Subtract 1 to exclude the 'Category' column\n",
    "bar_width = 0.2\n",
    "bar_positions = np.arange(len(df))\n",
    "\n",
    "# Create a figure and axis\n",
    "fig, ax = plt.subplots()\n",
    "\n",
    "# Plot each series\n",
    "for i, col in enumerate(df.columns[1:]):\n",
    "    offset = (i - (num_series - 1) / 2) * bar_width\n",
    "    ax.bar(bar_positions + offset, df[col], width=bar_width, label=col)\n",
    "\n",
    "# Set x-axis labels\n",
    "ax.set_xticks(bar_positions)\n",
    "ax.set_xticklabels(df['EvaluationMethod'])\n",
    "\n",
    "# Labeling and legend\n",
    "#ax.set_xlabel('Model Evaluation')\n",
    "ax.set_ylabel('Accuracy')\n",
    "ax.set_title('LLM Accuracy')\n",
    "ax.legend()\n",
    "\n",
    "# Show the chart\n",
    "plt.tight_layout()  # Optional: Adjust layout for better spacing\n",
    "plt.show()\n"
   ]
  },
  {
   "cell_type": "markdown",
   "id": "dd243dfa-7eab-4916-868b-243f57af4003",
   "metadata": {
    "tags": []
   },
   "source": [
    "<img src=\"https://d3q8adh3y5sxpk.cloudfront.net/meetingrecordings/modelevaluation/Slide5.jpeg\" alt=\"EvaluatingResults\" width=\"900\" height=\"550\">"
   ]
  },
  {
   "cell_type": "markdown",
   "id": "aa3ef605-2e48-4602-a607-329727a14dc2",
   "metadata": {
    "tags": []
   },
   "source": [
    "<p>Everything we went through in this notebook so far focused on Precision/Accuracy, yet speed and cost are two other important dimensions for model evaluation. </p>\n",
    "\n",
    "### Speed\n",
    "Amazon SageMaker provides Inference Recommender (https://docs.aws.amazon.com/sagemaker/latest/dg/inference-recommender.html), which automates load testing and model tuning across SageMaker ML instances. You can use Inference Recommender to deploy your model to an inference endpoint that delivers the best performance at the lowest cost. Inference Recommender helps you select the best instance type and configuration (such as instance count, container parameters, and model optimizations). \n",
    " \n",
    "Given that this is information extraction and is not part of a real-time workflow, speed is 3rd / no priority in this model selection. \n",
    " \n",
    "### Cost\n",
    "Cohere Command and Claude V2 are available via Amazon Bedrock as LLM as a Service. For latest pricing information, please refer to  \n",
    "https://aws.amazon.com/bedrock/pricing/. \n",
    "\n",
    "Claude Price for 1000 input tokens: 0.00163 dollar  &  Claude Price for 1000 output tokens: 0.00551 dollar\n",
    "<br> \n",
    "Command Claude Price for 1000 input tokens: 0.0015 dollar & Command Price for 1000 output tokens: 0.0020 dollar\n",
    "<br> \n",
    " \n",
    "Assuming an average questions of 100 questions per document, and an average of 25 tokens per question, and 25 tokens per answer, this equates to 0.01785 dollar for Claude and 0.00875 dollar for Command per document. \n",
    "<br> \n",
    " \n",
    "While Llama2 will be available via Amazon Bedrock shortly, Llama2 7B in this test was hosted on a real-time SageMaker inference endpoint (ml.g5.2xlarge) which, assuming 5 seconds per question similar to asynchronous inference occurs 0.20 dollar for a 8 minute runtime. \n",
    " \n",
    "As a result Claude and Command on Amazon Bedrock is more cost effective than using Llama2 7B via SageMaker at a small volume. \n",
    "Yet, at a bigger volume, this can change. For example assuming 1 million documents, the Llama2 7B runtime would be 57.8 days (=5*1000000/60/60/24) with a total cost of 2108 dollar compared to 17850 dollar for Claude or 8750 dollar for Command.\n",
    "</p>"
   ]
  },
  {
   "cell_type": "markdown",
   "id": "1c6c8ca6-57c0-4422-984f-03bef10f2c63",
   "metadata": {},
   "source": [
    "# What can be improved in the evaluation strategy?\n",
    "- Use other metrics than accuracy. Maybe a semantic similarity metric like the one proposed in \"Semantic Answer Similarity for Evaluating Question Answering Models\" (arXiv:2108.06130).\n",
    "\n",
    "- Evaluate each component of the system in isolation. For example evaluate the retrieval system/strategy separately and not just the entire pipeline as a whole. You could evaluate the retrieval system by saving the chunks that were used/are relevant for the actual answer alongside with the questions and answers in the evaluation dataset. Then you can compare/evaluate which top k chunks are being selected during the evaluation and whether or not the retriever selected a chunk with the source truth and at which rank and experiment with the different retriever options and chain types.\n",
    "\n",
    "- Explore chains/parsers/tools in conjunction with LLMs, e.g. contextual compressors & filters in RAG, eparse (https://github.com/ChrisPappalardo/eparse), unstructured (https://github.com/Unstructured-IO/unstructured), and/or Kor (https://eyurtsev.github.io/kor/tutorial.html)\n",
    "\n",
    "- Instead of Claude V2 use a different LLM as Grader, e.g. Falcon 180B, to avoid/minimize bias in the evaluation\n",
    "\n",
    "- If the data permits OpenAI use, then leverage LLM evaluation frameworks such as langsmith, ragas, langtest etc\n",
    "\n",
    "- Incorporate other dimensions such as performance/latency and cost in more detail into the evaluation as well to derive at a cost performance benchmark"
   ]
  },
  {
   "cell_type": "markdown",
   "id": "3b6879cd-dee2-49b9-89bc-e15f5479adc0",
   "metadata": {},
   "source": [
    "# Conclusion\n",
    "- LLMs are here to stay, and the evaluation of LLMs is still evolving, with new research and tooling being released on a regular basis.\n",
    "- While this notebook focused on LLM accuracy, it also highlights the importance of other dimesions such as cost and latency, and outlines a practical approach to large language model evaluation."
   ]
  },
  {
   "cell_type": "markdown",
   "id": "056f0737-9867-4935-94f6-e9bc148ac954",
   "metadata": {},
   "source": [
    "### SCRATCH"
   ]
  },
  {
   "cell_type": "code",
   "execution_count": 13,
   "id": "845a991f-9e6a-48f2-adb1-4da765b1e14c",
   "metadata": {
    "tags": []
   },
   "outputs": [],
   "source": [
    "### alternative version without langchain for creating embeddings\n",
    "\n",
    "def get_embedding(body, modelId, accept, contentType):\n",
    "    response = bedrock_runtime.invoke_model(body=body, modelId=modelId, accept=accept, contentType=contentType)\n",
    "    response_body = json.loads(response.get('body').read())\n",
    "    embedding = response_body.get('embedding')\n",
    "    return embedding\n",
    "\n",
    "def embed_phrase(phrase):\n",
    "    body = json.dumps({\"inputText\": str(phrase)})\n",
    "    modelId = 'amazon.titan-embed-text-v1' #'amazon.titan-e1t-medium' # not available yet\n",
    "    contentType = 'application/json'\n",
    "    accept = 'application/json'\n",
    "    embedding = get_embedding(body, modelId, accept, contentType)\n",
    "    return embedding\n",
    "    \n",
    "def os_import(record, aos_client, index_name):\n",
    "    search_vector = embed_phrase(record)\n",
    "    aos_client.index(index=index_name,\n",
    "             body={\"vector_field\": search_vector,\n",
    "                   \"text\": record\n",
    "                  },\n",
    "            request_timeout=60*3,  # 3 minutes\n",
    "            )\n",
    "\n",
    "def query_opensearch(index_name, phrase, n=1):\n",
    "    search_vector = embed_phrase(phrase)\n",
    "    osquery={\n",
    "        \"_source\": {\n",
    "            \"exclude\": [ \"vector_field\" ]\n",
    "        },\n",
    "        \n",
    "      \"size\": n,\n",
    "      \"query\": {\n",
    "        \"knn\": {\n",
    "          \"vector_field\": {\n",
    "            \"vector\":search_vector,\n",
    "            \"k\":n\n",
    "          }\n",
    "        }\n",
    "      }\n",
    "    }\n",
    "\n",
    "    res = aos_client.search(index=index_name, \n",
    "                           body=osquery,\n",
    "                           stored_fields=[\"text\"],\n",
    "                           explain = True)\n",
    "    print(res)\n",
    "    result = {\n",
    "            \"text\":\"\"\n",
    "        }\n",
    "    if res['hits']['hits']:\n",
    "        top_result = res['hits']['hits'][0]\n",
    "    \n",
    "        result = {\n",
    "            \"text\":top_result['_source']['text'],\n",
    "\n",
    "        }\n",
    "    \n",
    "    return result\n",
    "\n",
    "\n",
    "### test embedding\n",
    "#embed_phrase(\"pairs well with chocolate\")\n",
    "\n",
    "# test insert\n",
    "# token_text_list\n",
    "#for record in char_text_list: \n",
    "#    #print(record.page_content)\n",
    "#    os_import(record.page_content, aos_client, index_name)\n",
    "\n",
    "#for record in token_text_list: \n",
    "    #print(record.page_content)\n",
    "#    os_import(record.page_content, aos_client, index_name)\n",
    "    \n",
    "#for record in token_text_list: \n",
    "#    print(record.page_content)"
   ]
  },
  {
   "cell_type": "code",
   "execution_count": null,
   "id": "299f3f70-a164-4d36-9898-ba45d9898e59",
   "metadata": {
    "tags": []
   },
   "outputs": [],
   "source": [
    "# SageMaker endpoint query\n",
    "\n",
    "sm_client = boto3.client(\"sagemaker\")\n",
    "smr_client = boto3.client(\"sagemaker-runtime\")\n",
    "from sagemaker.predictor import Predictor\n",
    "\n",
    "def query_endpoint(payload, endpoint_name):\n",
    "    \"\"\"Query endpoint and print the response\"\"\"\n",
    "\n",
    "    response_model = smr_client.invoke_endpoint(\n",
    "        EndpointName=endpoint_name,\n",
    "        Body=payload,\n",
    "        ContentType=\"application/json\",\n",
    "    )\n",
    "\n",
    "    generated_text = response_model[\"Body\"].read().decode(\"utf8\")\n",
    "    print(generated_text)\n",
    "\n",
    "\n",
    "payload = json.dumps(\n",
    "    {\n",
    "        \"inputs\": \"What is so special about Amazon?\",\n",
    "        \"parameters\": {\"max_new_tokens\": 126, \"no_repeat_ngram_size\": 3},\n",
    "    }\n",
    ")\n",
    "\n",
    "endpoint_name = \"lmi-model-falcon-7b-2023-08-27-17-52-54-260\"\n",
    "query_endpoint(payload, endpoint_name)"
   ]
  },
  {
   "cell_type": "code",
   "execution_count": 28,
   "id": "15756e76-511a-4928-a5db-c80ac84c56bf",
   "metadata": {
    "tags": []
   },
   "outputs": [],
   "source": [
    "# bedrock helper methods for langchain\n",
    "\n",
    "def get_inference_parameters(model): #return a default set of parameters based on the model's provider\n",
    "    bedrock_model_provider = model.split('.')[0] #grab the model provider from the first part of the model id\n",
    "    \n",
    "    if (bedrock_model_provider == 'anthropic'): #Anthropic model\n",
    "        return { #anthropic\n",
    "            \"max_tokens_to_sample\": 545,\n",
    "            \"temperature\": 0, \n",
    "            \"top_k\": 250, \n",
    "            \"top_p\": 1, \n",
    "            \"stop_sequences\": [\"\\n\\nHuman:\"] \n",
    "           }\n",
    "    \n",
    "    elif (bedrock_model_provider == 'ai21'): #AI21\n",
    "        return { #AI21\n",
    "            \"maxTokens\": 545, \n",
    "            \"temperature\": 0, \n",
    "            \"topP\": 0.5, \n",
    "            \"stopSequences\": [], \n",
    "            \"countPenalty\": {\"scale\": 0 }, \n",
    "            \"presencePenalty\": {\"scale\": 0 }, \n",
    "            \"frequencyPenalty\": {\"scale\": 0 } \n",
    "           }\n",
    "\n",
    "    elif (bedrock_model_provider == 'cohere'):\n",
    "        \n",
    "        return { \n",
    "            \"max_tokens\": 545, \n",
    "            \"temperature\": 0, \n",
    "            \"return_likelihood\": \"GENERATION\",\n",
    "            \"stop_sequences\": [\"\\n\\nHuman:\"],\n",
    "            \n",
    "           }\n",
    "    \n",
    "    else: #Amazon\n",
    "        #For the LangChain Bedrock implementation, these parameters will be added to the \n",
    "        #textGenerationConfig item that LangChain creates for us\n",
    "        return { \n",
    "            \"maxTokenCount\": 545, \n",
    "            \"stopSequences\": [], \n",
    "            \"temperature\": 0, \n",
    "            \"topP\": 0.9 \n",
    "        }\n",
    "\n",
    "def get_text_response(model, input_content): #text-to-text client function\n",
    "    \n",
    "    model_kwargs = get_inference_parameters(model) #get the default parameters based on the selected model\n",
    "    \n",
    "    llm = Bedrock( #create a Bedrock llm client\n",
    "        region_name=os.environ.get(\"BEDROCK_REGION_NAME\"), #sets the region name (if not the default)\n",
    "        endpoint_url=os.environ.get(\"BEDROCK_ENDPOINT_URL\"), #sets the endpoint URL (if necessary)\n",
    "        model_id=model, #use the requested model\n",
    "        model_kwargs = model_kwargs\n",
    "    )\n",
    "    return llm.predict(input_content) #return a response to the prompt"
   ]
  },
  {
   "cell_type": "code",
   "execution_count": null,
   "id": "107a0857-eb00-46cd-8795-ce3333d2b680",
   "metadata": {
    "tags": []
   },
   "outputs": [],
   "source": [
    "# invoke Bedrock models with langchain helper method\n",
    "# cohere.command-text-v14\n",
    "# amazon.titan-text-express-v1\n",
    "# anthropic.claude-v2\n",
    "start = time.time()\n",
    "response = get_text_response(\"anthropic.claude-v2\", \"What is a donut?\")\n",
    "print(response)\n",
    "\n",
    "end = time.time()\n",
    "print(end - start)"
   ]
  },
  {
   "cell_type": "code",
   "execution_count": null,
   "id": "53a2abe7-0968-4a38-a93c-dd9501e25f81",
   "metadata": {
    "tags": []
   },
   "outputs": [],
   "source": [
    "# invoke Bedrock model\n",
    "# cohere.command-text-v14\n",
    "# amazon.titan-text-express-v1\n",
    "# anthropic.claude-v2\n",
    "import json\n",
    "modelId = 'cohere.command-text-v14' # change this to use a different version from the model provider\n",
    "\n",
    "accept = '*/*'\n",
    "contentType = 'application/json'\n",
    "\n",
    "prompt_data = \"\"\"Human: What is a donut?\n",
    "                 Assistant: \n",
    "              \"\"\"\n",
    "\n",
    "model_kwargs = {\n",
    "                \"max_tokens\": 545,\n",
    "                \"temperature\": 0,\n",
    "                \n",
    "               }\n",
    "               \n",
    "model_kwargs[\"prompt\"] = prompt_data\n",
    "body = json.dumps(model_kwargs)\n",
    "\n",
    "response = bedrock_runtime.invoke_model(body=body, modelId=modelId, accept=accept, contentType=contentType)\n",
    "response_body = json.loads(response.get('body').read())\n",
    "print(response_body)\n",
    "print(response_body.get('completion'))"
   ]
  }
 ],
 "metadata": {
  "availableInstances": [
   {
    "_defaultOrder": 0,
    "_isFastLaunch": true,
    "category": "General purpose",
    "gpuNum": 0,
    "hideHardwareSpecs": false,
    "memoryGiB": 4,
    "name": "ml.t3.medium",
    "vcpuNum": 2
   },
   {
    "_defaultOrder": 1,
    "_isFastLaunch": false,
    "category": "General purpose",
    "gpuNum": 0,
    "hideHardwareSpecs": false,
    "memoryGiB": 8,
    "name": "ml.t3.large",
    "vcpuNum": 2
   },
   {
    "_defaultOrder": 2,
    "_isFastLaunch": false,
    "category": "General purpose",
    "gpuNum": 0,
    "hideHardwareSpecs": false,
    "memoryGiB": 16,
    "name": "ml.t3.xlarge",
    "vcpuNum": 4
   },
   {
    "_defaultOrder": 3,
    "_isFastLaunch": false,
    "category": "General purpose",
    "gpuNum": 0,
    "hideHardwareSpecs": false,
    "memoryGiB": 32,
    "name": "ml.t3.2xlarge",
    "vcpuNum": 8
   },
   {
    "_defaultOrder": 4,
    "_isFastLaunch": true,
    "category": "General purpose",
    "gpuNum": 0,
    "hideHardwareSpecs": false,
    "memoryGiB": 8,
    "name": "ml.m5.large",
    "vcpuNum": 2
   },
   {
    "_defaultOrder": 5,
    "_isFastLaunch": false,
    "category": "General purpose",
    "gpuNum": 0,
    "hideHardwareSpecs": false,
    "memoryGiB": 16,
    "name": "ml.m5.xlarge",
    "vcpuNum": 4
   },
   {
    "_defaultOrder": 6,
    "_isFastLaunch": false,
    "category": "General purpose",
    "gpuNum": 0,
    "hideHardwareSpecs": false,
    "memoryGiB": 32,
    "name": "ml.m5.2xlarge",
    "vcpuNum": 8
   },
   {
    "_defaultOrder": 7,
    "_isFastLaunch": false,
    "category": "General purpose",
    "gpuNum": 0,
    "hideHardwareSpecs": false,
    "memoryGiB": 64,
    "name": "ml.m5.4xlarge",
    "vcpuNum": 16
   },
   {
    "_defaultOrder": 8,
    "_isFastLaunch": false,
    "category": "General purpose",
    "gpuNum": 0,
    "hideHardwareSpecs": false,
    "memoryGiB": 128,
    "name": "ml.m5.8xlarge",
    "vcpuNum": 32
   },
   {
    "_defaultOrder": 9,
    "_isFastLaunch": false,
    "category": "General purpose",
    "gpuNum": 0,
    "hideHardwareSpecs": false,
    "memoryGiB": 192,
    "name": "ml.m5.12xlarge",
    "vcpuNum": 48
   },
   {
    "_defaultOrder": 10,
    "_isFastLaunch": false,
    "category": "General purpose",
    "gpuNum": 0,
    "hideHardwareSpecs": false,
    "memoryGiB": 256,
    "name": "ml.m5.16xlarge",
    "vcpuNum": 64
   },
   {
    "_defaultOrder": 11,
    "_isFastLaunch": false,
    "category": "General purpose",
    "gpuNum": 0,
    "hideHardwareSpecs": false,
    "memoryGiB": 384,
    "name": "ml.m5.24xlarge",
    "vcpuNum": 96
   },
   {
    "_defaultOrder": 12,
    "_isFastLaunch": false,
    "category": "General purpose",
    "gpuNum": 0,
    "hideHardwareSpecs": false,
    "memoryGiB": 8,
    "name": "ml.m5d.large",
    "vcpuNum": 2
   },
   {
    "_defaultOrder": 13,
    "_isFastLaunch": false,
    "category": "General purpose",
    "gpuNum": 0,
    "hideHardwareSpecs": false,
    "memoryGiB": 16,
    "name": "ml.m5d.xlarge",
    "vcpuNum": 4
   },
   {
    "_defaultOrder": 14,
    "_isFastLaunch": false,
    "category": "General purpose",
    "gpuNum": 0,
    "hideHardwareSpecs": false,
    "memoryGiB": 32,
    "name": "ml.m5d.2xlarge",
    "vcpuNum": 8
   },
   {
    "_defaultOrder": 15,
    "_isFastLaunch": false,
    "category": "General purpose",
    "gpuNum": 0,
    "hideHardwareSpecs": false,
    "memoryGiB": 64,
    "name": "ml.m5d.4xlarge",
    "vcpuNum": 16
   },
   {
    "_defaultOrder": 16,
    "_isFastLaunch": false,
    "category": "General purpose",
    "gpuNum": 0,
    "hideHardwareSpecs": false,
    "memoryGiB": 128,
    "name": "ml.m5d.8xlarge",
    "vcpuNum": 32
   },
   {
    "_defaultOrder": 17,
    "_isFastLaunch": false,
    "category": "General purpose",
    "gpuNum": 0,
    "hideHardwareSpecs": false,
    "memoryGiB": 192,
    "name": "ml.m5d.12xlarge",
    "vcpuNum": 48
   },
   {
    "_defaultOrder": 18,
    "_isFastLaunch": false,
    "category": "General purpose",
    "gpuNum": 0,
    "hideHardwareSpecs": false,
    "memoryGiB": 256,
    "name": "ml.m5d.16xlarge",
    "vcpuNum": 64
   },
   {
    "_defaultOrder": 19,
    "_isFastLaunch": false,
    "category": "General purpose",
    "gpuNum": 0,
    "hideHardwareSpecs": false,
    "memoryGiB": 384,
    "name": "ml.m5d.24xlarge",
    "vcpuNum": 96
   },
   {
    "_defaultOrder": 20,
    "_isFastLaunch": false,
    "category": "General purpose",
    "gpuNum": 0,
    "hideHardwareSpecs": true,
    "memoryGiB": 0,
    "name": "ml.geospatial.interactive",
    "supportedImageNames": [
     "sagemaker-geospatial-v1-0"
    ],
    "vcpuNum": 0
   },
   {
    "_defaultOrder": 21,
    "_isFastLaunch": true,
    "category": "Compute optimized",
    "gpuNum": 0,
    "hideHardwareSpecs": false,
    "memoryGiB": 4,
    "name": "ml.c5.large",
    "vcpuNum": 2
   },
   {
    "_defaultOrder": 22,
    "_isFastLaunch": false,
    "category": "Compute optimized",
    "gpuNum": 0,
    "hideHardwareSpecs": false,
    "memoryGiB": 8,
    "name": "ml.c5.xlarge",
    "vcpuNum": 4
   },
   {
    "_defaultOrder": 23,
    "_isFastLaunch": false,
    "category": "Compute optimized",
    "gpuNum": 0,
    "hideHardwareSpecs": false,
    "memoryGiB": 16,
    "name": "ml.c5.2xlarge",
    "vcpuNum": 8
   },
   {
    "_defaultOrder": 24,
    "_isFastLaunch": false,
    "category": "Compute optimized",
    "gpuNum": 0,
    "hideHardwareSpecs": false,
    "memoryGiB": 32,
    "name": "ml.c5.4xlarge",
    "vcpuNum": 16
   },
   {
    "_defaultOrder": 25,
    "_isFastLaunch": false,
    "category": "Compute optimized",
    "gpuNum": 0,
    "hideHardwareSpecs": false,
    "memoryGiB": 72,
    "name": "ml.c5.9xlarge",
    "vcpuNum": 36
   },
   {
    "_defaultOrder": 26,
    "_isFastLaunch": false,
    "category": "Compute optimized",
    "gpuNum": 0,
    "hideHardwareSpecs": false,
    "memoryGiB": 96,
    "name": "ml.c5.12xlarge",
    "vcpuNum": 48
   },
   {
    "_defaultOrder": 27,
    "_isFastLaunch": false,
    "category": "Compute optimized",
    "gpuNum": 0,
    "hideHardwareSpecs": false,
    "memoryGiB": 144,
    "name": "ml.c5.18xlarge",
    "vcpuNum": 72
   },
   {
    "_defaultOrder": 28,
    "_isFastLaunch": false,
    "category": "Compute optimized",
    "gpuNum": 0,
    "hideHardwareSpecs": false,
    "memoryGiB": 192,
    "name": "ml.c5.24xlarge",
    "vcpuNum": 96
   },
   {
    "_defaultOrder": 29,
    "_isFastLaunch": true,
    "category": "Accelerated computing",
    "gpuNum": 1,
    "hideHardwareSpecs": false,
    "memoryGiB": 16,
    "name": "ml.g4dn.xlarge",
    "vcpuNum": 4
   },
   {
    "_defaultOrder": 30,
    "_isFastLaunch": false,
    "category": "Accelerated computing",
    "gpuNum": 1,
    "hideHardwareSpecs": false,
    "memoryGiB": 32,
    "name": "ml.g4dn.2xlarge",
    "vcpuNum": 8
   },
   {
    "_defaultOrder": 31,
    "_isFastLaunch": false,
    "category": "Accelerated computing",
    "gpuNum": 1,
    "hideHardwareSpecs": false,
    "memoryGiB": 64,
    "name": "ml.g4dn.4xlarge",
    "vcpuNum": 16
   },
   {
    "_defaultOrder": 32,
    "_isFastLaunch": false,
    "category": "Accelerated computing",
    "gpuNum": 1,
    "hideHardwareSpecs": false,
    "memoryGiB": 128,
    "name": "ml.g4dn.8xlarge",
    "vcpuNum": 32
   },
   {
    "_defaultOrder": 33,
    "_isFastLaunch": false,
    "category": "Accelerated computing",
    "gpuNum": 4,
    "hideHardwareSpecs": false,
    "memoryGiB": 192,
    "name": "ml.g4dn.12xlarge",
    "vcpuNum": 48
   },
   {
    "_defaultOrder": 34,
    "_isFastLaunch": false,
    "category": "Accelerated computing",
    "gpuNum": 1,
    "hideHardwareSpecs": false,
    "memoryGiB": 256,
    "name": "ml.g4dn.16xlarge",
    "vcpuNum": 64
   },
   {
    "_defaultOrder": 35,
    "_isFastLaunch": false,
    "category": "Accelerated computing",
    "gpuNum": 1,
    "hideHardwareSpecs": false,
    "memoryGiB": 61,
    "name": "ml.p3.2xlarge",
    "vcpuNum": 8
   },
   {
    "_defaultOrder": 36,
    "_isFastLaunch": false,
    "category": "Accelerated computing",
    "gpuNum": 4,
    "hideHardwareSpecs": false,
    "memoryGiB": 244,
    "name": "ml.p3.8xlarge",
    "vcpuNum": 32
   },
   {
    "_defaultOrder": 37,
    "_isFastLaunch": false,
    "category": "Accelerated computing",
    "gpuNum": 8,
    "hideHardwareSpecs": false,
    "memoryGiB": 488,
    "name": "ml.p3.16xlarge",
    "vcpuNum": 64
   },
   {
    "_defaultOrder": 38,
    "_isFastLaunch": false,
    "category": "Accelerated computing",
    "gpuNum": 8,
    "hideHardwareSpecs": false,
    "memoryGiB": 768,
    "name": "ml.p3dn.24xlarge",
    "vcpuNum": 96
   },
   {
    "_defaultOrder": 39,
    "_isFastLaunch": false,
    "category": "Memory Optimized",
    "gpuNum": 0,
    "hideHardwareSpecs": false,
    "memoryGiB": 16,
    "name": "ml.r5.large",
    "vcpuNum": 2
   },
   {
    "_defaultOrder": 40,
    "_isFastLaunch": false,
    "category": "Memory Optimized",
    "gpuNum": 0,
    "hideHardwareSpecs": false,
    "memoryGiB": 32,
    "name": "ml.r5.xlarge",
    "vcpuNum": 4
   },
   {
    "_defaultOrder": 41,
    "_isFastLaunch": false,
    "category": "Memory Optimized",
    "gpuNum": 0,
    "hideHardwareSpecs": false,
    "memoryGiB": 64,
    "name": "ml.r5.2xlarge",
    "vcpuNum": 8
   },
   {
    "_defaultOrder": 42,
    "_isFastLaunch": false,
    "category": "Memory Optimized",
    "gpuNum": 0,
    "hideHardwareSpecs": false,
    "memoryGiB": 128,
    "name": "ml.r5.4xlarge",
    "vcpuNum": 16
   },
   {
    "_defaultOrder": 43,
    "_isFastLaunch": false,
    "category": "Memory Optimized",
    "gpuNum": 0,
    "hideHardwareSpecs": false,
    "memoryGiB": 256,
    "name": "ml.r5.8xlarge",
    "vcpuNum": 32
   },
   {
    "_defaultOrder": 44,
    "_isFastLaunch": false,
    "category": "Memory Optimized",
    "gpuNum": 0,
    "hideHardwareSpecs": false,
    "memoryGiB": 384,
    "name": "ml.r5.12xlarge",
    "vcpuNum": 48
   },
   {
    "_defaultOrder": 45,
    "_isFastLaunch": false,
    "category": "Memory Optimized",
    "gpuNum": 0,
    "hideHardwareSpecs": false,
    "memoryGiB": 512,
    "name": "ml.r5.16xlarge",
    "vcpuNum": 64
   },
   {
    "_defaultOrder": 46,
    "_isFastLaunch": false,
    "category": "Memory Optimized",
    "gpuNum": 0,
    "hideHardwareSpecs": false,
    "memoryGiB": 768,
    "name": "ml.r5.24xlarge",
    "vcpuNum": 96
   },
   {
    "_defaultOrder": 47,
    "_isFastLaunch": false,
    "category": "Accelerated computing",
    "gpuNum": 1,
    "hideHardwareSpecs": false,
    "memoryGiB": 16,
    "name": "ml.g5.xlarge",
    "vcpuNum": 4
   },
   {
    "_defaultOrder": 48,
    "_isFastLaunch": false,
    "category": "Accelerated computing",
    "gpuNum": 1,
    "hideHardwareSpecs": false,
    "memoryGiB": 32,
    "name": "ml.g5.2xlarge",
    "vcpuNum": 8
   },
   {
    "_defaultOrder": 49,
    "_isFastLaunch": false,
    "category": "Accelerated computing",
    "gpuNum": 1,
    "hideHardwareSpecs": false,
    "memoryGiB": 64,
    "name": "ml.g5.4xlarge",
    "vcpuNum": 16
   },
   {
    "_defaultOrder": 50,
    "_isFastLaunch": false,
    "category": "Accelerated computing",
    "gpuNum": 1,
    "hideHardwareSpecs": false,
    "memoryGiB": 128,
    "name": "ml.g5.8xlarge",
    "vcpuNum": 32
   },
   {
    "_defaultOrder": 51,
    "_isFastLaunch": false,
    "category": "Accelerated computing",
    "gpuNum": 1,
    "hideHardwareSpecs": false,
    "memoryGiB": 256,
    "name": "ml.g5.16xlarge",
    "vcpuNum": 64
   },
   {
    "_defaultOrder": 52,
    "_isFastLaunch": false,
    "category": "Accelerated computing",
    "gpuNum": 4,
    "hideHardwareSpecs": false,
    "memoryGiB": 192,
    "name": "ml.g5.12xlarge",
    "vcpuNum": 48
   },
   {
    "_defaultOrder": 53,
    "_isFastLaunch": false,
    "category": "Accelerated computing",
    "gpuNum": 4,
    "hideHardwareSpecs": false,
    "memoryGiB": 384,
    "name": "ml.g5.24xlarge",
    "vcpuNum": 96
   },
   {
    "_defaultOrder": 54,
    "_isFastLaunch": false,
    "category": "Accelerated computing",
    "gpuNum": 8,
    "hideHardwareSpecs": false,
    "memoryGiB": 768,
    "name": "ml.g5.48xlarge",
    "vcpuNum": 192
   },
   {
    "_defaultOrder": 55,
    "_isFastLaunch": false,
    "category": "Accelerated computing",
    "gpuNum": 8,
    "hideHardwareSpecs": false,
    "memoryGiB": 1152,
    "name": "ml.p4d.24xlarge",
    "vcpuNum": 96
   },
   {
    "_defaultOrder": 56,
    "_isFastLaunch": false,
    "category": "Accelerated computing",
    "gpuNum": 8,
    "hideHardwareSpecs": false,
    "memoryGiB": 1152,
    "name": "ml.p4de.24xlarge",
    "vcpuNum": 96
   }
  ],
  "instance_type": "ml.m5.large",
  "kernelspec": {
   "display_name": "Python 3 (Data Science 3.0)",
   "language": "python",
   "name": "python3__SAGEMAKER_INTERNAL__arn:aws:sagemaker:us-east-1:081325390199:image/sagemaker-data-science-310-v1"
  },
  "language_info": {
   "codemirror_mode": {
    "name": "ipython",
    "version": 3
   },
   "file_extension": ".py",
   "mimetype": "text/x-python",
   "name": "python",
   "nbconvert_exporter": "python",
   "pygments_lexer": "ipython3",
   "version": "3.10.6"
  },
  "toc-autonumbering": true,
  "toc-showmarkdowntxt": false
 },
 "nbformat": 4,
 "nbformat_minor": 5
}
